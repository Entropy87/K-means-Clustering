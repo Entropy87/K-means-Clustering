{
  "cells": [
    {
      "cell_type": "markdown",
      "metadata": {
        "id": "FkQmF4_vmARk"
      },
      "source": [
        "# **Analysis of big data job requirements based on K-means text clustering in China**\n"
      ]
    },
    {
      "cell_type": "markdown",
      "metadata": {
        "id": "tYfAjjfWmjPo"
      },
      "source": [
        "## **Introduction**\n",
        "\n",
        "As part of this assignment, you will conduct an analysis of job requirements related to big data in China using K-means text clustering. The dataset required for this analysis can be obtained from [https://doi.org/10.1371/journal.pone.0255419](https://doi.org/10.1371/journal.pone.0255419). For more detailed information about the dataset, please refer to the corresponding article at [https://doi.org/10.1371/journal.pone.0255419](https://doi.org/10.1371/journal.pone.0255419). Prior to applying K-means text clustering, it is necessary to preprocess the data. Additionally, after clustering the data, you will need to visualise the clustered data in order to perform data analysis on the resulting cluster groups.\n",
        "\n",
        "##**Task**\n",
        "\n",
        "This notebook consists of two sections that require your input: Data Acquisition and Cluster Data Analysis. In both sections, you will encounter code cells with comments labeled as `# YOUR CODE HERE`, which should be followed by the expected outputs your code cells are supposed to produce. To meet the expected outputs, you should insert your implementations in the designated `# YOUR CODE HERE` sections. Note that if your implementation does not produce the expected output, the corresponding component will be marked as **ZERO**. There are also some questions under text cells for you to answer. You should provide your answers in the same text cell right after the question."
      ]
    },
    {
      "cell_type": "markdown",
      "metadata": {
        "id": "ApFBWQz7lRBe"
      },
      "source": [
        "# **Global Constants**"
      ]
    },
    {
      "cell_type": "code",
      "execution_count": 1,
      "metadata": {
        "id": "UVechoVrklrI"
      },
      "outputs": [],
      "source": [
        "JAVA_HOME = \"/usr/lib/jvm/java-8-openjdk-amd64\"\n",
        "GDRIVE_DIR = \"/content/gdrive\"\n",
        "GDRIVE_HOME_DIR = GDRIVE_DIR + \"/My Drive\"\n",
        "GDRIVE_DATA_DIR = GDRIVE_HOME_DIR + \"/BDC Datasets\"\n",
        "DATASET_URL = \"https://ndownloader.figstatic.com/files/29057940\"\n",
        "GDRIVE_DATASET_FILE = GDRIVE_DATA_DIR + \"/\" + DATASET_URL.split(\"/\")[-1]\n",
        "\n",
        "\n",
        "RANDOM_SEED = 42 # for reproducibility\n",
        "MAX_K_CLUSTERS = 10 # max number of clusters"
      ]
    },
    {
      "cell_type": "markdown",
      "metadata": {
        "id": "cu5tt4lalluX"
      },
      "source": [
        "# **Spark + Google Colab Setup**"
      ]
    },
    {
      "cell_type": "markdown",
      "metadata": {
        "id": "2QzXntPsDHMC"
      },
      "source": [
        "## **1.** Install PySpark and related dependencies"
      ]
    },
    {
      "cell_type": "code",
      "execution_count": 2,
      "metadata": {
        "id": "s96-5pY2lwZR"
      },
      "outputs": [],
      "source": [
        "!pip install -q pyspark\n",
        "# Alternatively, if you want to install a specific version of pyspark:\n",
        "#!pip install -q pyspark==3.2.1\n",
        "!pip install -q -U -q PyDrive # To use files that are stored in Google Drive directly (e.g., without downloading them from an external URL)\n",
        "!apt install -q openjdk-8-jdk-headless -qq\n",
        "import os\n",
        "os.environ[\"JAVA_HOME\"] = JAVA_HOME"
      ]
    },
    {
      "cell_type": "markdown",
      "metadata": {
        "id": "ZgDAwIh5DLXH"
      },
      "source": [
        "## **2.** Import useful Python packages"
      ]
    },
    {
      "cell_type": "code",
      "execution_count": 3,
      "metadata": {
        "id": "7CQx4p6pnA87"
      },
      "outputs": [],
      "source": [
        "import requests\n",
        "import pandas as pd\n",
        "import numpy as np\n",
        "import matplotlib.pyplot as plt\n",
        "import seaborn as sns\n",
        "%matplotlib inline\n",
        "\n",
        "import pyspark\n",
        "from pyspark.sql import *\n",
        "from pyspark.sql.types import *\n",
        "from pyspark.sql.functions import *\n",
        "from pyspark import SparkContext, SparkConf"
      ]
    },
    {
      "cell_type": "markdown",
      "metadata": {
        "id": "mF7LsAx8DS5V"
      },
      "source": [
        "## **3.** Create Spark context"
      ]
    },
    {
      "cell_type": "code",
      "execution_count": 4,
      "metadata": {
        "id": "RCzTjoBAnIWI"
      },
      "outputs": [],
      "source": [
        "# create the session\n",
        "conf = SparkConf().set(\"spark.ui.port\", \"4050\").set('spark.executor.memory', '4G').set('spark.driver.memory', '10G').set('spark.driver.maxResultSize', '10G')\n",
        "\n",
        "# create the context\n",
        "sc = pyspark.SparkContext(conf=conf)\n",
        "spark = SparkSession.builder.getOrCreate()"
      ]
    },
    {
      "cell_type": "markdown",
      "metadata": {
        "id": "tcBFjvapDXkj"
      },
      "source": [
        "## **4.** Link Colab to our Google Drive"
      ]
    },
    {
      "cell_type": "code",
      "execution_count": 5,
      "metadata": {
        "colab": {
          "base_uri": "https://localhost:8080/"
        },
        "id": "xTz3_WQPnP7h",
        "outputId": "a4d11363-2451-40fd-b556-de314334ba10"
      },
      "outputs": [
        {
          "output_type": "stream",
          "name": "stdout",
          "text": [
            "Mounted at /content/gdrive\n"
          ]
        }
      ],
      "source": [
        "# Point Colaboratory to our Google Drive\n",
        "\n",
        "from google.colab import drive\n",
        "\n",
        "drive.mount(GDRIVE_DIR, force_remount=True)"
      ]
    },
    {
      "cell_type": "markdown",
      "metadata": {
        "id": "q5DTh-dqDd95"
      },
      "source": [
        "## **5.** Check everything is ok"
      ]
    },
    {
      "cell_type": "code",
      "execution_count": 6,
      "metadata": {
        "colab": {
          "base_uri": "https://localhost:8080/",
          "height": 219
        },
        "id": "rEiwcvZLD9eo",
        "outputId": "1555e03b-bf05-4898-f446-b978f11c6553"
      },
      "outputs": [
        {
          "output_type": "execute_result",
          "data": {
            "text/plain": [
              "<pyspark.sql.session.SparkSession at 0x7f4ec23415a0>"
            ],
            "text/html": [
              "\n",
              "            <div>\n",
              "                <p><b>SparkSession - in-memory</b></p>\n",
              "                \n",
              "        <div>\n",
              "            <p><b>SparkContext</b></p>\n",
              "\n",
              "            <p><a href=\"http://35ed86b3a31d:4050\">Spark UI</a></p>\n",
              "\n",
              "            <dl>\n",
              "              <dt>Version</dt>\n",
              "                <dd><code>v3.4.0</code></dd>\n",
              "              <dt>Master</dt>\n",
              "                <dd><code>local[*]</code></dd>\n",
              "              <dt>AppName</dt>\n",
              "                <dd><code>pyspark-shell</code></dd>\n",
              "            </dl>\n",
              "        </div>\n",
              "        \n",
              "            </div>\n",
              "        "
            ]
          },
          "metadata": {},
          "execution_count": 6
        }
      ],
      "source": [
        "spark"
      ]
    },
    {
      "cell_type": "code",
      "execution_count": 7,
      "metadata": {
        "colab": {
          "base_uri": "https://localhost:8080/"
        },
        "id": "NTDtm87xE4l1",
        "outputId": "44411a80-af69-4740-cce8-0533c39a184f"
      },
      "outputs": [
        {
          "output_type": "execute_result",
          "data": {
            "text/plain": [
              "[('spark.app.id', 'local-1684500354404'),\n",
              " ('spark.app.startTime', '1684500352409'),\n",
              " ('spark.executor.id', 'driver'),\n",
              " ('spark.driver.host', '35ed86b3a31d'),\n",
              " ('spark.driver.memory', '10G'),\n",
              " ('spark.sql.warehouse.dir', 'file:/content/spark-warehouse'),\n",
              " ('spark.driver.maxResultSize', '10G'),\n",
              " ('spark.app.name', 'pyspark-shell'),\n",
              " ('spark.driver.extraJavaOptions',\n",
              "  '-Djava.net.preferIPv6Addresses=false -XX:+IgnoreUnrecognizedVMOptions --add-opens=java.base/java.lang=ALL-UNNAMED --add-opens=java.base/java.lang.invoke=ALL-UNNAMED --add-opens=java.base/java.lang.reflect=ALL-UNNAMED --add-opens=java.base/java.io=ALL-UNNAMED --add-opens=java.base/java.net=ALL-UNNAMED --add-opens=java.base/java.nio=ALL-UNNAMED --add-opens=java.base/java.util=ALL-UNNAMED --add-opens=java.base/java.util.concurrent=ALL-UNNAMED --add-opens=java.base/java.util.concurrent.atomic=ALL-UNNAMED --add-opens=java.base/sun.nio.ch=ALL-UNNAMED --add-opens=java.base/sun.nio.cs=ALL-UNNAMED --add-opens=java.base/sun.security.action=ALL-UNNAMED --add-opens=java.base/sun.util.calendar=ALL-UNNAMED --add-opens=java.security.jgss/sun.security.krb5=ALL-UNNAMED -Djdk.reflect.useDirectMethodHandle=false'),\n",
              " ('spark.ui.port', '4050'),\n",
              " ('spark.rdd.compress', 'True'),\n",
              " ('spark.driver.port', '40979'),\n",
              " ('spark.app.submitTime', '1684500352217'),\n",
              " ('spark.serializer.objectStreamReset', '100'),\n",
              " ('spark.master', 'local[*]'),\n",
              " ('spark.submit.pyFiles', ''),\n",
              " ('spark.submit.deployMode', 'client'),\n",
              " ('spark.executor.memory', '4G'),\n",
              " ('spark.ui.showConsoleProgress', 'true'),\n",
              " ('spark.executor.extraJavaOptions',\n",
              "  '-Djava.net.preferIPv6Addresses=false -XX:+IgnoreUnrecognizedVMOptions --add-opens=java.base/java.lang=ALL-UNNAMED --add-opens=java.base/java.lang.invoke=ALL-UNNAMED --add-opens=java.base/java.lang.reflect=ALL-UNNAMED --add-opens=java.base/java.io=ALL-UNNAMED --add-opens=java.base/java.net=ALL-UNNAMED --add-opens=java.base/java.nio=ALL-UNNAMED --add-opens=java.base/java.util=ALL-UNNAMED --add-opens=java.base/java.util.concurrent=ALL-UNNAMED --add-opens=java.base/java.util.concurrent.atomic=ALL-UNNAMED --add-opens=java.base/sun.nio.ch=ALL-UNNAMED --add-opens=java.base/sun.nio.cs=ALL-UNNAMED --add-opens=java.base/sun.security.action=ALL-UNNAMED --add-opens=java.base/sun.util.calendar=ALL-UNNAMED --add-opens=java.security.jgss/sun.security.krb5=ALL-UNNAMED -Djdk.reflect.useDirectMethodHandle=false')]"
            ]
          },
          "metadata": {},
          "execution_count": 7
        }
      ],
      "source": [
        "sc._conf.getAll()"
      ]
    },
    {
      "cell_type": "markdown",
      "metadata": {
        "id": "bYhgzHoFFWWP"
      },
      "source": [
        "# **Data Acquisition**"
      ]
    },
    {
      "cell_type": "code",
      "execution_count": 8,
      "metadata": {
        "id": "CXRS53tLFTUl"
      },
      "outputs": [],
      "source": [
        "def get_data(dataset_url, dest, chunk_size=1024):\n",
        "  response = requests.get(dataset_url, stream=True)\n",
        "  if response.status_code == 200:\n",
        "    with open(dest, \"wb\") as file:\n",
        "      for block in response.iter_content(chunk_size=chunk_size): \n",
        "        if block: \n",
        "          file.write(block)"
      ]
    },
    {
      "cell_type": "code",
      "execution_count": 9,
      "metadata": {
        "colab": {
          "base_uri": "https://localhost:8080/"
        },
        "id": "ZWuRTC6IFh9I",
        "outputId": "3ef0489a-fd3c-4c46-87d0-a15115f6531c"
      },
      "outputs": [
        {
          "output_type": "stream",
          "name": "stdout",
          "text": [
            "Retrieving dataset from URL: https://ndownloader.figstatic.com/files/29057940 ...\n",
            "Dataset successfully retrieved and stored at: /content/gdrive/My Drive/BDC Datasets/29057940\n"
          ]
        }
      ],
      "source": [
        "print(\"Retrieving dataset from URL: {} ...\".format(DATASET_URL))\n",
        "get_data(DATASET_URL, GDRIVE_DATASET_FILE)\n",
        "print(\"Dataset successfully retrieved and stored at: {}\".format(GDRIVE_DATASET_FILE))"
      ]
    },
    {
      "cell_type": "markdown",
      "metadata": {
        "id": "AhPFNCQfKQtf"
      },
      "source": [
        "### Read dataset file into a Spark Dataframe\n",
        "\n",
        "\n"
      ]
    },
    {
      "cell_type": "code",
      "execution_count": 10,
      "metadata": {
        "id": "1AcC5rzbKMEI"
      },
      "outputs": [],
      "source": [
        "advert_df = pd.read_excel(io=GDRIVE_DATASET_FILE, engine='openpyxl')\n",
        "advert_df = spark.createDataFrame(advert_df)\n",
        "advert_df.cache();"
      ]
    },
    {
      "cell_type": "markdown",
      "metadata": {
        "id": "jyhOkhy-K55X"
      },
      "source": [
        "\n",
        "### Check the shape of the loaded dataset, i.e., the numbers of rows and columns [1 Mark] "
      ]
    },
    {
      "cell_type": "code",
      "execution_count": 11,
      "metadata": {
        "colab": {
          "base_uri": "https://localhost:8080/"
        },
        "id": "VRgKtrEEKhny",
        "outputId": "df62cf20-ca54-46f1-feb8-969463af76cf"
      },
      "outputs": [
        {
          "output_type": "stream",
          "name": "stdout",
          "text": [
            "The shape of the dataset is 16551 rows by 7 columns\n"
          ]
        }
      ],
      "source": [
        "print(\"The shape of the dataset is {:d} rows by {:d} columns\".format(advert_df.count(), len(advert_df.columns)))"
      ]
    },
    {
      "cell_type": "markdown",
      "metadata": {
        "id": "uDws3PQQLWsf"
      },
      "source": [
        "### Print out the schema of the loaded dataset [1 Mark]"
      ]
    },
    {
      "cell_type": "code",
      "execution_count": 12,
      "metadata": {
        "colab": {
          "base_uri": "https://localhost:8080/"
        },
        "id": "uksbn88cLOHN",
        "outputId": "a2855216-bc4d-4ea6-d25a-3419a446e254"
      },
      "outputs": [
        {
          "output_type": "stream",
          "name": "stdout",
          "text": [
            "root\n",
            " |-- Job title: string (nullable = true)\n",
            " |-- Salary range: string (nullable = true)\n",
            " |-- Location 1: string (nullable = true)\n",
            " |-- Location 2: string (nullable = true)\n",
            " |-- Experience requirement: string (nullable = true)\n",
            " |-- Education requirements: string (nullable = true)\n",
            " |-- Job requirements: string (nullable = true)\n",
            "\n"
          ]
        }
      ],
      "source": [
        "advert_df.printSchema()"
      ]
    },
    {
      "cell_type": "markdown",
      "metadata": {
        "id": "qtX1haxCwMkv"
      },
      "source": [
        "### Display the first 10 rows of the dataset [1 Mark]"
      ]
    },
    {
      "cell_type": "code",
      "execution_count": 13,
      "metadata": {
        "colab": {
          "base_uri": "https://localhost:8080/"
        },
        "id": "E9i3bc8TwLXs",
        "outputId": "b48ce606-22de-462e-f64c-c123fb283f99"
      },
      "outputs": [
        {
          "output_type": "stream",
          "name": "stdout",
          "text": [
            "+--------------------+--------------------+----------+--------------------+----------------------+----------------------+----------------+\n",
            "|           Job title|        Salary range|Location 1|          Location 2|Experience requirement|Education requirements|Job requirements|\n",
            "+--------------------+--------------------+----------+--------------------+----------------------+----------------------+----------------+\n",
            "|Internet data sal...|    15,000 to 20,000|   Beijing|             Beiyuan|             3-5 years|        Junior college|       Full time|\n",
            "|Internet data sal...|    15,000 to 20,000|   Beijing|             Beiyuan|             3-5 years|        Junior college|       Full time|\n",
            "|Research and Deve...|    15,000 to 20,000|   Beijing|western informal ...|             3-5 years|                master|       Full time|\n",
            "|Procurement data ...|7 thousand-12 tho...|   Beijing|  Gaobeidian village|             1-3 years|        Junior college|       Full time|\n",
            "|Product Manager (...|15 thousand-25 th...|   Beijing|   Fengtai Gymnasium|            5-10 years|  Undergraduate course|       Full time|\n",
            "|Data analysis ass...|6 thousand -9 tho...|   Beijing|       chao yang men|          Under 1 year|  Undergraduate course|       Full time|\n",
            "|E-commerce Operat...|7 thousand-10 tho...|   Beijing|   Weifang community|             1-3 years|  Undergraduate course|       Full time|\n",
            "|Data product manager|    15,000 to 20,000|   Beijing|            Houshayu|             3-5 years|  Undergraduate course|       Full time|\n",
            "|        data analyst|8 thousand-12 tho...|   Beijing|            Houshayu|             1-3 years|  Undergraduate course|       Full time|\n",
            "|  Big data architect|    20,000 to 30,000|   Beijing|          Deshengmen|            5-10 years|        Junior college|       Full time|\n",
            "+--------------------+--------------------+----------+--------------------+----------------------+----------------------+----------------+\n",
            "only showing top 10 rows\n",
            "\n"
          ]
        }
      ],
      "source": [
        "advert_df.show(10)"
      ]
    },
    {
      "cell_type": "markdown",
      "metadata": {
        "id": "0bwXcvzrww9b"
      },
      "source": [
        "### Count the number of records with any missing value (i.e., `NULL`, `NAN`, etc. ) along all columns [2 Marks]"
      ]
    },
    {
      "cell_type": "code",
      "execution_count": 14,
      "metadata": {
        "colab": {
          "base_uri": "https://localhost:8080/"
        },
        "id": "WED9hISWfpWu",
        "outputId": "9cfa0907-cd89-4e3f-bf0c-3f39b0a6bff2"
      },
      "outputs": [
        {
          "output_type": "stream",
          "name": "stdout",
          "text": [
            "+---------+------------+----------+----------+----------------------+----------------------+----------------+\n",
            "|Job title|Salary range|Location 1|Location 2|Experience requirement|Education requirements|Job requirements|\n",
            "+---------+------------+----------+----------+----------------------+----------------------+----------------+\n",
            "|        0|           0|         0|      1073|                     0|                     0|               0|\n",
            "+---------+------------+----------+----------+----------------------+----------------------+----------------+\n",
            "\n"
          ]
        }
      ],
      "source": [
        "advert_df.select([count(when(isnan(c), c)).alias(c) for c in advert_df.columns]).show()"
      ]
    },
    {
      "cell_type": "markdown",
      "metadata": {
        "id": "bUtMT-EKkWsK"
      },
      "source": [
        "### Show the corresponding 10 `NULL` and `NAN` entry/ies [1 Mark]"
      ]
    },
    {
      "cell_type": "code",
      "execution_count": 15,
      "metadata": {
        "colab": {
          "base_uri": "https://localhost:8080/"
        },
        "id": "3umpgoEAkfRp",
        "outputId": "d95b8e4d-e908-499f-87a5-54e54b0f65e3"
      },
      "outputs": [
        {
          "output_type": "stream",
          "name": "stdout",
          "text": [
            "+--------------------+--------------------+----------+----------+----------------------+----------------------+--------------------+\n",
            "|           Job title|        Salary range|Location 1|Location 2|Experience requirement|Education requirements|    Job requirements|\n",
            "+--------------------+--------------------+----------+----------+----------------------+----------------------+--------------------+\n",
            "|     camera operator|4 thousand -6 tho...|   Xi ' an|       NaN|             Ring Road|             1-3 years|      Junior college|\n",
            "|    Data entry clerk|     2.8 -4 thousand|   Xi ' an|       NaN|           Zhangjiabao|             1-3 years|Technical seconda...|\n",
            "|Quality control s...|4 thousand -7 tho...|   Xi ' an|       NaN|           Xishao gate|  Experience is unl...|      Junior college|\n",
            "|Data Processing S...|4 thousand -6 tho...|   Xi ' an|       NaN|                Xiguan|  Experience is unl...|      Junior college|\n",
            "|Data entry specia...|6 thousand -8 tho...|   Xi ' an|       NaN|           Xishao gate|  Experience is unl...|Education is not ...|\n",
            "|Consultant (Power...|8 thousand-16 tho...|   Xi ' an|       NaN|             Yuhuazhai|             3-5 years|Undergraduate course|\n",
            "|  Big data architect|15 thousand-25 th...|   Xi ' an|       NaN|          Gaoke garden|             3-5 years|Undergraduate course|\n",
            "|4-8K financial da...|5 thousand -8 tho...|   Xi ' an|       NaN|         tang yan road|  Experience is unl...|Undergraduate course|\n",
            "|Data analyst assi...|6 thousand -8 tho...|   Xi ' an|       NaN|  Xi'an Jiaotong Un...|  Experience is unl...|      Junior college|\n",
            "|Data analysis spe...|4 thousand -6 tho...|   Xi ' an|       NaN|              Wuli pai|             1-3 years|      Junior college|\n",
            "+--------------------+--------------------+----------+----------+----------------------+----------------------+--------------------+\n",
            "only showing top 10 rows\n",
            "\n"
          ]
        }
      ],
      "source": [
        "#Since we know that location 2 is the only NULL and NAN column \n",
        "advert_df.where(isnan(col(\"Location 2\"))).show(10)"
      ]
    },
    {
      "cell_type": "markdown",
      "metadata": {
        "id": "E75iw3i0mDyG"
      },
      "source": [
        "### Remove `NULL` and `NAN` entry/ies  [2 Marks]"
      ]
    },
    {
      "cell_type": "code",
      "execution_count": 16,
      "metadata": {
        "colab": {
          "base_uri": "https://localhost:8080/"
        },
        "id": "bsuZUsaZmJQx",
        "outputId": "ce5111b9-062f-46fe-bfb7-62fd7bf9a5dc"
      },
      "outputs": [
        {
          "output_type": "stream",
          "name": "stdout",
          "text": [
            "The shape of the dataset is 15478 rows by 7 columns\n"
          ]
        }
      ],
      "source": [
        "advert_df = advert_df.where(~isnan(col(\"Location 2\")))\n",
        "print(\"The shape of the dataset is {:d} rows by {:d} columns\".format(advert_df.count(), len(advert_df.columns)))"
      ]
    },
    {
      "cell_type": "markdown",
      "metadata": {
        "id": "bM5VYG1ro7oQ"
      },
      "source": [
        "### Count the number of duplicate job adverts (if any) [2 Marks]\n"
      ]
    },
    {
      "cell_type": "code",
      "execution_count": 17,
      "metadata": {
        "colab": {
          "base_uri": "https://localhost:8080/"
        },
        "id": "xvPO0vAhpAHv",
        "outputId": "2cb5dc9c-8f25-4a91-9241-eb6461daf68a"
      },
      "outputs": [
        {
          "output_type": "stream",
          "name": "stdout",
          "text": [
            "The total number of duplicated job adverts 1013 out of 15478\n"
          ]
        }
      ],
      "source": [
        "print(\"The total number of duplicated job adverts {:d} out of {:d}\".\n",
        "      format(advert_df.count() - advert_df.dropDuplicates().count(), advert_df.count()))"
      ]
    },
    {
      "cell_type": "markdown",
      "metadata": {
        "id": "ZPHNeCqrrTPs"
      },
      "source": [
        "### Display all duplicate job adverts  [2 Marks]\n"
      ]
    },
    {
      "cell_type": "code",
      "execution_count": 18,
      "metadata": {
        "colab": {
          "base_uri": "https://localhost:8080/"
        },
        "id": "geotYGBirYGe",
        "outputId": "1e896967-a742-4bb9-eef2-02025e157c89"
      },
      "outputs": [
        {
          "output_type": "stream",
          "name": "stdout",
          "text": [
            "+----------------------+--------------------+--------------------+--------------------+----------------------+----------------------+-------------------+-----+\n",
            "|             Job title|        Salary range|          Location 1|          Location 2|Experience requirement|Education requirements|   Job requirements|count|\n",
            "+----------------------+--------------------+--------------------+--------------------+----------------------+----------------------+-------------------+-----+\n",
            "|  The data entry st...|4 thousand -6 tho...|Xihu District, Ha...|           West lake|  Experience is unl...|           High school|          Full time|    7|\n",
            "|  Data communicatio...|4 thousand -8 tho...|           Changchun|               Linhe|             1-3 years|        Junior college|          Full time|    6|\n",
            "|  The data entry st...|4 thousand -6 tho...|Xihu District, Ha...|                Xixi|  Experience is unl...|           High school|          Full time|    5|\n",
            "|  Financial data an...|6 thousand -8 tho...|              Dalian|      Zhongshan Road|             1-3 years|  Undergraduate course|          Full time|    5|\n",
            "|  Japanese data pro...|Two thousand-four...|              Dalian| Maritime University|  Experience is unl...|  Education is not ...|          Full time|    5|\n",
            "|  Data product manager|10 thousand-15 th...|             Beijing|          Guangqumen|          Under 1 year|  Undergraduate course|          Full time|    4|\n",
            "|          data analyst|10 thousand-15 th...|             Beijing|          Guangqumen|  Experience is unl...|        Junior college|          Full time|    4|\n",
            "|      Statistics Clerk|4 thousand -6 tho...|              Dalian|             Dongcai|             1-3 years|  Undergraduate course|          Full time|    4|\n",
            "|          data analyst|10 thousand-15 th...|            Shenzhen|Science and techn...|             1-3 years|  Undergraduate course|          Full time|    4|\n",
            "|  Data warehouse de...|          8000-15000|           Changchun|   Nanling Mountains|             3-5 years|  Undergraduate course|          Full time|    4|\n",
            "|  Big data developm...|    15,000 to 20,000|            Shenzhen|       Shopping park|             3-5 years|        Junior college|          Full time|    4|\n",
            "|  Urgent recruitmen...|   3.5 -5.5 thousand|Dalian high-tech ...|          Huoju road|  Experience is unl...|  Technical seconda...|          Full time|    3|\n",
            "|        Data operation|6 thousand -8 tho...|Dalian high-tech ...|          Huoju road|  Experience is unl...|        Junior college|          Full time|    3|\n",
            "|  Data Auditor (dou...|4 thousand -6 tho...|Dalian high-tech ...|          Huoju road|  Experience is unl...|  Technical seconda...|          Full time|    3|\n",
            "|  Data requirement ...|4 thousand -6 tho...|              Dalian|          Huoju road|  Experience is unl...|        Junior college|          Full time|    3|\n",
            "|     Data statistician|4 thousand -6 tho...|              Dalian|      Zhongshan Road|             1-3 years|        Junior college|          Full time|    3|\n",
            "|  English data anal...|4 thousand -6 tho...|              Dalian|       Software park|             1-3 years|  Undergraduate course|          Full time|    3|\n",
            "|  IT Data Analysis ...|   3.5 -5.5 thousand|              Dalian|          Huoju road|  Experience is unl...|  Education is not ...|          Full time|    3|\n",
            "|  Real Estate Busin...|6 thousand -8 tho...|              Dalian|      Zhongshan Road|             1-3 years|  Undergraduate course|          Full time|    3|\n",
            "|        Data processor|Two thousand-four...|Shahekou District...|      Zhongshan Road|          Under 1 year|        Junior college|          Full time|    3|\n",
            "|     Big data analysis|          Negotiable|              Dalian|      Zhongshan Road|             1-3 years|  Undergraduate course|          Full time|    3|\n",
            "|  datician\\data min...|4 thousand -8 tho...|              Dalian|         White cloud|             1-3 years|        Junior college|          Full time|    3|\n",
            "|  Urgent employment...|     4.5 -6 thousand|              Dalian|      Zhongshan Road|             1-3 years|  Undergraduate course|          Full time|    3|\n",
            "|     Data statistician|4 thousand -6 tho...|Xigang District, ...|      Zhongshan Road|  Experience is unl...|           High school|          Full time|    3|\n",
            "|  Sales data analys...|8 thousand-10 tho...|Ganjingzi Distric...|       Spring willow|  Experience is unl...|  Undergraduate course|          Full time|    3|\n",
            "|  Data Analysis Spe...|4 thousand -6 tho...|Shahekou District...|          Xinghaiwan|             1-3 years|  Undergraduate course|          Full time|    3|\n",
            "|  Java development ...|          8000-15000|              Dalian| Maritime University|             3-5 years|  Undergraduate course|          Full time|    3|\n",
            "|       Data annotation|           1.5k-2.5k|Dalian high-tech ...|        Huangpu road|          inexperience|        Junior college|         Internship|    3|\n",
            "|  Data Audit Entry ...|   3.5 -5.5 thousand|Dalian high-tech ...|          Huoju road|  Experience is unl...|  Technical seconda...|          Full time|    3|\n",
            "|  Big data analyst ...|5 thousand -9 tho...|              Dalian|      Zhongshan Road|  Experience is unl...|  Education is not ...|          Full time|    3|\n",
            "|  European and Amer...|8 thousand-10 tho...|Dalian high-tech ...|          Qixianling|             3-5 years|        Junior college|          Full time|    3|\n",
            "|     Data statistician|4 thousand -6 tho...|              Dalian|    Zhongshan square|             3-5 years|        Junior college|          Full time|    3|\n",
            "|  Data analyst (tec...|6 thousand -8 tho...|Zhongshan Distric...|      Shanping steet|             1-3 years|  Undergraduate course|          Full time|    3|\n",
            "|  JAVA software tra...|8 thousand-10 tho...|              Dalian| Golden Pebble Beach|             3-5 years|  Undergraduate course|          Full time|    3|\n",
            "|  Recruitment of Da...|   3.5 -5.5 thousand|              Dalian|          Huoju road|  Experience is unl...|        Junior college|          Full time|    3|\n",
            "|  (Part-time) Chann...|8 thousand-10 tho...|              Dalian|          Qixianling|             1-3 years|        Junior college|Part-time/temporary|    3|\n",
            "|     Data statistician|3 thousand -4 tho...|              Dalian|   Liangjiadian town|             1-3 years|        Junior college|          Full time|    3|\n",
            "|  2021 Dalian Big D...|Two thousand-four...|Dalian high-tech ...|        Huangpu road|          inexperience|  Undergraduate course|             Campus|    3|\n",
            "|   Purchase data entry|Two thousand-four...|Ganjingzi Distric...|       Spring willow|  Experience is unl...|        Junior college|          Full time|    3|\n",
            "|  Government Projec...|    13,000 to 18,000|              Dalian|       Software park|             3-5 years|        Junior college|          Full time|    3|\n",
            "|  Senior data analy...|    30,000 to 50,000|              Dalian|       Software park|            5-10 years|                master|          Full time|    3|\n",
            "|  Urgent recruitmen...|   3.5 -5.5 thousand|Dalian high-tech ...|          Huoju road|  Experience is unl...|  Technical seconda...|          Full time|    3|\n",
            "|  Financial product...|4 thousand -6 tho...|Dalian high-tech ...|          Qixianling|             1-3 years|        Junior college|          Full time|    3|\n",
            "|  Data analysis ass...|3 thousand -4.5 t...|              Dalian|      Zhongshan Road|             1-3 years|  Undergraduate course|          Full time|    3|\n",
            "|    Big data architect|    20,000 to 30,000|Dalian high-tech ...|          Xinghaiwan|  Experience is unl...|  Undergraduate course|          Full time|    3|\n",
            "|  Procurement data ...|4 thousand -6 tho...|Dalian developmen...|          Dongjiagou|             1-3 years|  Undergraduate course|          Full time|    3|\n",
            "|    Sales data analyst|5 thousand-10 tho...|              Dalian|        Shuangd port|             3-5 years|  Undergraduate course|          Full time|    3|\n",
            "|  Big data developm...|8 thousand-12 tho...|Shahekou District...|          Xinghaiwan|             1-3 years|  Undergraduate course|          Full time|    3|\n",
            "|     Data statistician|3 thousand -4 tho...|              Dalian|      Zhongshan Road|  Experience is unl...|        Junior college|          Full time|    3|\n",
            "|       Data specialist|8 thousand-16 tho...|Shahekou District...|             Liaoshi|             1-3 years|  Undergraduate course|          Full time|    3|\n",
            "|  Data annotation i...|Two thousand-four...|Dalian high-tech ...|          Huoju road|          inexperience|  Undergraduate course|          Full time|    3|\n",
            "|  Big data developm...|        7,000-14,000|Shahekou District...|      Zhongshan Road|             3-5 years|  Undergraduate course|          Full time|    3|\n",
            "|          data analyst|8 thousand-10 tho...|              Dalian|     civil liberties|  Experience is unl...|        Junior college|          Full time|    3|\n",
            "|  Financial product...|8 thousand-10 tho...|Zhongshan Distric...|             Zhanbei|             1-3 years|        Junior college|          Full time|    3|\n",
            "|  Data product manager|8 thousand-13 tho...|Dalian high-tech ...|          Qixianling|            5-10 years|  Undergraduate course|          Full time|    3|\n",
            "|       Data annotation|          Negotiable|              Dalian|       Software park|          inexperience|        Junior college|         Internship|    3|\n",
            "|  Big data developm...|    15,000 to 30,000|              Dalian|             Neusoft|  Experience is unl...|  Education is not ...|          Full time|    3|\n",
            "|  Java engineer (da...|8 thousand-10 tho...|Dalian high-tech ...|            Lingshui|             3-5 years|        Junior college|          Full time|    3|\n",
            "|  Data analyst spec...|4 thousand -6 tho...|Shahekou District...|          Xinghaiwan|             1-3 years|  Undergraduate course|          Full time|    3|\n",
            "|    Big data architect|    20,000 to 30,000|Dalian high-tech ...|          Qixianling|  Experience is unl...|  Undergraduate course|          Full time|    3|\n",
            "|  Data analysis spe...|4 thousand -6 tho...|Zhongshan Distric...|         Erqi square|             1-3 years|  Undergraduate course|          Full time|    3|\n",
            "|   Sales data analysis|4 thousand -6 tho...|Shahekou District...|   Yellow river road|             1-3 years|        Junior college|          Full time|    3|\n",
            "|  Technology- Big D...|          Negotiable|              Dalian|          Huoju road|             3-5 years|        Junior college|          Full time|    3|\n",
            "|          data analyst|8 thousand-10 tho...|              Dalian|       Software park|             1-3 years|  Undergraduate course|          Full time|    3|\n",
            "|  Big Data Cloud Co...|4 thousand -6 tho...|              Dalian|      Jiefang Square|  Experience is unl...|        Junior college|          Full time|    3|\n",
            "|  DWH Support/ data...|15 thousand-25 th...|              Dalian|             Neusoft|             3-5 years|        Junior college|          Full time|    3|\n",
            "|  Data development ...|8 thousand-10 tho...|Dalian high-tech ...|        Huangpu road|             1-3 years|        Junior college|          Full time|    3|\n",
            "|  Japanese data pro...|5.5 thousand -7 t...|Ganjingzi Distric...|           Xinzhaizi|  Experience is unl...|        Junior college|          Full time|    3|\n",
            "|  Data analysis spe...|4 thousand -6 tho...|Dalian high-tech ...|          Huoju road|  Experience is unl...|        Junior college|          Full time|    3|\n",
            "|       IT data auditor|4 thousand -6 tho...|Dalian high-tech ...|          Huoju road|  Experience is unl...|  Technical seconda...|          Full time|    3|\n",
            "|  Recruitment of Da...|4 thousand -6 tho...|              Dalian|          Huoju road|  Experience is unl...|  Education is not ...|          Full time|    3|\n",
            "|          data analyst|8 thousand-10 tho...|Zhongshan Distric...|             Zhanbei|  Experience is unl...|        Junior college|          Full time|    3|\n",
            "|  Big data developm...|          Negotiable|              Dalian|      Zhongshan Road|             1-3 years|  Undergraduate course|          Full time|    3|\n",
            "|  Data Clerk (Civil...|          Negotiable|Ganjingzi Distric...|           Xinzhaizi|             1-3 years|        Junior college|          Full time|    3|\n",
            "|  Japanese Data Pro...|4 thousand -6 tho...|              Dalian|       Software park|             1-3 years|        Junior college|          Full time|    3|\n",
            "|  Data Analysis Aud...|4 thousand -6 tho...|              Dalian|          Huoju road|  Experience is unl...|  Education is not ...|          Full time|    3|\n",
            "|     data manipulation|6 thousand -8 tho...|Dalian high-tech ...|          Huoju road|  Experience is unl...|        Junior college|          Full time|    3|\n",
            "|  Big Data Product ...|          Negotiable|              Dalian|     civil liberties|            5-10 years|  Undergraduate course|          Full time|    3|\n",
            "|  Data announcer (9...|4 thousand -6 tho...|               Jinan|Convention and Ex...|  Experience is unl...|        Junior college|          Full time|    3|\n",
            "|  Data analysis spe...|   3.5 -5.5 thousand|Dalian high-tech ...|          Huoju road|  Experience is unl...|  Technical seconda...|          Full time|    3|\n",
            "|  Data Specialist (...|     2.5 -5 thousand|Dalian developmen...| Golden Pebble Beach|             1-3 years|        Junior college|          Full time|    3|\n",
            "|        Data processor|3 thousand -3.5 t...|Shahekou District...|      Zhongshan Road|  Experience is unl...|        Junior college|          Full time|    3|\n",
            "|  Java development ...|6 thousand -8 tho...|              Dalian|            Lingshui|             3-5 years|  Undergraduate course|          Full time|    3|\n",
            "|  Independent resea...|15 thousand-25 th...|              Dalian|          Huoju road|            5-10 years|        Junior college|          Full time|    3|\n",
            "|  Data capture engi...|3 thousand -6 tho...|              Dalian|          Qixianling|             1-3 years|        Junior college|          Full time|    3|\n",
            "|  Data Operations D...|    15,000 to 30,000|Minhang District,...|        pujiang town|             3-5 years|  Undergraduate course|          Full time|    3|\n",
            "|  Independent resea...|10 thousand-15 th...|              Dalian|       Software park|             3-5 years|        Junior college|          Full time|    3|\n",
            "|  Data Analyst- dat...|10 thousand-15 th...|              Dalian|             Neusoft|  Experience is unl...|  Undergraduate course|          Full time|    3|\n",
            "|  Urgent employment...|4 thousand -6 tho...|              Dalian|      Zhongshan Road|             1-3 years|  Undergraduate course|          Full time|    3|\n",
            "|  Data center custo...|           2.5k-3.5k|Zhongshan Distric...|    Zhongshan square|             1-3 years|  Undergraduate course|          Full time|    3|\n",
            "|  Mechanical data c...|Two thousand-four...|Shahekou District...|       Software park|             1-3 years|        Junior college|          Full time|    3|\n",
            "|  Japanese drug dat...|5 thousand -9 tho...|              Dalian|          Huoju road|  Experience is unl...|  Education is not ...|          Full time|    3|\n",
            "|  Japanese Enterpri...|4 thousand -6 tho...|Dalian high-tech ...|          Qixianling|  Experience is unl...|        Junior college|          Full time|    3|\n",
            "|          data analyst|8 thousand-12 tho...|              Dalian|         Renmin Road|          Under 1 year|        Junior college|          Full time|    3|\n",
            "|  Data development ...|8 thousand-10 tho...|              Dalian|      Zhongshan Road|  Experience is unl...|  Undergraduate course|          Full time|    3|\n",
            "|  Big data developm...|10 thousand-15 th...|              Dalian|             Liaoshi|             3-5 years|  Undergraduate course|          Full time|    3|\n",
            "|  Data product manager|          8000-14000|              Dalian|          Huoju road|             3-5 years|  Undergraduate course|          Full time|    3|\n",
            "|       Data evaluation|          Negotiable|              Dalian|      Zhongshan Road|             1-3 years|  Undergraduate course|          Full time|    3|\n",
            "|  Data processing (...|3 thousand -3.5 t...|Shahekou District...|      Zhongshan Road|  Experience is unl...|        Junior college|          Full time|    3|\n",
            "|    Big data architect|    18,000 to 25,000|              Dalian|          Huoju road|            5-10 years|  Undergraduate course|          Full time|    3|\n",
            "|  Software sales ma...|          8000-15000|            Hangzhou|           West lake|  Experience is unl...|        Junior college|          Full time|    3|\n",
            "|  Looking for a dat...|   3.5 -5.5 thousand|              Dalian|          Huoju road|  Experience is unl...|        Junior college|          Full time|    3|\n",
            "|     Data statistician|6 thousand -8 tho...|              Dalian|             Airport|             3-5 years|  Undergraduate course|          Full time|    3|\n",
            "|  Data Analyst Mana...|    20,000 to 30,000|Dalian high-tech ...|          Huoju road|            5-10 years|        Junior college|          Full time|    3|\n",
            "|  Big data developm...|6 thousand -8 tho...|              Dalian|      Zhongshan Road|             1-3 years|  Undergraduate course|          Full time|    3|\n",
            "|        Data processor|3 thousand -6 tho...|              Dalian|      Zhongshan Road|  Experience is unl...|        Junior college|          Full time|    3|\n",
            "|  Big data developm...|4 thousand -6 tho...|Dalian high-tech ...|          Huoju road|  Experience is unl...|        Junior college|          Full time|    3|\n",
            "|  Japanese Data Pro...|4 thousand -6 tho...|              Dalian|          Huoju road|  Experience is unl...|        Junior college|          Full time|    3|\n",
            "|  Data Operations A...|4 thousand -6 tho...|              Dalian|         South China|          inexperience|        Junior college|         Internship|    3|\n",
            "|  Big data developm...|          8000-15000|              Dalian|          Huoju road|             3-5 years|  Undergraduate course|          Full time|    3|\n",
            "|          data analyst|6 thousand -8 tho...|Dalian high-tech ...|          Huoju road|  Experience is unl...|  Undergraduate course|          Full time|    3|\n",
            "|  Big data developm...|8 thousand-11 tho...|              Dalian|         Erqi square|             3-5 years|        Junior college|          Full time|    3|\n",
            "|  Sales data analys...|    15,000 to 20,000|              Dalian|       Software park|  Experience is unl...|  Undergraduate course|          Full time|    3|\n",
            "|  Chief Expert of S...|    50,000 to 70,000|Dalian high-tech ...|          Huoju road|            5-10 years|                master|          Full time|    3|\n",
            "|  Big data developm...|    15,000 to 20,000|Yuhuatai District...|            Xiaohang|             3-5 years|  Undergraduate course|          Full time|    3|\n",
            "|  Independent R&D P...|10 thousand-18 th...|              Dalian|          Huoju road|             3-5 years|  Undergraduate course|          Full time|    3|\n",
            "|           Data entry.|     3.5 -6 thousand|Dalian developmen...|          Dongjiagou|             1-3 years|  Undergraduate course|          Full time|    3|\n",
            "|  Audit and analysi...|4 thousand -6 tho...|              Dalian|          Huoju road|  Experience is unl...|        Junior college|          Full time|    3|\n",
            "|  Data processor (e...|Two thousand-four...|Shahekou District...|      Zhongshan Road|          inexperience|  Undergraduate course|          Full time|    3|\n",
            "|  Japanese data ana...|     3.5 -6 thousand|Dalian high-tech ...|          Huoju road|  Experience is unl...|        Junior college|          Full time|    3|\n",
            "|  Java development ...|8 thousand-10 tho...|Dalian high-tech ...|            Lingshui|             3-5 years|        Junior college|          Full time|    3|\n",
            "|       Data specialist|3 thousand -5 tho...|Dalian high-tech ...| Maritime University|  Experience is unl...|  Education is not ...|          Full time|    3|\n",
            "|  Information/Mathe...|4 thousand -6 tho...|Dalian high-tech ...|          Huoju road|  Experience is unl...|  Technical seconda...|          Full time|    3|\n",
            "|  Japanese Process ...|4 thousand -6 tho...|Dalian high-tech ...|          Qixianling|             1-3 years|        Junior college|          Full time|    3|\n",
            "|  Data engineer intern|Two thousand-four...|Shahekou District...|       Software park|          inexperience|  Undergraduate course|         Internship|    3|\n",
            "|  Big data developm...|    20,000 to 30,000|Dalian high-tech ...|        Huangpu road|            5-10 years|  Undergraduate course|          Full time|    3|\n",
            "|          Data analyst|           3.5k-4.5k|Dalian developmen...|            Advanced|             3-5 years|  Technical seconda...|          Full time|    3|\n",
            "|  Famous Top 500 Fo...|4 thousand -8 tho...|              Dalian|       Software park|  Experience is unl...|        Junior college|          Full time|    3|\n",
            "|  Assistant data co...|4 thousand -6 tho...|              Dalian|          Huoju road|  Experience is unl...|        Junior college|          Full time|    3|\n",
            "|  Real estate busin...|6 thousand -8 tho...|              Dalian|      Zhongshan Road|             1-3 years|  Undergraduate course|          Full time|    3|\n",
            "|  Software Test Qua...|    14,000 to 18,000|              Dalian|       Software park|            5-10 years|  Undergraduate course|          Full time|    3|\n",
            "|  Big data development|10 thousand-15 th...|              Dalian|          Qixianling|             3-5 years|        Junior college|          Full time|    3|\n",
            "|          Data analyst|Two thousand-four...|Ganjingzi Distric...|               Malan|             1-3 years|        Junior college|          Full time|    3|\n",
            "|         Data engineer|8 thousand-10 tho...|              Dalian|          Qixianling|             3-5 years|  Undergraduate course|          Full time|    3|\n",
            "|  Technology- data ...|          Negotiable|              Dalian|       Software park|            5-10 years|        Junior college|          Full time|    3|\n",
            "|  Image data collec...|4 thousand -6 tho...|Dalian high-tech ...|          Qixianling|  Experience is unl...|  Undergraduate course|          Full time|    3|\n",
            "|  Big data algorith...|          Negotiable|              Dalian|      Zhongshan Road|  Experience is unl...|  Undergraduate course|          Full time|    3|\n",
            "|  Urgent recruitmen...|   3.5 -5.5 thousand|Dalian high-tech ...|          Huoju road|  Experience is unl...|  Technical seconda...|          Full time|    3|\n",
            "|   Data analysis clerk|4 thousand -6 tho...|              Dalian|          Huoju road|  Experience is unl...|        Junior college|          Full time|    3|\n",
            "|  Data product manager|10 thousand-15 th...|Shahekou District...|       Software park|            5-10 years|  Undergraduate course|          Full time|    3|\n",
            "|  Big data developm...|10 thousand-18 th...|              Dalian|      Zhongshan Road|             3-5 years|  Undergraduate course|          Full time|    3|\n",
            "|  Data processor-da...|Two thousand-four...|              Dalian|      Zhongshan Road|  Experience is unl...|        Junior college|          Full time|    3|\n",
            "|  A clerk (data ana...|3 thousand -4.5 t...|              Dalian|      Zhongshan Road|             1-3 years|  Undergraduate course|          Full time|    3|\n",
            "|  Data Processing o...|Two thousand-four...|              Dalian|Polytechnic unive...|  Experience is unl...|  Education is not ...|          Full time|    3|\n",
            "|       Data specialist|3 thousand -4.5 t...|              Dalian|      Zhongshan Road|  Experience is unl...|        Junior college|          Full time|    3|\n",
            "|  Financial data sp...|8 thousand-10 tho...|Shahekou District...|       Software park|             1-3 years|  Undergraduate course|          Full time|    3|\n",
            "|  Junior middle-lev...|6 thousand-10 tho...|Shahekou District...|      Zhongshan Road|             1-3 years|  Undergraduate course|          Full time|    3|\n",
            "|  Recruitment of Co...|   3.5 -5.5 thousand|              Dalian|          Huoju road|  Experience is unl...|        Junior college|          Full time|    3|\n",
            "|  Senior Data Opera...|5 thousand -6.5 t...|              Dalian|      Zhongshan Road|             1-3 years|  Undergraduate course|          Full time|    3|\n",
            "|  Data annotation i...|          Negotiable|              Dalian|       Software park|  Experience is unl...|        Junior college|          Full time|    3|\n",
            "|  Big data developm...|10 thousand-15 th...|               Jinan|Convention and Ex...|             3-5 years|  Undergraduate course|          Full time|    3|\n",
            "|  Senior data produ...|          Negotiable|             Beijing|            Wangjing|             1-3 years|  Undergraduate course|          Full time|    3|\n",
            "|  Data analysis ass...|   4.6 -5.8 thousand|              Dalian|          Huoju road|  Experience is unl...|        Junior college|          Full time|    3|\n",
            "|  Big data developm...|4 thousand -6 tho...|              Dalian|            Lingshui|  Experience is unl...|        Junior college|          Full time|    3|\n",
            "|  Data Analyst (San...|4 thousand -8 tho...|Zhongshan Distric...|         Tiger Beach|             1-3 years|  Undergraduate course|          Full time|    3|\n",
            "|  Data development ...|8 thousand-13 tho...|              Dalian|               Lijia|  Experience is unl...|  Undergraduate course|          Full time|    3|\n",
            "|  Data Processing o...|7 thousand-12 tho...|Shahekou District...|       Software park|             1-3 years|  Technical seconda...|          Full time|    3|\n",
            "|  Senior Java devel...|10 thousand-15 th...|              Dalian| Maritime University|             3-5 years|        Junior college|          Full time|    3|\n",
            "|  AI data annotatio...|          Negotiable|Shahekou District...|       Software park|          inexperience|        Junior college|          Full time|    3|\n",
            "|   Sales data analysis|6 thousand -8 tho...|              Dalian|      Zhongshan Road|  Experience is unl...|        Junior college|          Full time|    3|\n",
            "|  Big data developm...|    12,000 to 20,000|Dalian high-tech ...|        Huangpu road|             3-5 years|  Undergraduate course|          Full time|    3|\n",
            "|          data analyst|8 thousand-12 tho...|              Dalian|          Qixianling|             3-5 years|  Undergraduate course|          Full time|    3|\n",
            "|          Data analyst|10 thousand-15 th...|              Dalian|      Zhongshan Road|             3-5 years|  Undergraduate course|          Full time|    3|\n",
            "|  Data center opera...|10 thousand-15 th...|              Dalian|     civil liberties|  Experience is unl...|        Junior college|          Full time|    3|\n",
            "|  Data acquisition ...|3 thousand -6 tho...|Ganjingzi Distric...|           Xinzhaizi|             1-3 years|        Junior college|          Full time|    3|\n",
            "|  Senior developmen...|10 thousand-20 th...|Shahekou District...|      Zhongshan Road|             3-5 years|  Undergraduate course|          Full time|    3|\n",
            "|  (part-time) data ...|8 thousand-10 tho...|              Dalian|          Qixianling|             1-3 years|        Junior college|Part-time/temporary|    3|\n",
            "|  Big Data and Indu...|10 thousand-20 th...|              Dalian|           Xiangyang|             3-5 years|  Undergraduate course|          Full time|    3|\n",
            "|  Head of data cent...|    15,000 to 20,000|              Dalian|    Zhongshan square|         Over 10 years|  Undergraduate course|          Full time|    3|\n",
            "|  Big data developm...|4 thousand -6 tho...|              Dalian|          Qixianling|  Experience is unl...|        Junior college|          Full time|    3|\n",
            "|  Japanese input (J...|     2.5 -5 thousand|              Dalian|       Youhao square|  Experience is unl...|  Education is not ...|          Full time|    3|\n",
            "|       data processing|3 thousand -5 tho...|              Dalian|          Xinghaiwan|  Experience is unl...|        Junior college|          Full time|    3|\n",
            "|     Data statistician|4 thousand -6 tho...|              Dalian|      Zhongshan Road|          Under 1 year|  Technical seconda...|          Full time|    3|\n",
            "|  Data Processing o...|Two thousand-four...|              Dalian|Polytechnic unive...|  Experience is unl...|  Education is not ...|          Full time|    3|\n",
            "|        Data processor|3 thousand -4 tho...|              Dalian|      Zhongshan Road|  Experience is unl...|        Junior college|          Full time|    3|\n",
            "|  Senior position i...|    15,000 to 20,000|Shahekou District...|      Xinghai Square|            5-10 years|  Undergraduate course|          Full time|    3|\n",
            "|  Big data developm...|    15,000 to 20,000|Ganjingzi Distric...|          Qixianling|             3-5 years|  Undergraduate course|          Full time|    3|\n",
            "|  Technology-Bigdat...|          Negotiable|              Dalian|       Software park|            5-10 years|        Junior college|          Full time|    3|\n",
            "|     Data statistician|4 thousand -6 tho...|              Dalian|      Zhongshan Road|             3-5 years|        Junior college|          Full time|    3|\n",
            "|        Data processor|Two thousand-four...|              Dalian|      Zhongshan Road|          Under 1 year|        Junior college|          Full time|    3|\n",
            "|  Japanese and Engl...|6 thousand -8 tho...|Shahekou District...|       Software park|  Experience is unl...|        Junior college|          Full time|    3|\n",
            "|        Data processor|4 thousand -6 tho...|Zhongshan Distric...|    Zhongshan square|             1-3 years|  Undergraduate course|          Full time|    3|\n",
            "|  Data development ...|5 thousand-10 tho...|              Dalian|    Zhongshan square|             3-5 years|  Undergraduate course|          Full time|    3|\n",
            "|  Japanese Biomedic...|4 thousand -7 tho...|              Dalian|          Qixianling|  Experience is unl...|  Education is not ...|          Full time|    3|\n",
            "|  Lanzhou data analyst|8 thousand-10 tho...|              Dalian|          Huoju road|             3-5 years|  Undergraduate course|          Full time|    3|\n",
            "|  Data/Picture Exam...|4 thousand -6 tho...|              Dalian|          Huoju road|  Experience is unl...|        Junior college|          Full time|    3|\n",
            "|  5G Cloud Computin...|4 thousand -6 tho...|           Changchun|The Middle East M...|  Experience is unl...|  Education is not ...|          Full time|    3|\n",
            "|  Data warehouse ar...|          8000-15000|           Changchun|High tech Develop...|             3-5 years|  Undergraduate course|          Full time|    3|\n",
            "|  Technical Directo...|    15,000 to 20,000|           Changchun|     People's street|         Over 10 years|  Undergraduate course|          Full time|    3|\n",
            "|  Data warehouse /E...|5 thousand-10 tho...|           Changchun|          Jingyuetan|             3-5 years|  Undergraduate course|          Full time|    3|\n",
            "|  Operational data ...|7 thousand-12 tho...|Chaoyang District...|              Puyang|  Experience is unl...|        Junior college|          Full time|    3|\n",
            "|  Market Big Data S...|4 thousand -6 tho...|           Changchun|               Xinfa|  Experience is unl...|  Education is not ...|          Full time|    3|\n",
            "|  Data information ...|3.5 thousand -5 t...|           Changchun|Nanguan passenger...|  Experience is unl...|        Junior college|          Full time|    3|\n",
            "|  The data developm...|4 thousand -6 tho...|           Changchun|         Xi 'an road|  Experience is unl...|  Education is not ...|          Full time|    3|\n",
            "|  8k big data analy...|          8000-15000|           Changchun|     People's street|  Experience is unl...|        Junior college|          Full time|    3|\n",
            "|     Big data engineer|6 thousand -8 tho...|           Changchun|        happy street|             1-3 years|  Undergraduate course|          Full time|    3|\n",
            "|  Data management e...|4 thousand -6 tho...|Changchun High-te...|High tech Develop...|             3-5 years|  Undergraduate course|          Full time|    3|\n",
            "|  Customer service ...|4 thousand -6 tho...|           Changchun|Nanguan passenger...|             1-3 years|  Undergraduate course|          Full time|    3|\n",
            "|  School Recruitmen...|5 thousand -8 tho...|Nanguan District,...|               Xinfa|          inexperience|  Undergraduate course|          Full time|    3|\n",
            "|    Data analysis post|4 thousand -6 tho...|           Changchun|               Pearl|          inexperience|  Undergraduate course|          Full time|    3|\n",
            "|  School Recruitmen...|10 thousand-15 th...|Nanguan District,...|     People's street|          inexperience|  Undergraduate course|             Campus|    3|\n",
            "|            Data clerk|4 thousand -6 tho...|Kuancheng Distric...|            Zhanqian|             3-5 years|        Junior college|          Full time|    3|\n",
            "|  Enterprises direc...|8 thousand-10 tho...|Kuancheng Distric...|        Kaixuan road|          inexperience|  Technical seconda...|          Full time|    3|\n",
            "|  Big data developm...|4 thousand -6 tho...|           Changchun|   Nanling Mountains|             1-3 years|  Undergraduate course|          Full time|    3|\n",
            "|  5G engineering ne...|4 thousand -6 tho...|           Changchun|         Xi 'an road|  Experience is unl...|  Education is not ...|          Full time|    3|\n",
            "|            Data clerk|4 thousand -6 tho...|           Changchun|             Hsinchu|  Experience is unl...|  Technical seconda...|          Full time|    3|\n",
            "|  Big data algorith...|10 thousand-15 th...|           Changchun|           Net month|             3-5 years|  Undergraduate course|          Full time|    3|\n",
            "|  Data communicatio...|4 thousand -8 tho...|Nanguan District,...|               Linhe|             1-3 years|        Junior college|          Full time|    3|\n",
            "|  Internet software...|4 thousand -8 tho...|           Changchun|    Societe Generale|  Experience is unl...|  Education is not ...|          Full time|    3|\n",
            "|  Data analysis eng...|10 thousand-12 th...|Changchun High-te...|      Qianjin avenue|             3-5 years|  Undergraduate course|          Full time|    3|\n",
            "|  Python data analysis|6 thousand -8 tho...|Nanguan District,...|               Pearl|             1-3 years|  Undergraduate course|          Full time|    3|\n",
            "|  Commissioner of E...|4 thousand -6 tho...|           Changchun|         Xi 'an road|  Experience is unl...|  Education is not ...|          Full time|    3|\n",
            "|  Data analysis spe...|4 thousand -6 tho...|Changchun High-te...|High tech Develop...|             3-5 years|  Undergraduate course|          Full time|    3|\n",
            "|    Stock data analyst|6 thousand -8 tho...|           Changchun|              Puyang|          Under 1 year|  Education is not ...|          Full time|    3|\n",
            "|  5G engineering ne...|4 thousand -6 tho...|           Changchun|      Dongnanhu road|  Experience is unl...|  Education is not ...|          Full time|    3|\n",
            "|  Data development ...|8 thousand-10 tho...|Changchun Economi...|          Ziyou road|             3-5 years|  Undergraduate course|          Full time|    3|\n",
            "|  Product Director ...|    15,000 to 20,000|           Changchun|     People's street|         Over 10 years|  Undergraduate course|          Full time|    3|\n",
            "|  Big Data Analyst-...|8 thousand-10 tho...|           Changchun|           east wind|             3-5 years|        Junior college|          Full time|    3|\n",
            "|  8-12k big data an...|          8000-15000|           Changchun|     People's street|  Experience is unl...|        Junior college|          Full time|    3|\n",
            "|  Big data lecturer...|8 thousand-10 tho...|           Changchun|High tech Develop...|             1-3 years|        Junior college|          Full time|    3|\n",
            "|  Big data developm...|10 thousand-15 th...|           Changchun|           Net month|             1-3 years|  Undergraduate course|          Full time|    3|\n",
            "|  Data analysis spe...|3 thousand -6 tho...|           Changchun|              Qinghe|  Experience is unl...|  Undergraduate course|          Full time|    3|\n",
            "|  Data analysis spe...|3 thousand -5 tho...|Kuancheng Distric...|               Tiexi|             1-3 years|        Junior college|          Full time|    3|\n",
            "|  Teachers of Big D...|4 thousand -6 tho...|           Changchun|      Qianjin avenue|  Experience is unl...|  Undergraduate course|          Full time|    3|\n",
            "|  Big data artifici...|          8000-15000|           Changchun|               Baiju|             3-5 years|  Undergraduate course|          Full time|    3|\n",
            "|  bigdata analyst/d...|5 thousand-10 tho...|           Changchun|   Nanling Mountains|             3-5 years|  Undergraduate course|          Full time|    3|\n",
            "|  Big Data Developm...|8 thousand -9 tho...|Changchun Economi...|High tech Develop...|             1-3 years|  Education is not ...|          Full time|    3|\n",
            "|  Data test 4.5K we...|4 thousand -6 tho...|           Changchun|          Ziyou road|  Experience is unl...|  Technical seconda...|          Full time|    3|\n",
            "|  Financial data an...|6 thousand -8 tho...|             Tianjin|              Nanshi|             1-3 years|        Junior college|          Full time|    3|\n",
            "|  Sales data assistant|3 thousand -4 tho...|           Changchun|           Net month|  Experience is unl...|        Junior college|          Full time|    3|\n",
            "|  Data Implementati...|10 thousand-15 th...|           Changchun|Northeast Normal ...|             3-5 years|        Junior college|          Full time|    3|\n",
            "|  Big Data Operatio...|6 thousand-12 tho...|           Changchun|           Net month|             3-5 years|  Undergraduate course|          Full time|    3|\n",
            "|  bigdata analyst/d...|8 thousand-16 tho...|Nanguan District,...|          Jingyuetan|            5-10 years|  Undergraduate course|          Full time|    3|\n",
            "|  The data developm...|4 thousand -6 tho...|           Changchun|     People's street|  Experience is unl...|        Junior college|          Full time|    3|\n",
            "|  Data Science and ...|10 thousand-15 th...|Changchun High-te...|      Qianjin avenue|            5-10 years|                master|          Full time|    3|\n",
            "|  Data development ...|    20,000 to 30,000|           Changchun|           east wind|          inexperience|  Undergraduate course|          Full time|    3|\n",
            "|  Data development ...|5 thousand-10 tho...|           Changchun|          Jingyuetan|             3-5 years|  Undergraduate course|          Full time|    3|\n",
            "|   Big data instructor|8 thousand-10 tho...|           Changchun|High tech Develop...|             1-3 years|  Undergraduate course|          Full time|    3|\n",
            "|  Statistical analy...|4 thousand -6 tho...|Changchun Green Park|           east wind|  Experience is unl...|  Undergraduate course|          Full time|    3|\n",
            "|  Data statistician...|4 thousand -6 tho...|           Changchun|The Middle East M...|  Experience is unl...|  Education is not ...|          Full time|    3|\n",
            "|  Changchun-Senior ...|6 thousand-10 tho...|Changchun Green Park|           east wind|             3-5 years|  Undergraduate course|          Full time|    3|\n",
            "|            Data Clerk|4 thousand -6 tho...|Jinshui District,...|           Yanzhuang|             1-3 years|        Junior college|          Full time|    3|\n",
            "|  Data development ...|8 thousand-10 tho...|           Changchun|          South Lake|             3-5 years|  Undergraduate course|          Full time|    3|\n",
            "|  Data development ...|5 thousand -8 tho...|           Changchun|            Zhanqian|             1-3 years|  Undergraduate course|          Full time|    3|\n",
            "|  Development Engin...|          8000-14000|           Changchun|           Net month|            5-10 years|  Undergraduate course|          Full time|    3|\n",
            "|   Sales data analysis|Two thousand-four...|           Changchun|              Puyang|  Experience is unl...|  Education is not ...|          Full time|    3|\n",
            "|  Big Data Product ...|          8000-15000|           Changchun|           Net month|             3-5 years|  Undergraduate course|          Full time|    3|\n",
            "|  Big data analysis...|10 thousand-15 th...|           Changchun|           Net month|             3-5 years|  Undergraduate course|          Full time|    3|\n",
            "|  Operational data ...|4 thousand -6 tho...|Erdao District, C...|               Linhe|             1-3 years|        Junior college|          Full time|    3|\n",
            "|  Interactive Data-...|6 thousand-10 tho...|Chaoyang District...|High tech Develop...|             1-3 years|  Undergraduate course|          Full time|    3|\n",
            "|  Statisticians and...|4 thousand -6 tho...|           Zhengzhou|     Arc de Triomphe|             1-3 years|        Junior college|          Full time|    3|\n",
            "|          data analyst|8 thousand-12 tho...|           Changchun|     People's street|             1-3 years|  Undergraduate course|          Full time|    3|\n",
            "|  Internet software...|4 thousand -8 tho...|           Changchun|    Societe Generale|  Experience is unl...|  Education is not ...|          Full time|    3|\n",
            "|      Data entry clerk|4 thousand -6 tho...|Hongshan District...|      Optical valley|  Experience is unl...|  Education is not ...|          Full time|    3|\n",
            "|   Senior data analyst|10 thousand-20 th...|           Changchun|        happy street|             3-5 years|  Undergraduate course|          Full time|    3|\n",
            "|  Data processing e...|         2,000-2,500|           Changchun|     People's street|          inexperience|  Undergraduate course|          Full time|    3|\n",
            "|  Big data developm...|          8000-15000|           Changchun|     People's street|             1-3 years|        Junior college|          Full time|    3|\n",
            "|              big data|5 thousand -6 tho...|Kuancheng Distric...|      Dongnanhu road|  Experience is unl...|  Undergraduate course|          Full time|    3|\n",
            "|  Ke Holdings Inc.-...|4 thousand -6 tho...|           Changchun|              Quanan|             1-3 years|  Undergraduate course|          Full time|    3|\n",
            "|  Big Data Visualiz...|    15,000 to 20,000|           Changchun|           Net month|             3-5 years|  Undergraduate course|          Full time|    3|\n",
            "|  Data implementati...|10 thousand-15 th...|Chaoyang District...|           Yongchang|            5-10 years|        Junior college|          Full time|    3|\n",
            "|  Senior Data R&D E...|10 thousand-18 th...|           Changchun|      Dongnanhu road|            5-10 years|  Undergraduate course|          Full time|    3|\n",
            "|  Big data developm...|10 thousand-15 th...|            Shenzhen|       Shopping park|             1-3 years|  Undergraduate course|          Full time|    3|\n",
            "|  Data (ETL) Engine...|5 thousand-10 tho...|Nanguan District,...|          Jingyuetan|             3-5 years|  Undergraduate course|          Full time|    3|\n",
            "|     Gis data engineer|7 thousand-10 tho...|           Changchun|     People's street|             3-5 years|  Undergraduate course|          Full time|    3|\n",
            "|  4k data communica...|     3.5 -6 thousand|           Changchun|               Xinfa|  Experience is unl...|        Junior college|          Full time|    3|\n",
            "|  Instructors can w...|8 thousand-10 tho...|           Changchun|High tech Develop...|             1-3 years|  Undergraduate course|          Full time|    3|\n",
            "|  Exhibition hall d...|Two thousand-four...|           Changchun|     Auto trade city|             1-3 years|        Junior college|          Full time|    3|\n",
            "|  8k mechanical des...|          8000-15000|           Changchun|     People's street|  Experience is unl...|        Junior college|          Full time|    3|\n",
            "|          data analyst|          8000-15000|           Changchun|               Pearl|             3-5 years|  Undergraduate course|          Full time|    3|\n",
            "|  Marketing Special...|           3.5k-4.5k|           Changchun|              Quanan|             1-3 years|  Undergraduate course|          Full time|    3|\n",
            "|  Software sales ma...|4 thousand -8 tho...|           Changchun|    Societe Generale|  Experience is unl...|        Junior college|          Full time|    3|\n",
            "|  [Anjuke] Real Est...|4 thousand -6 tho...|           Changchun|         Guilin Road|             1-3 years|  Undergraduate course|          Full time|    3|\n",
            "|  Big Data Project ...|10 thousand-15 th...|Changchun High-te...|      Qianjin avenue|             3-5 years|        Junior college|          Full time|    3|\n",
            "|        Data architect|    15,000 to 30,000|           Changchun|Northeast Normal ...|            5-10 years|        Junior college|          Full time|    3|\n",
            "|  Recruitment of Bi...|6 thousand -8 tho...|           Changchun|High tech Develop...|             1-3 years|        Junior college|Part-time/temporary|    3|\n",
            "|  Software sales ma...|4 thousand -8 tho...|           Changchun|    Societe Generale|  Experience is unl...|  Education is not ...|          Full time|    3|\n",
            "|          data analyst|4 thousand -8 tho...|Changchun Economi...|High tech Develop...|             1-3 years|  Undergraduate course|          Full time|    3|\n",
            "|          data analyst|4 thousand -6 tho...|Chaoyang District...|                Huxi|  Experience is unl...|  Education is not ...|          Full time|    3|\n",
            "|  Administration an...|4 thousand -6 tho...|Shapingba Distric...|              Xiyong|  Experience is unl...|  Education is not ...|          Full time|    3|\n",
            "|  Big Data Departme...|5 thousand-10 tho...|           Changchun|      Qianjin avenue|             3-5 years|  Undergraduate course|          Full time|    3|\n",
            "|  Data Development ...|          Negotiable|Nanguan District,...|     People's street|  Experience is unl...|  Undergraduate course|          Full time|    3|\n",
            "|  Big data artifici...|          8000-15000|           Changchun|     People's street|             1-3 years|        Junior college|          Full time|    3|\n",
            "|  Remote sensing /G...|Two thousand-four...|Chaoyang District...|         Guilin Road|          inexperience|  Undergraduate course|         Internship|    3|\n",
            "|  Aerial survey dat...|4 thousand -6 tho...|Nanguan District,...|      Dongnanhu road|             3-5 years|  Undergraduate course|          Full time|    3|\n",
            "|  Remote sensing da...|6 thousand -8 tho...|           Changchun|          Jilin road|             1-3 years|  Undergraduate course|          Full time|    3|\n",
            "|  Big data analysis...|15 thousand-25 th...|           Changchun|High tech Develop...|            5-10 years|  Undergraduate course|          Full time|    3|\n",
            "|      Data entry clerk|4 thousand -6 tho...|Tianjin Binhai Ne...|             Newport|  Experience is unl...|        Junior college|          Full time|    3|\n",
            "|  Big data mining e...|10 thousand-20 th...|           Changchun|High tech Develop...|  Experience is unl...|  Undergraduate course|          Full time|    3|\n",
            "|  Data Information ...|4 thousand -6 tho...|           Changchun|      Dongnanhu road|  Experience is unl...|  Education is not ...|          Full time|    3|\n",
            "|  Commodity/data ma...|6 thousand -8 tho...|           Changchun|               Linhe|             3-5 years|        Junior college|          Full time|    3|\n",
            "|          data analyst|8 thousand-10 tho...|           Changchun|           As far as|             1-3 years|        Junior college|          Full time|    3|\n",
            "|  Data technology m...|    15,000 to 30,000|           Changchun|Northeast Normal ...|            5-10 years|        Junior college|          Full time|    3|\n",
            "|  Big Data Project ...|10 thousand-15 th...|           Changchun|      Qianjin avenue|             3-5 years|        Junior college|          Full time|    3|\n",
            "|     Member management|4 thousand -6 tho...|           Changchun|              gentle|             1-3 years|  Undergraduate course|          Full time|    3|\n",
            "|  Data inspectors w...|4 thousand -6 tho...|           Changchun|Nanguan passenger...|          inexperience|        Junior college|         Internship|    3|\n",
            "|  bigdata analyst/d...|15 thousand-25 th...|           Changchun|High tech Develop...|             1-3 years|        Junior college|          Full time|    3|\n",
            "|     Big data engineer|6 thousand -8 tho...|Changchun High-te...|High tech Develop...|             1-3 years|  Undergraduate course|          Full time|    3|\n",
            "|  Algorithm enginee...|          8000-14000|           Changchun|           Net month|            5-10 years|                master|          Full time|    3|\n",
            "|  Data development ...|8 thousand-13 tho...|           Changchun|     People's street|  Experience is unl...|  Undergraduate course|          Full time|    3|\n",
            "|     Data statistician|3 thousand -4 tho...|           Changchun|      Chongqing road|  Experience is unl...|        Junior college|          Full time|    3|\n",
            "|  Administration an...|4 thousand -6 tho...|Jiulongpo Distric...|             Kowloon|  Experience is unl...|  Education is not ...|          Full time|    3|\n",
            "|  Data Operations E...|6 thousand -8 tho...|Changchun High-te...|      Qianjin avenue|            5-10 years|  Undergraduate course|          Full time|    3|\n",
            "|  GIS data processi...|4 thousand -6 tho...|Chaoyang District...|         Guilin Road|  Experience is unl...|  Undergraduate course|          Full time|    3|\n",
            "|  Data Intelligent ...|          Negotiable|           Changchun|     People's street|          inexperience|  Undergraduate course|          Full time|    3|\n",
            "|  datician\\data min...|10 thousand-20 th...|           Changchun|High tech Develop...|             1-3 years|        Junior college|          Full time|    3|\n",
            "|  Data Operation Re...|          Negotiable|Chaoyang District...|               Xinfa|             1-3 years|  Undergraduate course|          Full time|    3|\n",
            "|  Big data analyst ...|15 thousand-25 th...|           Changchun|      Qianjin avenue|            5-10 years|  Undergraduate course|          Full time|    3|\n",
            "|        Data scientist|          9000-18000|           Changchun|           Net month|            5-10 years|  Undergraduate course|          Full time|    3|\n",
            "|  4k data communica...|4 thousand -6 tho...|           Changchun|               Xinfa|  Experience is unl...|        Junior college|          Full time|    3|\n",
            "|  Data Officer of W...|   2.5 -3.2 thousand|Changchun High-te...|High tech Develop...|  Experience is unl...|  Technical seconda...|          Full time|    3|\n",
            "|  Network data uplo...|6 thousand -8 tho...|           Changchun|               Xinfa|  Experience is unl...|  Education is not ...|          Full time|    3|\n",
            "|  Big data developm...|5 thousand-10 tho...|           Changchun|           Yongchang|             1-3 years|        Junior college|          Full time|    3|\n",
            "|  ETL data developm...|4 thousand -8 tho...|           Changchun|               Linhe|             1-3 years|  Undergraduate course|          Full time|    3|\n",
            "|            Data clerk|Two thousand-four...|           Changchun|               Linhe|             1-3 years|        Junior college|          Full time|    3|\n",
            "|  Data processing e...|4 thousand -8 tho...|Nanguan District,...|      Dongnanhu road|             3-5 years|  Undergraduate course|          Full time|    3|\n",
            "|  Data statistician...|3.5 thousand -5 t...|           Changchun|          Ziyou road|  Experience is unl...|        Junior college|          Full time|    3|\n",
            "|  Big Data Division...|          8000-15000|           Changchun|      Qianjin avenue|             3-5 years|  Undergraduate course|          Full time|    3|\n",
            "|  Data analysis/sta...|4 thousand -6 tho...|Changchun Automob...|      Dongnanhu road|             1-3 years|        Junior college|          Full time|    3|\n",
            "|          Data manager|4 thousand -6 tho...|           Changchun|               Baiju|          inexperience|        Junior college|          Full time|    3|\n",
            "|  Sales Specialist/...|4 thousand -8 tho...|           Changchun|    Societe Generale|  Experience is unl...|        Junior college|          Full time|    3|\n",
            "|  Data development ...|8 thousand-10 tho...|Chaoyang District...|           Yongchang|             3-5 years|  Undergraduate course|          Full time|    3|\n",
            "|   Sales-data analysis|4 thousand -6 tho...|           Changchun|              Puyang|  Experience is unl...|  Education is not ...|          Full time|    3|\n",
            "|  Data Operations S...|4 thousand -6 tho...|           Changchun|      Qianjin avenue|             1-3 years|  Undergraduate course|          Full time|    3|\n",
            "|  Statisticians/aud...|4 thousand -6 tho...|           Changchun|Nanguan passenger...|             1-3 years|  Undergraduate course|          Full time|    3|\n",
            "|          Data analyst|4 thousand -6 tho...|           Changchun|      Qianjin avenue|  Experience is unl...|  Undergraduate course|          Full time|    3|\n",
            "|  Operational data ...|3 thousand -4.5 t...|           Changchun|High tech Develop...|             1-3 years|  Undergraduate course|          Full time|    3|\n",
            "|     Data statistician|Two thousand-four...|Chaoyang District...|High tech Develop...|             1-3 years|        Junior college|          Full time|    3|\n",
            "|   System data auditor|4 thousand -6 tho...|           Changchun|   Nanling Mountains|          Under 1 year|  Undergraduate course|          Full time|    3|\n",
            "|     Data statistician|Two thousand-four...|Nanguan District,...|               Linhe|  Experience is unl...|  Undergraduate course|          Full time|    3|\n",
            "|  Data Development ...|4 thousand -6 tho...|           Changchun|          Ziyou road|  Experience is unl...|  Technical seconda...|          Full time|    3|\n",
            "|  Big data mining e...|          8000-15000|           Changchun|   Jida south school|  Experience is unl...|        Junior college|          Full time|    3|\n",
            "|  Teacher of Big Da...|Two thousand-four...|           Changchun|      Qianjin avenue|  Experience is unl...|  Undergraduate course|          Full time|    3|\n",
            "|  Data Analysis (Di...|          Negotiable|           Changchun|     People's street|          inexperience|  Undergraduate course|          Full time|    3|\n",
            "|  Data Planner (J10...|    15,000 to 20,000|Changchun Automob...|           east wind|            5-10 years|  Undergraduate course|          Full time|    3|\n",
            "|  Audit data analys...|5 thousand-10 tho...|Nanguan District,...|     People's street|             1-3 years|  Undergraduate course|          Full time|    3|\n",
            "|  Energy big data a...|          Negotiable|           Changchun|     People's street|            5-10 years|  Undergraduate course|          Full time|    3|\n",
            "|  Big Data Project ...|10 thousand-15 th...|           Changchun|High tech Develop...|             3-5 years|  Undergraduate course|          Full time|    3|\n",
            "|  Data Mining Engin...|8 thousand-10 tho...|Chaoyang District...|        Jiefang road|             3-5 years|  Undergraduate course|          Full time|    3|\n",
            "|  Software R&D-Big ...|          8000-15000|           Changchun|High tech Develop...|            5-10 years|  Undergraduate course|          Full time|    3|\n",
            "|  bigdata analyst/d...|10 thousand-20 th...|           Changchun|   Jida south school|  Experience is unl...|        Junior college|          Full time|    3|\n",
            "|       Data specialist|3 thousand -5 tho...|           Changchun|High tech Develop...|             1-3 years|        Junior college|          Full time|    3|\n",
            "|  Data development ...|10 thousand-15 th...|Nanguan District,...|               Pearl|             3-5 years|  Undergraduate course|          Full time|    3|\n",
            "|  Data technology c...|10 thousand-15 th...|           Changchun|     Red flag street|  Experience is unl...|  Undergraduate course|          Full time|    3|\n",
            "|          data analyst|4 thousand -7 tho...|Lianhu District o...|         Xishao gate|  Experience is unl...|        Junior college|          Full time|    3|\n",
            "|    Big data collation|   5.5 -6.2 thousand|           Changchun|           Net month|             1-3 years|  Undergraduate course|          Full time|    3|\n",
            "|  Big data developm...|        7,000-14,000|           Changchun|               Linhe|             3-5 years|  Undergraduate course|          Full time|    3|\n",
            "|  Data Scientist (O...|    30,000 to 60,000|Yangpu District, ...|            Jiangwan|             3-5 years|                Doctor|          Full time|    2|\n",
            "|        Data operation|6 thousand -9 tho...|              Dalian|             Airport|            5-10 years|  Undergraduate course|          Full time|    2|\n",
            "|       Data specialist|     2.5 -3 thousand|              Harbin|               build|             1-3 years|        Junior college|          Full time|    2|\n",
            "|  Junior data proce...|4 thousand -6 tho...|             Nanjing|    development zone|  Experience is unl...|        Junior college|          Full time|    2|\n",
            "|  The person in cha...|4 thousand -6 tho...|              Harbin|    Pearl river road|  Experience is unl...|        Junior college|          Full time|    2|\n",
            "|  Big data developm...|10 thousand-20 th...|             Nanjing|     along the river|             3-5 years|  Undergraduate course|          Full time|    2|\n",
            "|  JAVA software eng...|4 thousand -6 tho...|              Dalian|         Yingchengzi|          inexperience|  Undergraduate course|          Full time|    2|\n",
            "|  Data product manager|    20,000 to 30,000|             Beijing|            Wangjing|             3-5 years|  Undergraduate course|          Full time|    2|\n",
            "|  Big Data Developm...|10 thousand-15 th...|Zhongshan Distric...|             Zhanbei|          Under 1 year|  Undergraduate course|          Full time|    2|\n",
            "|  Database Operatio...|4 thousand -6 tho...|              Dalian|      Zhongshan Road|  Experience is unl...|  Undergraduate course|          Full time|    2|\n",
            "|  Sales manager of ...|25 thousand-40 th...|              Dalian|      Zhongshan Road|             3-5 years|  Undergraduate course|          Full time|    2|\n",
            "|  Data drawing engi...|4 thousand -6 tho...|Yuhuatai District...|          Tiexinqiao|             1-3 years|        Junior college|          Full time|    2|\n",
            "|  Data analysis cle...|4 thousand -6 tho...|Changning Distric...|      Zhongshan park|  Experience is unl...|        Junior college|          Full time|    2|\n",
            "|  human resources s...|3 thousand -5 tho...|              Dalian|      Zhongshan Road|  Experience is unl...|        Junior college|          Full time|    2|\n",
            "|  Urgent employment...|6 thousand -8 tho...|              Dalian|      Zhongshan Road|             3-5 years|  Undergraduate course|          Full time|    2|\n",
            "|     Big data engineer|    15,000 to 20,000|Dalian high-tech ...|        Huangpu road|            5-10 years|  Undergraduate course|          Full time|    2|\n",
            "|  Data analysis spe...|4 thousand -5 tho...|             Guiyang|          Huaguoyuan|             1-3 years|        Junior college|          Full time|    2|\n",
            "|          data analyst|6 thousand-10 tho...|             Chengdu|               Guixi|             3-5 years|  Undergraduate course|          Full time|    2|\n",
            "|  Data acquisition ...|3 thousand -6 tho...|Ganjingzi Distric...|           Xinzhaizi|  Experience is unl...|  Education is not ...|          Full time|    2|\n",
            "|   Sales data analysis|8 thousand-10 tho...|            Shanghai|          Zhangjiang|  Experience is unl...|  Undergraduate course|          Full time|    2|\n",
            "|  Data implementati...|10 thousand-15 th...|Binjiang District...|              Xixing|             3-5 years|  Undergraduate course|          Full time|    2|\n",
            "|  Data statistician...|4 thousand -6 tho...|               Jinan|Convention and Ex...|  Experience is unl...|        Junior college|          Full time|    2|\n",
            "|  Data Specialist (...|4 thousand -6 tho...|           Guangzhou|              Chebei|  Experience is unl...|        Junior college|          Full time|    2|\n",
            "|       Data specialist|4 thousand -6 tho...|             Guiyang|          Huaguoyuan|             1-3 years|  Undergraduate course|          Full time|    2|\n",
            "|  Curriculum planni...|12 thousand-15 th...|             Beijing|              Wanliu|             1-3 years|  Undergraduate course|          Full time|    2|\n",
            "|  GIS data processi...|Two thousand-four...|              Harbin|peace and tranqui...|  Experience is unl...|  Education is not ...|          Full time|    2|\n",
            "|          data analyst|    15,000 to 20,000|Yuhuatai District...|             Andemen|  Experience is unl...|  Undergraduate course|          Full time|    2|\n",
            "|  Japanese data rec...|4 thousand -5 tho...|Shahekou District...|   Yellow river road|  Experience is unl...|  Education is not ...|          Full time|    2|\n",
            "|  The data entry st...|4 thousand -6 tho...|Xihu District, Ha...|            Longjing|  Experience is unl...|           High school|          Full time|    2|\n",
            "|   Sales data analysis|6 thousand -8 tho...|Ganjingzi Distric...|         South China|             3-5 years|  Undergraduate course|          Full time|    2|\n",
            "|  English data anal...|4 thousand -6 tho...|Shahekou District...|             Neusoft|  Experience is unl...|  Undergraduate course|          Full time|    2|\n",
            "|        Data operation|8 thousand-10 tho...|Qinhuai District,...|       The Jimmy Hat|  Experience is unl...|  Undergraduate course|          Full time|    2|\n",
            "|  The first batch o...|4 thousand -6 tho...|Qingyang District...|       Taisheng road|  Experience is unl...|           High school|          Full time|    2|\n",
            "|        Data annotator|Two thousand-four...|Xigang District, ...|the land of peach...|  Experience is unl...|  Education is not ...|          Full time|    2|\n",
            "|  Java development ...|4 thousand -6 tho...|              Dalian|      Zhongshan Road|  Experience is unl...|        Junior college|          Full time|    2|\n",
            "|  Online platform K...|6 thousand -8 tho...|              Dalian|              Nansha|  Experience is unl...|  Undergraduate course|          Full time|    2|\n",
            "|  Head of data midd...|10 thousand-15 th...|Shahekou District...|   Yellow river road|             3-5 years|  Undergraduate course|          Full time|    2|\n",
            "|  Clinical data man...|    20,000 to 30,000|Zhongshan Distric...|       Medium length|             3-5 years|  Undergraduate course|          Full time|    2|\n",
            "|  bigdata analyst/d...|          Negotiable|             Nanjing|         Xuanwu Lake|             3-5 years|  Undergraduate course|          Full time|    2|\n",
            "|        Data assistant|8 thousand-10 tho...|             Beijing|            Beiqijia|  Experience is unl...|        Junior college|          Full time|    2|\n",
            "|  Database developm...|        7,000-14,000|Shahekou District...|      Zhongshan Road|             3-5 years|  Undergraduate course|          Full time|    2|\n",
            "|  Regional Manager ...|    40,000 to 55,000|              Dalian|      Zhongshan Road|            5-10 years|  Undergraduate course|          Full time|    2|\n",
            "|  Data Center Archi...|    20,000 to 40,000|Yangpu District, ...|            Jiangwan|            5-10 years|  Undergraduate course|          Full time|    2|\n",
            "|  Data development ...|          8000-15000|              Fuzhou|     Hongshan bridge|             1-3 years|  Undergraduate course|          Full time|    2|\n",
            "|  Big data developm...|6 thousand -8 tho...|               Jinan|         Shanda road|  Experience is unl...|        Junior college|          Full time|    2|\n",
            "|  Big data algorith...|15 thousand-25 th...|Yuhuatai District...|             Ningnan|             3-5 years|  Undergraduate course|          Full time|    2|\n",
            "|  Data analysis ass...|6 thousand -8 tho...|           Guangzhou|          Ersan road|          inexperience|        Junior college|          Full time|    2|\n",
            "|       Data specialist|6 thousand -8 tho...|              Dalian| Jiaotong University|             1-3 years|  Undergraduate course|          Full time|    2|\n",
            "|            Data Clerk|4 thousand -6 tho...|              Dalian|               Light|             1-3 years|        Junior college|          Full time|    2|\n",
            "|  Sales manager-int...|4 thousand -8 tho...|            Hangzhou|           West lake|  Experience is unl...|        Junior college|          Full time|    2|\n",
            "|  Group budget and ...|4 thousand -6 tho...|Dalian developmen...|              Faucet|             3-5 years|  Undergraduate course|          Full time|    2|\n",
            "|       Data specialist|4 thousand -6 tho...|            Shanghai|             Jinqiao|             1-3 years|        Junior college|          Full time|    2|\n",
            "|  Urgent recruitmen...|6 thousand -8 tho...|           Guangzhou|   Zhujiang New Town|  Experience is unl...|        Junior college|          Full time|    2|\n",
            "|  Data storage assi...|6 thousand -8 tho...|             Chengdu|       hongxing road|             1-3 years|        Junior college|          Full time|    2|\n",
            "|        Data operation|4 thousand -6 tho...|              Dalian|      Zhongshan Road|             1-3 years|        Junior college|          Full time|    2|\n",
            "|  Data Analysis dat...|8 thousand-10 tho...|            Shanghai|      Zhongshan park|             1-3 years|  Undergraduate course|          Full time|    2|\n",
            "|  Data analysis ass...|6 thousand -8 tho...|            Shanghai|             Jinqiao|             1-3 years|        Junior college|          Full time|    2|\n",
            "|    Data Administrator|3 thousand -4 tho...|              Dalian|  start construction|  Experience is unl...|        Junior college|          Full time|    2|\n",
            "|          data analyst|    15,000 to 20,000|Siming District, ...|            Lianqian|             3-5 years|  Undergraduate course|          Full time|    2|\n",
            "|  Customer Service ...|3 thousand -4 tho...|              Dalian|         Renmin Road|             1-3 years|        Junior college|          Full time|    2|\n",
            "|    Intensive delivery|Two thousand-four...|              Dalian|     civil liberties|  Experience is unl...|        Junior college|          Full time|    2|\n",
            "|  Data development ...|10 thousand-15 th...|              Dalian|             Zhanbei|  Experience is unl...|  Undergraduate course|          Full time|    2|\n",
            "|  Big data professi...|6 thousand -8 tho...|Dalian developmen...|            Lingshui|             1-3 years|  Undergraduate course|          Full time|    2|\n",
            "|      Data development|10 thousand-14 th...|Pudong new area, ...|          Zhangjiang|             3-5 years|  Undergraduate course|          Full time|    2|\n",
            "|  Japanese-British ...|4 thousand -6 tho...|              Dalian|       Software park|  Experience is unl...|  Undergraduate course|          Full time|    2|\n",
            "|  Japanese data pro...|Two thousand-four...|              Dalian| Maritime University|  Experience is unl...|        Junior college|          Full time|    2|\n",
            "|  IT technical spec...|6 thousand-10 tho...|              Xiamen|          Jiahe Road|             1-3 years|  Undergraduate course|          Full time|    2|\n",
            "|      Data entry clerk|3.5 thousand -5 t...|Changning Distric...|    north jing river|          Under 1 year|        Junior college|          Full time|    2|\n",
            "|  Data network tech...|4 thousand -6 tho...|              Harbin|    Pearl river road|  Experience is unl...|        Junior college|          Full time|    2|\n",
            "|【 Jpdbhr2018006 】...|4 thousand -6 tho...|              Dalian| Maritime University|             1-3 years|  Education is not ...|          Full time|    2|\n",
            "|  Head of data oper...|8 thousand-10 tho...|Shushan District ...|      Wangjiang road|             3-5 years|  Undergraduate course|          Full time|    2|\n",
            "|        Data operation|8 thousand-10 tho...|Qinhuai District,...|        great palace|  Experience is unl...|  Undergraduate course|          Full time|    2|\n",
            "|  Data annotation i...|          Negotiable|Shahekou District...|       Software park|          inexperience|        Junior college|         Internship|    2|\n",
            "|  Freshmen/interns/...|3 thousand -5 tho...|               Jinan|Nanxinzhuang comm...|  Experience is unl...|  Education is not ...|          Full time|    2|\n",
            "|  Data management m...|          8000-15000|             Nanjing|       The Jimmy Hat|             1-3 years|  Undergraduate course|          Full time|    2|\n",
            "|  Excel data proces...|6 thousand -8 tho...|Chengdu chenghua ...|           Niushikou|             1-3 years|        Junior college|          Full time|    2|\n",
            "|  Senior web front-...|12 thousand-18 th...|Shahekou District...|       Software park|            5-10 years|  Undergraduate course|          Full time|    2|\n",
            "|  Mobile web front-...|4 thousand -6 tho...|              Dalian|      Zhongshan Road|  Experience is unl...|        Junior college|          Full time|    2|\n",
            "|  Data analysis spe...|4 thousand -6 tho...|              Xiamen|            Qiaoying|             1-3 years|        Junior college|          Full time|    2|\n",
            "|         Data preparer|3 thousand -4 tho...|              Dalian|         Nanguanling|             1-3 years|  Education is not ...|          Full time|    2|\n",
            "|  Programmer/progra...|4 thousand -6 tho...|             Guiyang|       Yan shan hong|  Experience is unl...|  Undergraduate course|          Full time|    2|\n",
            "|  Internship Assist...|6 thousand -8 tho...|               Jinan|         Weibei road|          inexperience|        Junior college|          Full time|    2|\n",
            "|          data analyst|6 thousand -8 tho...|              Dalian|       Software park|             3-5 years|        Junior college|          Full time|    2|\n",
            "|  Data analysis ass...|6 thousand -8 tho...|           Guangzhou|              Chebei|  Experience is unl...|        Junior college|          Full time|    2|\n",
            "|      Data entry clerk|4 thousand -6 tho...|Yuhang District, ...|            Cangqian|  Experience is unl...|        Junior college|          Full time|    2|\n",
            "|  Java development ...|          8000-15000|               Jinan|Convention and Ex...|             1-3 years|  Undergraduate course|          Full time|    2|\n",
            "|  Big Data Developm...|10 thousand-20 th...|            Shanghai|            Jiangwan|             3-5 years|  Undergraduate course|          Full time|    2|\n",
            "|  Data development ...|8 thousand-10 tho...|              Dalian|    Zhongshan square|             3-5 years|        Junior college|          Full time|    2|\n",
            "|       Data specialist|3 thousand -4 tho...|              Dalian|(of the army) sup...|             1-3 years|        Junior college|          Full time|    2|\n",
            "|  Data Analysis Con...|10 thousand-20 th...|              Dalian|          Qixianling|             3-5 years|  Undergraduate course|          Full time|    2|\n",
            "|  Procurement Data ...|4 thousand -6 tho...|              Dalian|          Dongjiagou|             1-3 years|  Undergraduate course|          Full time|    2|\n",
            "|  Recruit real esta...|8 thousand-10 tho...|              Dalian|              Nansha|  Experience is unl...|  Undergraduate course|          Full time|    2|\n",
            "|  Big data developm...|    15,000 to 30,000|             Nanjing|       Xishan bridge|             3-5 years|  Undergraduate course|          Full time|    2|\n",
            "|          Data editing|4 thousand -6 tho...|Dalian developmen...|               Wanli|  Experience is unl...|        Junior college|          Full time|    2|\n",
            "|         Web front end|4 thousand -6 tho...|              Dalian| Maritime University|  Experience is unl...|  Technical seconda...|          Full time|    2|\n",
            "|     Big data engineer|10 thousand-15 th...|Xuhui District, S...|    Zhaojiabang road|             1-3 years|  Undergraduate course|          Full time|    2|\n",
            "|  Html5 front-end d...|4 thousand -6 tho...|              Dalian|      Zhongshan Road|  Experience is unl...|        Junior college|          Full time|    2|\n",
            "|  Chain home recrui...|4 thousand -6 tho...|              Dalian|              Nansha|  Experience is unl...|  Undergraduate course|          Full time|    2|\n",
            "|         data analysis|     4.5 -6 thousand|               Jinan|          Hongjialou|             1-3 years|  Undergraduate course|          Full time|    2|\n",
            "|     database engineer|10 thousand-15 th...|Dalian high-tech ...| Maritime University|            5-10 years|  Undergraduate course|          Full time|    2|\n",
            "|  Online platform c...|4 thousand -6 tho...|              Dalian|              Nansha|  Experience is unl...|  Undergraduate course|          Full time|    2|\n",
            "|  JAVA software eng...|6 thousand-10 tho...|              Dalian|         Yingchengzi|             1-3 years|  Undergraduate course|          Full time|    2|\n",
            "|  Data dispatching ...|10 thousand-15 th...|Shahekou District...|   Yellow river road|             3-5 years|  Undergraduate course|          Full time|    2|\n",
            "|  Data analyst (bus...|15 thousand-18 th...|              Ningbo|             Zhonghe|          inexperience|  Undergraduate course|             Campus|    2|\n",
            "|  Computer data ent...|8 thousand-10 tho...|               Jinan|     Wuying Mountain|  Experience is unl...|        Junior college|          Full time|    2|\n",
            "|  Computer data ass...|6 thousand -8 tho...|             Beijing|        Zhongguancun|  Experience is unl...|        Junior college|          Full time|    2|\n",
            "|  Senior Data Opera...|6 thousand -7 tho...|              Dalian|      Zhongshan Road|             1-3 years|  Undergraduate course|          Full time|    2|\n",
            "|  Intermediate-Big ...|8 thousand-11 tho...|              Dalian|          Huoju road|             3-5 years|  Undergraduate course|          Full time|    2|\n",
            "|  Data analysis spe...|3 thousand -5 tho...|              Dalian|            Red flag|  Experience is unl...|  Undergraduate course|          Full time|    2|\n",
            "|  General ledger ac...|6 thousand-12 tho...|Dalian high-tech ...|       Software park|             1-3 years|  Undergraduate course|          Full time|    2|\n",
            "|  Data Analysis dat...|8 thousand-10 tho...|Pudong new area, ...|            Lujiazui|             1-3 years|  Undergraduate course|          Full time|    2|\n",
            "|  Sales Manager/Dir...|          8000-15000|            Hangzhou|           West lake|  Experience is unl...|        Junior college|          Full time|    2|\n",
            "|  Big data developm...|10 thousand-15 th...|Xihu District, Ha...|                Xixi|             3-5 years|  Undergraduate course|          Full time|    2|\n",
            "|       Data specialist|8 thousand-10 tho...|             Beijing|            Beiqijia|  Experience is unl...|  Education is not ...|          Full time|    2|\n",
            "|  Data development ...|10 thousand-15 th...|              Dalian|         Renmin Road|             3-5 years|  Undergraduate course|          Full time|    2|\n",
            "|  Clinical data sta...|8 thousand-12 tho...|             Nanjing|       The Jimmy Hat|  Experience is unl...|                master|          Full time|    2|\n",
            "|          data analyst|8 thousand-10 tho...|            Shanghai|          Long March|  Experience is unl...|        Junior college|          Full time|    2|\n",
            "|  Head of marketing...|6 thousand -9 tho...|Huli District, Xi...|          Recreation|             1-3 years|        Junior college|          Full time|    2|\n",
            "|  Clinical data man...|    15,000 to 30,000|Changning Distric...|            Hongqiao|  Experience is unl...|  Undergraduate course|          Full time|    2|\n",
            "|          data analyst|15 thousand-25 th...|             Beijing|            Yizhuang|             3-5 years|  Undergraduate course|          Full time|    2|\n",
            "|  Regional sales su...|6 thousand-10 tho...|              Dalian|      Zhongshan Road|             3-5 years|        Junior college|          Full time|    2|\n",
            "|        Data operation|    15,000 to 20,000|             Beijing|            Wangjing|             3-5 years|  Undergraduate course|          Full time|    2|\n",
            "|  Big data developm...|          Negotiable|Zhongshan Distric...|     Changjiang road|             3-5 years|  Undergraduate course|          Full time|    2|\n",
            "|  Big data developm...|15 thousand-25 th...|Yuhuatai District...|             Ningnan|             3-5 years|  Undergraduate course|          Full time|    2|\n",
            "|  In the era of big...|4 thousand -6 tho...|              Dalian|              Nansha|  Experience is unl...|  Undergraduate course|          Full time|    2|\n",
            "|  Database development|4 thousand -6 tho...|              Dalian|       Software park|  Experience is unl...|        Junior college|          Full time|    2|\n",
            "|  Big data developm...|    12,000 to 20,000|Shahekou District...|       Software park|             3-5 years|  Undergraduate course|          Full time|    2|\n",
            "|  Data analysis man...|10 thousand-18 th...|Putuo district, S...|          Long March|             3-5 years|  Undergraduate course|          Full time|    2|\n",
            "|  Senior Engineer o...|10 thousand-20 th...|              Dalian|      Zhongshan Road|             3-5 years|  Undergraduate course|          Full time|    2|\n",
            "|  Data development ...|8 thousand-10 tho...|              Dalian|       Software park|             3-5 years|  Undergraduate course|          Full time|    2|\n",
            "|  Database Developm...|Two thousand-four...|              Dalian|          Huoju road|          inexperience|        Junior college|         Internship|    2|\n",
            "|  Big Data Operatio...|10 thousand-15 th...|Cangshan District...|             Jinshan|             1-3 years|        Junior college|          Full time|    2|\n",
            "|  Clinical supervis...|4 thousand -6 tho...|              Dalian|          Qixianling|  Experience is unl...|  Undergraduate course|          Full time|    2|\n",
            "|  Data development ...|6 thousand -8 tho...|            Shanghai|     People's Square|  Experience is unl...|        Junior college|          Full time|    2|\n",
            "|  Internet data sal...|    15,000 to 20,000|             Beijing|             Beiyuan|             3-5 years|        Junior college|          Full time|    2|\n",
            "|  Big data developm...|10 thousand-15 th...|           Guangzhou|   Zhujiang New Town|             1-3 years|  Undergraduate course|          Full time|    2|\n",
            "|  Intermediate-Big ...|8 thousand-11 tho...|Dalian high-tech ...| Maritime University|  Experience is unl...|  Undergraduate course|          Full time|    2|\n",
            "|          data analyst|6 thousand -8 tho...|               Jinan|   Zhudian community|  Experience is unl...|  Undergraduate course|          Full time|    2|\n",
            "|  BPO Data Processi...|3.6 thousand -5 t...|              Dalian|   Yellow river road|             3-5 years|  Technical seconda...|          Full time|    2|\n",
            "|  Data processing a...|6 thousand -8 tho...|           Guangzhou|          Ersan road|          inexperience|        Junior college|          Full time|    2|\n",
            "|【 Jpdbhr2018043 】...|4 thousand -6 tho...|              Dalian| Maritime University|  Experience is unl...|  Technical seconda...|          Full time|    2|\n",
            "|  Data input and co...|4 thousand -6 tho...|Shahekou District...|       Software park|             1-3 years|        Junior college|          Full time|    2|\n",
            "|  Japanese data pro...|4 thousand -6 tho...|              Dalian| Maritime University|  Experience is unl...|        Junior college|          Full time|    2|\n",
            "|            statistics|10 thousand-15 th...|             Beijing|                 CBD|             1-3 years|  Undergraduate course|          Full time|    2|\n",
            "|          Data analyst|6 thousand -8 tho...|             Chengdu|       hongxing road|             1-3 years|        Junior college|          Full time|    2|\n",
            "|       product manager|          8000-15000|              Dalian|         Yingchengzi|            5-10 years|  Undergraduate course|          Full time|    2|\n",
            "|  Big data (interns...|6 thousand -8 tho...|              Dalian|            Lingshui|  Experience is unl...|        Junior college|          Full time|    2|\n",
            "|  Data middle offic...|10 thousand-18 th...|              Fuzhou|     Hongshan bridge|             1-3 years|  Undergraduate course|          Full time|    2|\n",
            "|  Big Data Junior H...|10 thousand-15 th...|              Dalian|      Zhongshan Road|             1-3 years|  Undergraduate course|          Full time|    2|\n",
            "|    Database Developer|6 thousand -8 tho...|              Dalian|        Huangpu road|  Experience is unl...|        Junior college|          Full time|    2|\n",
            "|  Clinical data man...|    15,000 to 30,000|Jiangning Distric...|        hundred lake|  Experience is unl...|  Undergraduate course|          Full time|    2|\n",
            "|         Data engineer|    12,000 to 20,000|           Guangzhou|              Shipai|             3-5 years|  Undergraduate course|          Full time|    2|\n",
            "|          data analyst|8 thousand-10 tho...|              Dalian|    Zhongshan square|             3-5 years|  Undergraduate course|          Full time|    2|\n",
            "|          data analyst|    15,000 to 20,000|             Beijing|            Wangjing|             3-5 years|  Undergraduate course|          Full time|    2|\n",
            "|  Development and m...|          Negotiable|Zhongshan Distric...|     Changjiang road|             1-3 years|  Undergraduate course|          Full time|    2|\n",
            "|    Data mining intern|Two thousand-four...|              Dalian|      Zhongshan Road|          inexperience|  Undergraduate course|          Full time|    2|\n",
            "|  Data Analysis dat...|8 thousand-10 tho...|Xuhui District, S...|    Zhaojiabang road|             1-3 years|  Undergraduate course|          Full time|    2|\n",
            "|  Product line manager|5 thousand -8 tho...|Changchun High-te...|  Donghuancheng road|             1-3 years|                master|          Full time|    2|\n",
            "|  Technical support...|Two thousand-four...|           Changchun|   Jida south school|  Experience is unl...|        Junior college|          Full time|    2|\n",
            "|  Assistant market ...|6 thousand -8 tho...|Nanguan District,...|           Huazhuang|             1-3 years|  Undergraduate course|          Full time|    2|\n",
            "|          Statistician|4 thousand -6 tho...|           Changchun|        Kaixuan road|             1-3 years|  Undergraduate course|          Full time|    2|\n",
            "|  Recruitment! Copy...|6 thousand -8 tho...|Hongqiao District...|      Shaogongzhuang|  Experience is unl...|        Junior college|          Full time|    2|\n",
            "|  front end web dev...|4 thousand -6 tho...|           Changchun|   Jida south school|  Experience is unl...|  Undergraduate course|          Full time|    2|\n",
            "|  Sales data collec...|4 thousand -8 tho...|               Wuhan|     Qinfen fracture|  Experience is unl...|           High school|          Full time|    2|\n",
            "|  Data information ...|     4.5 -6 thousand|Wuhan huangpi dis...|          the galaxy|             1-3 years|        Junior college|          Full time|    2|\n",
            "|  Employ statistici...|4 thousand -6 tho...|           Changchun|Hospital of Tradi...|  Experience is unl...|  Education is not ...|          Full time|    2|\n",
            "|  Data entry is pur...|4 thousand -6 tho...|Shapingba Distric...|           Shapingba|  Experience is unl...|        Junior college|          Full time|    2|\n",
            "|          data analyst|6 thousand-10 tho...|Nan 'an District,...|        nanping town|             1-3 years|  Undergraduate course|          Full time|    2|\n",
            "|  Assistant Financi...|4 thousand -6 tho...|             Tianjin|              Nanshi|             1-3 years|        Junior college|          Full time|    2|\n",
            "|  Alibaba Collectio...|5 thousand-10 tho...|Jianghan District...|              Xinhua|  Experience is unl...|  Technical seconda...|          Full time|    2|\n",
            "|          Data modeler|6 thousand -8 tho...|            Shenzhen|             Longhua|             1-3 years|        Junior college|          Full time|    2|\n",
            "|  Network pre-sales...|4 thousand -6 tho...|           Changchun|   Jida south school|  Experience is unl...|        Junior college|          Full time|    2|\n",
            "|  Operation and mai...|Two thousand-four...|           Changchun|   Jida south school|  Experience is unl...|        Junior college|          Full time|    2|\n",
            "|  Project operation...|6 thousand-10 tho...|           Changchun|Nanguan passenger...|  Experience is unl...|  Undergraduate course|          Full time|    2|\n",
            "|  Data center integ...|5 thousand -8 tho...|            Shenzhen|              Nanyou|             1-3 years|        Junior college|          Full time|    2|\n",
            "|    Assistant Director|4 thousand -4.5 t...|           Changchun|     Red flag street|          Under 1 year|        Junior college|          Full time|    2|\n",
            "|  Big data analysis...|Two thousand-four...|Yuzhong District,...|              Daping|          inexperience|  Undergraduate course|         Internship|    2|\n",
            "|         Data engineer|8 thousand-16 tho...| Jiangyin City, Wuxi|       Chaoyang Guan|             3-5 years|  Undergraduate course|          Full time|    2|\n",
            "|    Front end engineer|4 thousand -6 tho...|           Changchun|   Jida south school|  Experience is unl...|        Junior college|          Full time|    2|\n",
            "|        Data operation|8 thousand-10 tho...|            Shenzhen|Science and techn...|             1-3 years|  Undergraduate course|          Full time|    2|\n",
            "|  Settlement Commis...|3 thousand -4 tho...|Changchun High-te...|High tech Develop...|  Experience is unl...|        Junior college|          Full time|    2|\n",
            "|   Sales data analysis|4 thousand -6 tho...|Huishan District ...|            Qianqiao|             1-3 years|        Junior college|          Full time|    2|\n",
            "|  Air quality data ...|3 thousand -5 tho...|Shenyang Hunnan D...|               Baita|  Experience is unl...|  Undergraduate course|          Full time|    2|\n",
            "|  Head of data oper...|6 thousand -8 tho...|Tianjin wuqing di...|     Yangcun village|             1-3 years|  Undergraduate course|          Full time|    2|\n",
            "|  Data clerk and da...|4 thousand -6 tho...|Jianghan District...|      Northwest Lake|  Experience is unl...|        Junior college|          Full time|    2|\n",
            "|  Financial data pr...|4 thousand -6 tho...|Hongshan District...|      Optical valley|  Experience is unl...|  Technical seconda...|          Full time|    2|\n",
            "|  Data Scientist (O...|    30,000 to 60,000|            Changsha|          Yinpenling|             3-5 years|                Doctor|          Full time|    2|\n",
            "|    Technical engineer|4 thousand -6 tho...|           Changchun|   Jida south school|  Experience is unl...|        Junior college|          Full time|    2|\n",
            "|  Project Assistant...|4 thousand -6 tho...|           Changchun|         Guilin Road|             1-3 years|  Undergraduate course|          Full time|    2|\n",
            "|  Software pre-sale...|5 thousand -8 tho...|           Changchun|   Jida south school|             1-3 years|        Junior college|          Full time|    2|\n",
            "|  Data Processing S...|4 thousand -6 tho...|Shapingba Distric...|           Shapingba|  Experience is unl...|        Junior college|          Full time|    2|\n",
            "|          data analyst|          Negotiable|            Shenzhen|Science and techn...|             1-3 years|        Junior college|          Full time|    2|\n",
            "|              Planning|4 thousand -6 tho...|           Changchun|   Jida south school|  Experience is unl...|        Junior college|          Full time|    2|\n",
            "|  Market research m...|4 thousand -6 tho...|Chaoyang District...|         Guilin Road|  Experience is unl...|  Undergraduate course|          Full time|    2|\n",
            "|  Weak current impl...|4 thousand -6 tho...|           Changchun|   Jida south school|  Experience is unl...|        Junior college|          Full time|    2|\n",
            "|  5G big data devel...|4 thousand -6 tho...|           Changchun|      Qianjin avenue|  Experience is unl...|  Education is not ...|          Full time|    2|\n",
            "|  Data Operations S...|          9000-12000|            Shenzhen|           East gate|             1-3 years|  Undergraduate course|          Full time|    2|\n",
            "|  AI Data Planning ...|          Negotiable|            Shenzhen|Science and techn...|             3-5 years|  Undergraduate course|          Full time|    2|\n",
            "|      Reptile engineer|6 thousand-12 tho...|           Changchun|High tech Develop...|             3-5 years|        Junior college|          Full time|    2|\n",
            "|      Research manager|7 thousand-10 tho...|           Changchun|     Red flag street|  Experience is unl...|                master|          Full time|    2|\n",
            "|  Financial data ed...|4 thousand -6 tho...|Pudong new area, ...|ornamental flower...|             1-3 years|  Undergraduate course|          Full time|    2|\n",
            "|  Big data developm...|8 thousand-10 tho...|Erqi District of ...|         Huaihe road|             1-3 years|  Undergraduate course|          Full time|    2|\n",
            "|         staff auditor|4 thousand -5 tho...|           Changchun|High tech Develop...|             1-3 years|        Junior college|          Full time|    2|\n",
            "|  Patrol on dutySec...|4 thousand -6 tho...|           Changchun|         Long bridge|  Experience is unl...|  Education is not ...|          Full time|    2|\n",
            "|  Financial data an...|6 thousand -8 tho...|           Chongqing|         Wuli branch|  Experience is unl...|        Junior college|          Full time|    2|\n",
            "|  Data acquisition ...|6 thousand-12 tho...|Chang 'an Distric...|            meridian|             1-3 years|        Junior college|          Full time|    2|\n",
            "|  Transportation ma...|6 thousand -8 tho...|           Changchun|            Tuanshan|            5-10 years|  Undergraduate course|          Full time|    2|\n",
            "|  System integratio...|4 thousand -6 tho...|           Changchun|   Jida south school|             1-3 years|        Junior college|          Full time|    2|\n",
            "|  Data analyst assi...|4 thousand -6 tho...|             Tianjin|              Nanshi|             1-3 years|        Junior college|          Full time|    2|\n",
            "|        Data collector|4 thousand -6 tho...|           Changchun|               Baiju|          inexperience|        Junior college|          Full time|    2|\n",
            "|  Zabbix developmen...|8 thousand-10 tho...|           Changchun|      Qianjin avenue|             3-5 years|        Junior college|          Full time|    2|\n",
            "|  Commodity special...|4 thousand -6 tho...|           Changchun|              gentle|          Under 1 year|  Undergraduate course|          Full time|    2|\n",
            "|  Data Operations A...|4 thousand -6 tho...|Tianjin wuqing di...|     Yangcun village|             1-3 years|        Junior college|          Full time|    2|\n",
            "|  Cost accounting s...|Two thousand-four...|           Changchun|               Xixin|  Experience is unl...|  Education is not ...|          Full time|    2|\n",
            "|          Statistician|5 thousand -7 tho...|Tianxin District ...|            Xinkaipu|             1-3 years|  Undergraduate course|          Full time|    2|\n",
            "|  Data testing spec...|4 thousand -6 tho...|           Zhengzhou|       Cultural road|  Experience is unl...|  Technical seconda...|          Full time|    2|\n",
            "|  I am afraid that ...|10 thousand-15 th...|             Xi ' an|               Guodu|  Experience is unl...|  Technical seconda...|          Full time|    2|\n",
            "|  Changchun-Solutio...|8 thousand-13 tho...|Changchun Green Park|              Puyang|             3-5 years|  Undergraduate course|          Full time|    2|\n",
            "|          Statistician|Two thousand-four...|           Changchun|     Red flag street|  Experience is unl...|        Junior college|          Full time|    2|\n",
            "|          data analyst|6 thousand -8 tho...|Yuzhong District,...|          Hongyadong|  Experience is unl...|        Junior college|          Full time|    2|\n",
            "|       sales assistant|Two thousand-four...|           Changchun|   Jida south school|  Experience is unl...|        Junior college|          Full time|    2|\n",
            "|  Factory network m...|4 thousand -6 tho...|           Changchun|         Long bridge|  Experience is unl...|  Education is not ...|          Full time|    2|\n",
            "|     Food statistician|Two thousand-four...|           Changchun|               Pearl|             1-3 years|        Junior college|          Full time|    2|\n",
            "|  Data analyst week...|4 thousand -8 tho...|xi'an hi tech ind...|       tang yan road|  Experience is unl...|        Junior college|          Full time|    2|\n",
            "|  Android developme...|6 thousand -8 tho...|           Changchun|   Jida south school|             1-3 years|  Undergraduate course|          Full time|    2|\n",
            "|  Statistical analy...|6 thousand -8 tho...|               Wuhan|      Jianshe Avenue|  Experience is unl...|        Junior college|          Full time|    2|\n",
            "|  CNC programming c...|6 thousand -8 tho...|           Changchun|         Long bridge|  Experience is unl...|  Education is not ...|          Full time|    2|\n",
            "|  Interns in data d...|3 thousand -4 tho...|Xi 'an weiyang di...|         Zhangjiabao|  Experience is unl...|  Undergraduate course|         Internship|    2|\n",
            "|          data analyst|6 thousand -8 tho...|Shenyang Hunnan D...|            Changbai|  Experience is unl...|        Junior college|          Full time|    2|\n",
            "|  Operations Manage...|10 thousand-15 th...|             Tianjin|          Santiaoshi|             1-3 years|        Junior college|          Full time|    2|\n",
            "|  APP development e...|6 thousand -8 tho...|           Changchun|   Jida south school|  Experience is unl...|  Undergraduate course|          Full time|    2|\n",
            "|  Data entry post (...|4 thousand -6 tho...|xi'an hi tech ind...|       tang yan road|  Experience is unl...|        Junior college|          Full time|    2|\n",
            "|  internetproductma...|8 thousand-10 tho...|           Chongqing|         Wuli branch|  Experience is unl...|        Junior college|          Full time|    2|\n",
            "|  Management traine...|4 thousand -6 tho...|            Shenzhen|            Henggang|  Experience is unl...|        Junior college|          Full time|    2|\n",
            "|  Remote sensing im...|6 thousand-10 tho...|           Changchun|          Jilin road|  Experience is unl...|                master|          Full time|    2|\n",
            "|  sales representative|10 thousand-15 th...|           Changchun|        Guangfu road|             3-5 years|  Undergraduate course|          Full time|    2|\n",
            "|                 Linux|6 thousand -8 tho...|           Changchun|   Jida south school|             1-3 years|        Junior college|          Full time|    2|\n",
            "|  Big data analysis...|    15,000 to 20,000|            Changsha|      yuelu mountain|             1-3 years|  Undergraduate course|          Full time|    2|\n",
            "|       Media operation|4 thousand -6 tho...|           Changchun|   Jida south school|  Experience is unl...|        Junior college|          Full time|    2|\n",
            "|     presales engineer|4 thousand -6 tho...|           Changchun|   Jida south school|             1-3 years|        Junior college|          Full time|    2|\n",
            "|  Data collector (d...|3 thousand -5 tho...|           Zhengzhou| Business inner ring|  Experience is unl...|        Junior college|          Full time|    2|\n",
            "|  Part-time mystery...|Two thousand-four...|           Chongqing|           sand flat|  Experience is unl...|  Education is not ...|Part-time/temporary|    2|\n",
            "|     Market researcher|4 thousand -6 tho...|           Changchun|               Linhe|  Experience is unl...|  Education is not ...|          Full time|    2|\n",
            "|      Data entry clerk|4 thousand -6 tho...|Jinshui District,...|           Yanzhuang|  Experience is unl...|        Junior college|          Full time|    2|\n",
            "|  Quality control s...|4 thousand -7 tho...|Yanta District of...|       chang an road|  Experience is unl...|        Junior college|          Full time|    2|\n",
            "|  Air quality data ...|3 thousand -5 tho...|Shenyang Hunnan D...|               Baita|  Experience is unl...|  Undergraduate course|          Full time|    2|\n",
            "|    Designer assistant|4 thousand -6 tho...|           Chongqing|        Qixing' gang|  Experience is unl...|  Education is not ...|          Full time|    2|\n",
            "|  Marketing Specialist|6 thousand -8 tho...|Changchun Green Park|     Zhengyang steet|             3-5 years|  Undergraduate course|          Full time|    2|\n",
            "|       project manager|10 thousand-20 th...|           Changchun|               Pearl|  Experience is unl...|        Junior college|          Full time|    2|\n",
            "|  Head of data anal...|6 thousand -8 tho...|Furong District o...|         Leek garden|             3-5 years|  Undergraduate course|          Full time|    2|\n",
            "|  Data analysis spe...|4 thousand -6 tho...|           Chongqing|         Wuli branch|          Under 1 year|        Junior college|          Full time|    2|\n",
            "|  Network technicia...|     3.5 -6 thousand|           Changchun|      Qianjin avenue|  Experience is unl...|        Junior college|          Full time|    2|\n",
            "|      network engineer|4 thousand -6 tho...|           Changchun|   Jida south school|  Experience is unl...|        Junior college|          Full time|    2|\n",
            "|        php programmer|6 thousand -8 tho...|           Changchun|   Jida south school|             1-3 years|        Junior college|          Full time|    2|\n",
            "|  Financial data an...|6 thousand -8 tho...|Hongshan District...|   leave a good name|  Experience is unl...|  Undergraduate course|          Full time|    2|\n",
            "|  IT resident engineer|3 thousand -6 tho...|           Changchun|   Jida south school|  Experience is unl...|        Junior college|          Full time|    2|\n",
            "|             Front end|4 thousand -6 tho...|           Changchun|   Jida south school|  Experience is unl...|        Junior college|          Full time|    2|\n",
            "|  Senior Software D...|10 thousand-20 th...|           Changchun|          Jilin road|             3-5 years|  Undergraduate course|          Full time|    2|\n",
            "|  Argis data processor|3 thousand -6 tho...|        Shijiazhuang|           Zhongshan|  Experience is unl...|        Junior college|          Full time|    2|\n",
            "|     Commercial bidder|Two thousand-four...|           Changchun|   Jida south school|             1-3 years|        Junior college|          Full time|    2|\n",
            "|          data analyst|6 thousand -8 tho...|             Tianjin|         Daying gate|             1-3 years|  Undergraduate course|          Full time|    2|\n",
            "|  Remote Sensing Mo...|6 thousand-10 tho...|           Changchun|          Jilin road|  Experience is unl...|                master|          Full time|    2|\n",
            "|  Safety service en...|6 thousand -8 tho...|           Changchun|   Jida south school|  Experience is unl...|        Junior college|          Full time|    2|\n",
            "|  Safety protection...|4 thousand -6 tho...|           Changchun|   Jida south school|             1-3 years|        Junior college|          Full time|    2|\n",
            "|  Big Data Developm...|10 thousand-20 th...|            Changsha|          Yinpenling|             3-5 years|  Undergraduate course|          Full time|    2|\n",
            "|  Data development ...|    15,000 to 20,000|            Shenzhen|              Nanyou|             3-5 years|  Undergraduate course|          Full time|    2|\n",
            "|  Data analysis spe...|6 thousand -8 tho...|           Chongqing|         Wuli branch|  Experience is unl...|        Junior college|          Full time|    2|\n",
            "|   Market investigator|4 thousand -6 tho...|           Changchun|           Dongsheng|             3-5 years|  Undergraduate course|          Full time|    2|\n",
            "|  Mechanical engine...|6 thousand -8 tho...|           Changchun|         Long bridge|  Experience is unl...|  Education is not ...|          Full time|    2|\n",
            "|     Market researcher|6 thousand -8 tho...|Nanguan District,...|           Huazhuang|             1-3 years|  Undergraduate course|          Full time|    2|\n",
            "|  Information techn...|4 thousand -6 tho...|           Changchun|      Dongnanhu road|  Experience is unl...|        Junior college|          Full time|    2|\n",
            "|   Sales data analysis|6 thousand -8 tho...|            Shenzhen|Science and techn...|             1-3 years|        Junior college|          Full time|    2|\n",
            "|   Commodity operation|4 thousand -6 tho...|Nanguan District,...|        Jiefang road|  Experience is unl...|        Junior college|          Full time|    2|\n",
            "|    Database Developer|6 thousand -8 tho...|           Zhengzhou|        Qinling road|  Experience is unl...|        Junior college|          Full time|    2|\n",
            "|                   DBA|8 thousand-10 tho...|           Changchun|           Net month|             3-5 years|  Undergraduate course|          Full time|    2|\n",
            "|  Marketing Special...|3 thousand -5 tho...|           Changchun|High tech Develop...|             1-3 years|  Undergraduate course|          Full time|    2|\n",
            "|        Data operation|8 thousand-10 tho...|            Shenzhen|Science and techn...|             3-5 years|  Undergraduate course|          Full time|    2|\n",
            "|  Junior front-end ...|4 thousand -8 tho...|           Changchun|               Linhe|             1-3 years|  Undergraduate course|          Full time|    2|\n",
            "|  Security pre-sale...|6 thousand -8 tho...|           Changchun|   Jida south school|             3-5 years|  Undergraduate course|          Full time|    2|\n",
            "|  Market big data a...|6 thousand -8 tho...|            Shenzhen|             Qianhai|  Experience is unl...|        Junior college|          Full time|    2|\n",
            "|  Data cooperation ...|10 thousand-15 th...|           Changchun|     People's street|            5-10 years|  Undergraduate course|          Full time|    2|\n",
            "|  Web development e...|4 thousand -6 tho...|           Changchun|   Jida south school|             1-3 years|        Junior college|          Full time|    2|\n",
            "|       project manager|4 thousand -6 tho...|           Changchun|   Jida south school|  Experience is unl...|  Education is not ...|          Full time|    2|\n",
            "|  Agile development...|8 thousand-16 tho...|           Changchun|      Neutralization|            5-10 years|  Undergraduate course|          Full time|    2|\n",
            "|  Report developmen...|4 thousand -6 tho...|           Changchun|           Net month|             1-3 years|        Junior college|          Full time|    2|\n",
            "|  Changchun -ETL En...|4 thousand -8 tho...|Changchun Green Park|         Haoyue road|             1-3 years|  Undergraduate course|          Full time|    2|\n",
            "|  Commodity supervisor|4 thousand -6 tho...|           Changchun|    Clear and Bright|             1-3 years|        Junior college|          Full time|    2|\n",
            "|  Virtualization en...|4 thousand -6 tho...|           Changchun|   Jida south school|             1-3 years|        Junior college|          Full time|    2|\n",
            "|  Honeycomb mainten...|4 thousand -6 tho...|           Changchun|      Dongnanhu road|          Under 1 year|        Junior college|          Full time|    2|\n",
            "|          Data analyst|4 thousand -6 tho...|Chaoyang District...|      Qianjin avenue|  Experience is unl...|                master|          Full time|    2|\n",
            "|  Copywriting opera...|4 thousand -6 tho...|           Changchun|   Jida south school|  Experience is unl...|        Junior college|          Full time|    2|\n",
            "|  Stable-Work, Sale...|4 thousand -6 tho...|           Changchun|              Puyang|  Experience is unl...|  Education is not ...|          Full time|    2|\n",
            "|  Weak current pre-...|4 thousand -6 tho...|           Changchun|   Jida south school|             1-3 years|        Junior college|          Full time|    2|\n",
            "|  Product planning ...|5 thousand-10 tho...|           Changchun|High tech Develop...|             1-3 years|                master|          Full time|    2|\n",
            "|          data analyst|10 thousand-15 th...|            Shenzhen|Science and techn...|             3-5 years|  Undergraduate course|          Full time|    2|\n",
            "|     Sales back office|Two thousand-four...|           Changchun|   Jida south school|  Experience is unl...|        Junior college|          Full time|    2|\n",
            "|  Big Data Expert-Z...|15 thousand-25 th...|               Wuhan|          Mount Guan|             3-5 years|  Undergraduate course|          Full time|    2|\n",
            "|  Used car informat...|           3.5k-4.5k|Changchun High-te...|High tech Develop...|             1-3 years|  Education is not ...|          Full time|    2|\n",
            "|       Data specialist|4 thousand -6 tho...|            Shenzhen|       Shopping park|  Experience is unl...|        Junior college|          Full time|    2|\n",
            "|  Sales Manager-Cho...|    15,000 to 20,000|           Chongqing|    Shangqing temple|             3-5 years|  Undergraduate course|          Full time|    2|\n",
            "+----------------------+--------------------+--------------------+--------------------+----------------------+----------------------+-------------------+-----+\n",
            "\n"
          ]
        }
      ],
      "source": [
        "grouped_data = advert_df.groupBy('Job title', 'Salary range', 'Location 1','Location 2','Experience requirement','Education requirements','Job requirements').agg(count('*').alias('count'))\n",
        "duplicates = grouped_data.filter(grouped_data['count'] > 1)\n",
        "duplicates.sort(\"count\", ascending=False).show(n=1013)"
      ]
    },
    {
      "cell_type": "markdown",
      "metadata": {
        "id": "XF0SLKY0vJj_"
      },
      "source": [
        "### Remove duplicate job adverts  [2 Marks]"
      ]
    },
    {
      "cell_type": "code",
      "execution_count": 19,
      "metadata": {
        "colab": {
          "base_uri": "https://localhost:8080/"
        },
        "id": "4oz_AIhTvh3J",
        "outputId": "7541abc6-5c6b-430c-97e3-ba5511ccf8d0"
      },
      "outputs": [
        {
          "output_type": "stream",
          "name": "stdout",
          "text": [
            "The total number of unique job adverts: 14465\n"
          ]
        }
      ],
      "source": [
        "advert_df = advert_df.dropDuplicates(advert_df.columns)\n",
        "print(\"The total number of unique job adverts: {:d}\".format(advert_df.count()))"
      ]
    },
    {
      "cell_type": "markdown",
      "metadata": {
        "id": "5dJeJn0tv9br"
      },
      "source": [
        "### Combine the columns `Location 1` and `Location 2` as `Location`  [1 Mark]"
      ]
    },
    {
      "cell_type": "code",
      "execution_count": 20,
      "metadata": {
        "colab": {
          "base_uri": "https://localhost:8080/"
        },
        "id": "qJ3HW2TEv-fv",
        "outputId": "875dc611-1863-47ca-ce0a-bec529191ec8"
      },
      "outputs": [
        {
          "output_type": "stream",
          "name": "stdout",
          "text": [
            "+------------------------------------------------------------------------+-----------------------+-------------------------------------+-----------------------+----------------------+----------------+\n",
            "|Job title                                                               |Salary range           |Location                             |Experience Requirement |Education requirements|Job requirements|\n",
            "+------------------------------------------------------------------------+-----------------------+-------------------------------------+-----------------------+----------------------+----------------+\n",
            "|Data warehouse development engineer                                     |Negotiable             |Beijing Chaoyang road                |3-5 years              |Undergraduate course  |Full time       |\n",
            "|Data visualization engineer assistant (can practice for 5K)             |6 thousand -8 thousand |Beijing Baishiqiao                   |Experience is unlimited|Junior college        |Full time       |\n",
            "|Data Management Consultant-Data Quality Direction                       |10 thousand-15 thousand|Beijing Drum tower                   |3-5 years              |Junior college        |Full time       |\n",
            "|Data return visit specialist                                            |4 thousand -6 thousand |Wuhou District, Chengdu Tongzi forest|Under 1 year           |Junior college        |Full time       |\n",
            "|Data assistant                                                          |6 thousand -9 thousand |Chengdu high-tech zone Neutralization|1-3 years              |Undergraduate course  |Full time       |\n",
            "|Data product manager                                                    |15,000 to 30,000       |Wuhou District, Chengdu Guixi        |3-5 years              |Junior college        |Full time       |\n",
            "|Big Data (College Teachers)                                             |6 thousand -9 thousand |Chengdu Tianfu New District Unity    |1-3 years              |Undergraduate course  |Full time       |\n",
            "|Financial data analyst                                                  |8000-15000             |Chengdu high-tech zone Neutralization|1-3 years              |Undergraduate course  |Full time       |\n",
            "|Internet data analysis specialist                                       |6 thousand -8 thousand |Chengdu Liucheng                     |Experience is unlimited|Junior college        |Full time       |\n",
            "|Python+java development engineer (data mining and database construction)|75 thousand-15 thousand|Chengdu Zhengxing                    |1-3 years              |master                |Full time       |\n",
            "+------------------------------------------------------------------------+-----------------------+-------------------------------------+-----------------------+----------------------+----------------+\n",
            "only showing top 10 rows\n",
            "\n"
          ]
        }
      ],
      "source": [
        "advert_df = advert_df.withColumn(\"Location\", concat(col(\"Location 1\"),lit(\" \"),col(\"Location 2\")))\n",
        "advert_df = advert_df.select('Job title','Salary range','Location', 'Experience Requirement', 'Education requirements','Job requirements')\n",
        "advert_df.show(n=10, truncate=False)"
      ]
    },
    {
      "cell_type": "markdown",
      "metadata": {
        "id": "Hk6WWhF997E-"
      },
      "source": [
        "### Normalise the data in `Salary range` [10 Marks]\n",
        "\n",
        "Normalise the records in `Salary range` column according the following definition. For a salary record in the range of $[A,B]$, compute the average $C = \\frac{A+B}{2}$ and use the following mapping for the new value of the record:\n",
        "\n",
        "* If $0 \\leq C < 4000$, then `record_value = '(A)<4K'`\n",
        "* If $4000 \\leq C < 8000$, then `record_value = '(B)[4K,8K)'`\n",
        "* If $8000 \\leq C < 12000$, then `record_value = '(C)[8K,12K)'`\n",
        "* If $12000 \\leq C < 16000$, then `record_value = '(D)[12K,16K)'`\n",
        "* If $16000 \\leq C < 20000$, then `record_value = '(E)[16K,20K)'`\n",
        "* If $C \\geq 20000$, then `record_value = '(F)>20K'`\n",
        "* Otherwise, `record_value = '(G)Interview'`\n",
        "\n",
        "You must use Pyspark UDF from `from pyspark.sql.functions import udf` to implement this task."
      ]
    },
    {
      "cell_type": "code",
      "execution_count": 21,
      "metadata": {
        "id": "NoIUS6mBU90F"
      },
      "outputs": [],
      "source": [
        "data = advert_df\n",
        "data = data.withColumn(\"Salary range\", regexp_replace(\"Salary range\", \"to\", \"-\"))\n",
        "data = data.withColumn(\"Salary range\", lower(data[\"Salary range\"]))"
      ]
    },
    {
      "cell_type": "code",
      "execution_count": 22,
      "metadata": {
        "id": "wNtWr7GUZ-9y"
      },
      "outputs": [],
      "source": [
        "#Changing any possible words to numbers\n",
        "data = data.withColumn(\"Salary range\", regexp_replace(\"Salary range\", \"k\", \"thousand\"))\n",
        "data = data.withColumn(\"Salary range\", regexp_replace(\"Salary range\", \"one\", \"1\"))\n",
        "data = data.withColumn(\"Salary range\", regexp_replace(\"Salary range\", \"two\", \"2\"))\n",
        "data = data.withColumn(\"Salary range\", regexp_replace(\"Salary range\", \"three\", \"3\"))\n",
        "data = data.withColumn(\"Salary range\", regexp_replace(\"Salary range\", \"four\", \"4\"))\n",
        "data = data.withColumn(\"Salary range\", regexp_replace(\"Salary range\", \"five\", \"5\"))\n",
        "data = data.withColumn(\"Salary range\", regexp_replace(\"Salary range\", \"six\", \"6\"))\n",
        "data = data.withColumn(\"Salary range\", regexp_replace(\"Salary range\", \"seven\", \"7\"))\n",
        "data = data.withColumn(\"Salary range\", regexp_replace(\"Salary range\", \"eight\", \"8\"))\n",
        "data = data.withColumn(\"Salary range\", regexp_replace(\"Salary range\", \"nine\", \"9\"))\n",
        "\n",
        "\n",
        "data = data.withColumn('A', split(data['Salary range'], '-')[0]) \\\n",
        "    .withColumn('B', split(data['Salary range'], '-')[1])\n",
        "\n",
        "\n",
        "data = data.withColumn(\"A\", regexp_replace(\"A\", \" \", \"\"))\n",
        "\n",
        "def process_column(df, column):\n",
        "    df = df.withColumn(column, \n",
        "                      when((length(df[column]) == 11) & df[column].rlike(\"thousand\"), concat(df[column], lit(\"00\")))\n",
        "                      .otherwise(df[column]))\n",
        "    df = df.withColumn(column, \n",
        "                      when((length(df[column]) == 10) & df[column].rlike(\"thousand\"), concat(df[column], lit(\"000\")))\n",
        "                      .otherwise(df[column]))\n",
        "    df = df.withColumn(column, \n",
        "                      when((length(df[column]) == 9) & df[column].rlike(\"thousand\"), concat(df[column], lit(\"000\")))\n",
        "                      .otherwise(df[column]))\n",
        "    df = df.withColumn(column, \n",
        "                      when((length(df[column]) == 3), concat(df[column], lit(\"00\")))\n",
        "                      .otherwise(df[column]))\n",
        "    df = df.withColumn(column, regexp_replace(column, \"thousand\", \"\"))\n",
        "    df = df.withColumn(column, regexp_replace(col(column), \"[^\\w\\s]\", \"\"))\n",
        "    \n",
        "    return df\n",
        "\n",
        "data = process_column(data, \"A\")\n",
        "data = data.withColumn(\"B\", regexp_replace(\"B\", \" \", \"\"))\n",
        "data = process_column(data, \"B\")\n",
        "data = data.withColumn(\"A\", data[\"A\"].cast(\"integer\"))\n",
        "data = data.withColumn(\"B\", data[\"B\"].cast(\"integer\"))\n",
        "\n",
        "\n"
      ]
    },
    {
      "cell_type": "code",
      "execution_count": 23,
      "metadata": {
        "id": "nIzz2L_z0I9p",
        "colab": {
          "base_uri": "https://localhost:8080/"
        },
        "outputId": "8adeccc8-cfe2-43c0-ddc6-73439de7fdb9"
      },
      "outputs": [
        {
          "output_type": "stream",
          "name": "stdout",
          "text": [
            "+--------------------+------------+--------------------+----------------------+----------------------+----------------+\n",
            "|           Job title|Salary range|            Location|Experience Requirement|Education requirements|Job requirements|\n",
            "+--------------------+------------+--------------------+----------------------+----------------------+----------------+\n",
            "|Data warehouse de...|(G)Interview|Beijing Chaoyang ...|             3-5 years|  Undergraduate course|       Full time|\n",
            "|Data visualizatio...|  (B)[4K,8K)|  Beijing Baishiqiao|  Experience is unl...|        Junior college|       Full time|\n",
            "|Data Management C...|(D)[12K,16K)|  Beijing Drum tower|             3-5 years|        Junior college|       Full time|\n",
            "|Data return visit...|  (B)[4K,8K)|Wuhou District, C...|          Under 1 year|        Junior college|       Full time|\n",
            "|      Data assistant|  (B)[4K,8K)|Chengdu high-tech...|             1-3 years|  Undergraduate course|       Full time|\n",
            "|Data product manager|     (F)>20K|Wuhou District, C...|             3-5 years|        Junior college|       Full time|\n",
            "|Big Data (College...|  (B)[4K,8K)|Chengdu Tianfu Ne...|             1-3 years|  Undergraduate course|       Full time|\n",
            "|Financial data an...| (C)[8K,12K)|Chengdu high-tech...|             1-3 years|  Undergraduate course|       Full time|\n",
            "|Internet data ana...|  (B)[4K,8K)|    Chengdu Liucheng|  Experience is unl...|        Junior college|       Full time|\n",
            "|Python+java devel...|     (F)>20K|   Chengdu Zhengxing|             1-3 years|                master|       Full time|\n",
            "|Bank credit card ...| (C)[8K,12K)|Qingyang District...|  Experience is unl...|        Junior college|       Full time|\n",
            "|Data Clerk (Civil...|(G)Interview|Ganjingzi Distric...|             1-3 years|        Junior college|       Full time|\n",
            "|A clerk (data ana...|     (A) <4K|Dalian Zhongshan ...|             1-3 years|  Undergraduate course|       Full time|\n",
            "|Big Data R&D Engi...|  (B)[4K,8K)| Fuzhou Copper plate|             1-3 years|  Undergraduate course|       Full time|\n",
            "|Data Operations A...|  (B)[4K,8K)|Guangzhou Golden ...|  Experience is unl...|        Junior college|       Full time|\n",
            "|Data center infra...|  (B)[4K,8K)|   Guangzhou Shiqiao|  Experience is unl...|  Education is not ...|       Full time|\n",
            "|Data analysis ass...|  (B)[4K,8K)|     Guangzhou Shahe|          inexperience|  Undergraduate course|          Campus|\n",
            "|Financial data an...|  (B)[4K,8K)|Guangzhou Tianhe Bei|  Experience is unl...|  Undergraduate course|       Full time|\n",
            "|Big data developm...|(E)[16K,20K)| Guangzhou east wind|             3-5 years|  Undergraduate course|       Full time|\n",
            "|Senior Big Data E...|     (F)>20K|    Guangzhou Dongpu|             3-5 years|  Undergraduate course|       Full time|\n",
            "|Intermediate data...|(D)[12K,16K)|Guangzhou sports ...|             3-5 years|  Undergraduate course|       Full time|\n",
            "|Big data analysis...|  (B)[4K,8K)|    Guiyang Fountain|  Experience is unl...|  Technical seconda...|       Full time|\n",
            "|First-and second-...|(E)[16K,20K)|Guiyang Yan shan ...|  Experience is unl...|  Education is not ...|       Full time|\n",
            "|Java development ...|(D)[12K,16K)|Yunyan District o...|             3-5 years|  Undergraduate course|       Full time|\n",
            "|     Bi data analyst|(D)[12K,16K)|Hangzhou Chinese ...|             3-5 years|        Junior college|       Full time|\n",
            "|     Data specialist|  (B)[4K,8K)|      Hangzhou Puyan|          inexperience|        Junior college|       Full time|\n",
            "|Data analyst (J10...|(D)[12K,16K)| Hangzhou long river|             1-3 years|  Undergraduate course|       Full time|\n",
            "|Technology and fi...| (C)[8K,12K)|Xiacheng District...|          inexperience|  Undergraduate course|       Full time|\n",
            "|Administrative as...|  (B)[4K,8K)|    Hangzhou Ningwei|  Experience is unl...|  Education is not ...|       Full time|\n",
            "|Data analysis eng...| (C)[8K,12K)|        Jinan Yaojia|             3-5 years|  Undergraduate course|       Full time|\n",
            "|Data integration ...|  (B)[4K,8K)| Jinan Ganshi bridge|             1-3 years|        Junior college|       Full time|\n",
            "|ETL engineer of b...|  (B)[4K,8K)|      Jinan Dongguan|  Experience is unl...|        Junior college|       Full time|\n",
            "|Market research s...|  (B)[4K,8K)|Jinan Jiefang eas...|             1-3 years|        Junior college|       Full time|\n",
            "|Big data warehous...|(D)[12K,16K)|Yuhuatai District...|             3-5 years|  Undergraduate course|       Full time|\n",
            "|Intermediate Big ...|(E)[16K,20K)|Gulou District, N...|             3-5 years|  Undergraduate course|       Full time|\n",
            "|Senior java devel...|(D)[12K,16K)|Pukou District, N...|             3-5 years|  Undergraduate course|       Full time|\n",
            "|Spark development...|(E)[16K,20K)|Yuhuatai District...|             3-5 years|  Undergraduate course|       Full time|\n",
            "|Senior regional s...| (C)[8K,12K)|Nanjing Zhongyang...|             1-3 years|        Junior college|       Full time|\n",
            "|Data center produ...|     (F)>20K|      Ningbo Shounan|            5-10 years|  Undergraduate course|       Full time|\n",
            "|ETL development e...| (C)[8K,12K)| Xiamen Xianyue road|             3-5 years|  Undergraduate course|       Full time|\n",
            "|Hr Specialist-Par...|(D)[12K,16K)|  Shanghai Zhuanqiao|             3-5 years|  Undergraduate course|       Full time|\n",
            "|After-sales data ...| (C)[8K,12K)|Shanghai ornament...|             1-3 years|  Undergraduate course|       Full time|\n",
            "|Data Model Design...|     (F)>20K|    Beijing Sanlitun|             3-5 years|  Undergraduate course|       Full time|\n",
            "|Senior data analy...|(G)Interview|    Beijing Wangjing|             1-3 years|  Undergraduate course|       Full time|\n",
            "|Data research spe...| (C)[8K,12K)|    Beijing Xizhimen|  Experience is unl...|  Undergraduate course|       Full time|\n",
            "|Big Data Speciali...|  (B)[4K,8K)|Beijing West Rail...|          inexperience|        Junior college|       Full time|\n",
            "|        data analyst|(D)[12K,16K)|         Beijing CBD|  Experience is unl...|  Education is not ...|       Full time|\n",
            "|      Data operation| (C)[8K,12K)|Chengdu chenghua ...|  Experience is unl...|        Junior college|       Full time|\n",
            "|Data processing s...|  (B)[4K,8K)|Chengdu high-tech...|  Experience is unl...|        Junior college|       Full time|\n",
            "|     Data annotation|(G)Interview|Chengdu gaoxin we...|  Experience is unl...|  Education is not ...|       Full time|\n",
            "|Data Analyst (Inf...| (C)[8K,12K)|Chengdu south rai...|             1-3 years|  Undergraduate course|       Full time|\n",
            "|Data annotator (c...|  (B)[4K,8K)|Chengdu Niuwang t...|  Experience is unl...|        Junior college|       Full time|\n",
            "|Data analysis on ...|  (B)[4K,8K)|Chengdu high-tech...|  Experience is unl...|  Undergraduate course|       Full time|\n",
            "|Big Data Product ...|(G)Interview|Chengdu high-tech...|             3-5 years|  Undergraduate course|       Full time|\n",
            "|Procurement data ...|  (B)[4K,8K)|Dalian developmen...|             1-3 years|  Undergraduate course|       Full time|\n",
            "|  5G signal debugger|  (B)[4K,8K)|Dalian Zhongshan ...|  Experience is unl...|  Technical seconda...|       Full time|\n",
            "|     project manager| (C)[8K,12K)|  Dalian Yingchengzi|             3-5 years|  Undergraduate course|       Full time|\n",
            "|bigdata analyst/d...|(D)[12K,16K)|Fuzhou Hongshan b...|             3-5 years|  Undergraduate course|       Full time|\n",
            "|   Data optimization|  (B)[4K,8K)|  Guangzhou Huangshi|             1-3 years|        Junior college|       Full time|\n",
            "|Data Maintenance ...| (C)[8K,12K)|   Guangzhou Newport|             1-3 years|  Undergraduate course|       Full time|\n",
            "|      Data operation|  (B)[4K,8K)|    Guangzhou Shipai|  Experience is unl...|        Junior college|       Full time|\n",
            "|Data analysis spe...|  (B)[4K,8K)|   Guangzhou Newport|          inexperience|        Junior college|       Full time|\n",
            "|Department Manage...|(D)[12K,16K)|    Guangzhou Dongpu|             3-5 years|        Junior college|       Full time|\n",
            "|Big data development| (C)[8K,12K)|Nanming District,...|             3-5 years|  Undergraduate course|       Full time|\n",
            "|Big data connecti...|  (B)[4K,8K)|Wudang District o...|  Experience is unl...|  Education is not ...|       Full time|\n",
            "|Asset Data Specia...|  (B)[4K,8K)|    Hangzhou Triumph|  Experience is unl...|        Junior college|       Full time|\n",
            "|Data implementati...|  (B)[4K,8K)|Yuhang District, ...|  Experience is unl...|  Education is not ...|       Full time|\n",
            "|       Business data|  (B)[4K,8K)|gongshu district ...|  Experience is unl...|        Junior college|       Full time|\n",
            "|Big data developm...| (C)[8K,12K)|Hangzhou Qianjian...|          inexperience|                master|          Campus|\n",
            "|Logistics custome...|  (B)[4K,8K)|Yuhang District, ...|  Experience is unl...|        Junior college|       Full time|\n",
            "|E-commerce data a...| (C)[8K,12K)|Hefei Yangtze riv...|             1-3 years|  Undergraduate course|       Full time|\n",
            "|  Data analyst+Hefei| (C)[8K,12K)|hefei economic an...|             3-5 years|  Undergraduate course|       Full time|\n",
            "|Today's headline ...|  (B)[4K,8K)|Jinan Zhudian com...|  Experience is unl...|  Undergraduate course|       Full time|\n",
            "|Data analysis spe...|  (B)[4K,8K)|Jinan Convention ...|             1-3 years|  Undergraduate course|       Full time|\n",
            "|Regional Sales Ma...|  (B)[4K,8K)|    Jinan long river|             1-3 years|        Junior college|       Full time|\n",
            "|After sales engineer|  (B)[4K,8K)|Jiangning Distric...|             1-3 years|        Junior college|       Full time|\n",
            "|JAVA full stack e...|(E)[16K,20K)|Nanjing Xishan br...|            5-10 years|  Undergraduate course|       Full time|\n",
            "|        data analyst|(E)[16K,20K)|Beijing Jingshan ...|             3-5 years|  Undergraduate course|       Full time|\n",
            "|Logistics data st...|  (B)[4K,8K)|Jinjiang District...|  Experience is unl...|        Junior college|       Full time|\n",
            "|     Data specialist|  (B)[4K,8K)|Wuhou District, C...|          Under 1 year|        Junior college|       Full time|\n",
            "+--------------------+------------+--------------------+----------------------+----------------------+----------------+\n",
            "only showing top 80 rows\n",
            "\n"
          ]
        }
      ],
      "source": [
        "def map_salary_range(A, B):\n",
        "    if A is None or B is None:\n",
        "        return \"(G)Interview\"\n",
        "    else:\n",
        "        C = (A + B) / 2\n",
        "        if 0 <= C < 4000:\n",
        "            return \"(A) <4K\"\n",
        "        elif 4000 <= C < 8000:\n",
        "            return \"(B)[4K,8K)\"\n",
        "        elif 8000 <= C < 12000:\n",
        "            return \"(C)[8K,12K)\"\n",
        "        elif 12000 <= C < 16000:\n",
        "            return \"(D)[12K,16K)\"\n",
        "        elif 16000 <= C < 20000:\n",
        "            return \"(E)[16K,20K)\"\n",
        "        elif C >= 20000:\n",
        "            return \"(F)>20K\"\n",
        "\n",
        "map_salary_range_udf = udf(map_salary_range, StringType())\n",
        "\n",
        "data = data.withColumn('Salary range', map_salary_range_udf(data[\"A\"], data[\"B\"]))\n",
        "data = data.drop(\"A\")\n",
        "data = data.drop(\"B\")\n",
        "advert_df = data\n",
        "advert_df.show(80)\n"
      ]
    },
    {
      "cell_type": "markdown",
      "metadata": {
        "id": "6ZkPF3QRSPVz"
      },
      "source": [
        "### Normalise the data in `Location` as `Location` and `Tier`  [5 Marks]\n",
        "\n",
        "Normalise the records in `Location` column according the following definition. If the string value of the record contains any of the cities in the following dictionary, set the `Location` and the corresponding `Tier` for the record accordingly. If the string value does not contain any of the cities in the dictionary, then the corresponding record must be dropped. You need to pay particular attention to the city `Xi'an` in the records during the normalisation process.\n",
        "\n",
        "```\n",
        "cities = dict()\n",
        "cities[\"First-tier cities\"] = [\"Beijing\", \"Shanghai\", \"Guangzhou\", \"Shenzhen\"]\n",
        "\n",
        "cities[\"New first-tier cities\"] = [\"Chengdu\", \"Hefei\", \"Hangzhou\", \"Nanjing\", \n",
        "                                    \"Shenyang\", \"Tianjin\", \"Wuxi\", \"Wuhan\", \n",
        "                                    \"Xi'an\", \"Changsha\", \"Zhengzhou\", \"Chongqing\"]\n",
        "                                    \n",
        "cities[\"Others\"] = [\"Dalian\", \"Fuzhou\", \"Harbin\", \"Guiyang\", \"Jinan\", \"Ningbo\", \n",
        "                    \"Xiamen\", \"Shijiazhuang\", \"Changchun\"]\n",
        "```\n",
        "\n",
        "You must use Pyspark UDF from `from pyspark.sql.functions import udf` to implement this task."
      ]
    },
    {
      "cell_type": "code",
      "execution_count": 24,
      "metadata": {
        "colab": {
          "base_uri": "https://localhost:8080/"
        },
        "id": "yX-pd6Q-Z0kw",
        "outputId": "7c6de758-8c70-489e-8745-eae656848559"
      },
      "outputs": [
        {
          "output_type": "stream",
          "name": "stdout",
          "text": [
            "+--------------------+------------+---------+--------------------+----------------------+----------------------+----------------+\n",
            "|           Job title|Salary range| Location|                Tier|Experience requirement|Education requirements|Job requirements|\n",
            "+--------------------+------------+---------+--------------------+----------------------+----------------------+----------------+\n",
            "|Data warehouse de...|(G)Interview|  Beijing|   First-tier cities|             3-5 years|  Undergraduate course|       Full time|\n",
            "|Data visualizatio...|  (B)[4K,8K)|  Beijing|   First-tier cities|  Experience is unl...|        Junior college|       Full time|\n",
            "|Data Management C...|(D)[12K,16K)|  Beijing|   First-tier cities|             3-5 years|        Junior college|       Full time|\n",
            "|Data return visit...|  (B)[4K,8K)|  Chengdu|New first-tier ci...|          Under 1 year|        Junior college|       Full time|\n",
            "|      Data assistant|  (B)[4K,8K)|  Chengdu|New first-tier ci...|             1-3 years|  Undergraduate course|       Full time|\n",
            "|Data product manager|     (F)>20K|  Chengdu|New first-tier ci...|             3-5 years|        Junior college|       Full time|\n",
            "|Big Data (College...|  (B)[4K,8K)|  Chengdu|New first-tier ci...|             1-3 years|  Undergraduate course|       Full time|\n",
            "|Financial data an...| (C)[8K,12K)|  Chengdu|New first-tier ci...|             1-3 years|  Undergraduate course|       Full time|\n",
            "|Internet data ana...|  (B)[4K,8K)|  Chengdu|New first-tier ci...|  Experience is unl...|        Junior college|       Full time|\n",
            "|Python+java devel...|     (F)>20K|  Chengdu|New first-tier ci...|             1-3 years|                master|       Full time|\n",
            "|Bank credit card ...| (C)[8K,12K)|  Chengdu|New first-tier ci...|  Experience is unl...|        Junior college|       Full time|\n",
            "|Data Clerk (Civil...|(G)Interview|   Dalian|              Others|             1-3 years|        Junior college|       Full time|\n",
            "|A clerk (data ana...|     (A) <4K|   Dalian|              Others|             1-3 years|  Undergraduate course|       Full time|\n",
            "|Big Data R&D Engi...|  (B)[4K,8K)|   Fuzhou|              Others|             1-3 years|  Undergraduate course|       Full time|\n",
            "|Data Operations A...|  (B)[4K,8K)|Guangzhou|   First-tier cities|  Experience is unl...|        Junior college|       Full time|\n",
            "|Data center infra...|  (B)[4K,8K)|Guangzhou|   First-tier cities|  Experience is unl...|  Education is not ...|       Full time|\n",
            "|Data analysis ass...|  (B)[4K,8K)|Guangzhou|   First-tier cities|          inexperience|  Undergraduate course|          Campus|\n",
            "|Financial data an...|  (B)[4K,8K)|Guangzhou|   First-tier cities|  Experience is unl...|  Undergraduate course|       Full time|\n",
            "|Big data developm...|(E)[16K,20K)|Guangzhou|   First-tier cities|             3-5 years|  Undergraduate course|       Full time|\n",
            "|Senior Big Data E...|     (F)>20K|Guangzhou|   First-tier cities|             3-5 years|  Undergraduate course|       Full time|\n",
            "|Intermediate data...|(D)[12K,16K)|Guangzhou|   First-tier cities|             3-5 years|  Undergraduate course|       Full time|\n",
            "|Big data analysis...|  (B)[4K,8K)|  Guiyang|              Others|  Experience is unl...|  Technical seconda...|       Full time|\n",
            "|First-and second-...|(E)[16K,20K)|  Guiyang|              Others|  Experience is unl...|  Education is not ...|       Full time|\n",
            "|Java development ...|(D)[12K,16K)|  Guiyang|              Others|             3-5 years|  Undergraduate course|       Full time|\n",
            "|     Bi data analyst|(D)[12K,16K)| Hangzhou|New first-tier ci...|             3-5 years|        Junior college|       Full time|\n",
            "|     Data specialist|  (B)[4K,8K)| Hangzhou|New first-tier ci...|          inexperience|        Junior college|       Full time|\n",
            "|Data analyst (J10...|(D)[12K,16K)| Hangzhou|New first-tier ci...|             1-3 years|  Undergraduate course|       Full time|\n",
            "|Technology and fi...| (C)[8K,12K)| Hangzhou|New first-tier ci...|          inexperience|  Undergraduate course|       Full time|\n",
            "|Administrative as...|  (B)[4K,8K)| Hangzhou|New first-tier ci...|  Experience is unl...|  Education is not ...|       Full time|\n",
            "|Data analysis eng...| (C)[8K,12K)|    Jinan|              Others|             3-5 years|  Undergraduate course|       Full time|\n",
            "|Data integration ...|  (B)[4K,8K)|    Jinan|              Others|             1-3 years|        Junior college|       Full time|\n",
            "|ETL engineer of b...|  (B)[4K,8K)|    Jinan|              Others|  Experience is unl...|        Junior college|       Full time|\n",
            "|Market research s...|  (B)[4K,8K)|    Jinan|              Others|             1-3 years|        Junior college|       Full time|\n",
            "|Big data warehous...|(D)[12K,16K)|  Nanjing|New first-tier ci...|             3-5 years|  Undergraduate course|       Full time|\n",
            "|Intermediate Big ...|(E)[16K,20K)|  Nanjing|New first-tier ci...|             3-5 years|  Undergraduate course|       Full time|\n",
            "|Senior java devel...|(D)[12K,16K)|  Nanjing|New first-tier ci...|             3-5 years|  Undergraduate course|       Full time|\n",
            "|Spark development...|(E)[16K,20K)|  Nanjing|New first-tier ci...|             3-5 years|  Undergraduate course|       Full time|\n",
            "|Senior regional s...| (C)[8K,12K)|  Nanjing|New first-tier ci...|             1-3 years|        Junior college|       Full time|\n",
            "|Data center produ...|     (F)>20K|   Ningbo|              Others|            5-10 years|  Undergraduate course|       Full time|\n",
            "|ETL development e...| (C)[8K,12K)|   Xiamen|              Others|             3-5 years|  Undergraduate course|       Full time|\n",
            "|Hr Specialist-Par...|(D)[12K,16K)| Shanghai|   First-tier cities|             3-5 years|  Undergraduate course|       Full time|\n",
            "|After-sales data ...| (C)[8K,12K)| Shanghai|   First-tier cities|             1-3 years|  Undergraduate course|       Full time|\n",
            "|Data Model Design...|     (F)>20K|  Beijing|   First-tier cities|             3-5 years|  Undergraduate course|       Full time|\n",
            "|Senior data analy...|(G)Interview|  Beijing|   First-tier cities|             1-3 years|  Undergraduate course|       Full time|\n",
            "|Data research spe...| (C)[8K,12K)|  Beijing|   First-tier cities|  Experience is unl...|  Undergraduate course|       Full time|\n",
            "|Big Data Speciali...|  (B)[4K,8K)|  Beijing|   First-tier cities|          inexperience|        Junior college|       Full time|\n",
            "|        data analyst|(D)[12K,16K)|  Beijing|   First-tier cities|  Experience is unl...|  Education is not ...|       Full time|\n",
            "|      Data operation| (C)[8K,12K)|  Chengdu|New first-tier ci...|  Experience is unl...|        Junior college|       Full time|\n",
            "|Data processing s...|  (B)[4K,8K)|  Chengdu|New first-tier ci...|  Experience is unl...|        Junior college|       Full time|\n",
            "|     Data annotation|(G)Interview|  Chengdu|New first-tier ci...|  Experience is unl...|  Education is not ...|       Full time|\n",
            "|Data Analyst (Inf...| (C)[8K,12K)|  Chengdu|New first-tier ci...|             1-3 years|  Undergraduate course|       Full time|\n",
            "|Data annotator (c...|  (B)[4K,8K)|  Chengdu|New first-tier ci...|  Experience is unl...|        Junior college|       Full time|\n",
            "|Data analysis on ...|  (B)[4K,8K)|  Chengdu|New first-tier ci...|  Experience is unl...|  Undergraduate course|       Full time|\n",
            "|Big Data Product ...|(G)Interview|  Chengdu|New first-tier ci...|             3-5 years|  Undergraduate course|       Full time|\n",
            "|Procurement data ...|  (B)[4K,8K)|   Dalian|              Others|             1-3 years|  Undergraduate course|       Full time|\n",
            "|  5G signal debugger|  (B)[4K,8K)|   Dalian|              Others|  Experience is unl...|  Technical seconda...|       Full time|\n",
            "|     project manager| (C)[8K,12K)|   Dalian|              Others|             3-5 years|  Undergraduate course|       Full time|\n",
            "|bigdata analyst/d...|(D)[12K,16K)|   Fuzhou|              Others|             3-5 years|  Undergraduate course|       Full time|\n",
            "|   Data optimization|  (B)[4K,8K)|Guangzhou|   First-tier cities|             1-3 years|        Junior college|       Full time|\n",
            "|Data Maintenance ...| (C)[8K,12K)|Guangzhou|   First-tier cities|             1-3 years|  Undergraduate course|       Full time|\n",
            "|      Data operation|  (B)[4K,8K)|Guangzhou|   First-tier cities|  Experience is unl...|        Junior college|       Full time|\n",
            "|Data analysis spe...|  (B)[4K,8K)|Guangzhou|   First-tier cities|          inexperience|        Junior college|       Full time|\n",
            "|Department Manage...|(D)[12K,16K)|Guangzhou|   First-tier cities|             3-5 years|        Junior college|       Full time|\n",
            "|Big data development| (C)[8K,12K)|  Guiyang|              Others|             3-5 years|  Undergraduate course|       Full time|\n",
            "|Big data connecti...|  (B)[4K,8K)|  Guiyang|              Others|  Experience is unl...|  Education is not ...|       Full time|\n",
            "|Asset Data Specia...|  (B)[4K,8K)| Hangzhou|New first-tier ci...|  Experience is unl...|        Junior college|       Full time|\n",
            "|Data implementati...|  (B)[4K,8K)| Hangzhou|New first-tier ci...|  Experience is unl...|  Education is not ...|       Full time|\n",
            "|Big data developm...| (C)[8K,12K)| Hangzhou|New first-tier ci...|          inexperience|                master|          Campus|\n",
            "|Logistics custome...|  (B)[4K,8K)| Hangzhou|New first-tier ci...|  Experience is unl...|        Junior college|       Full time|\n",
            "|E-commerce data a...| (C)[8K,12K)|    Hefei|New first-tier ci...|             1-3 years|  Undergraduate course|       Full time|\n",
            "|  Data analyst+Hefei| (C)[8K,12K)|    Hefei|New first-tier ci...|             3-5 years|  Undergraduate course|       Full time|\n",
            "|Today's headline ...|  (B)[4K,8K)|    Jinan|              Others|  Experience is unl...|  Undergraduate course|       Full time|\n",
            "|Data analysis spe...|  (B)[4K,8K)|    Jinan|              Others|             1-3 years|  Undergraduate course|       Full time|\n",
            "|Regional Sales Ma...|  (B)[4K,8K)|    Jinan|              Others|             1-3 years|        Junior college|       Full time|\n",
            "|After sales engineer|  (B)[4K,8K)|  Nanjing|New first-tier ci...|             1-3 years|        Junior college|       Full time|\n",
            "|JAVA full stack e...|(E)[16K,20K)|  Nanjing|New first-tier ci...|            5-10 years|  Undergraduate course|       Full time|\n",
            "|        data analyst|(E)[16K,20K)|  Beijing|   First-tier cities|             3-5 years|  Undergraduate course|       Full time|\n",
            "|Logistics data st...|  (B)[4K,8K)|  Chengdu|New first-tier ci...|  Experience is unl...|        Junior college|       Full time|\n",
            "|     Data specialist|  (B)[4K,8K)|  Chengdu|New first-tier ci...|          Under 1 year|        Junior college|       Full time|\n",
            "|      Data operation|(E)[16K,20K)|  Chengdu|New first-tier ci...|             3-5 years|  Undergraduate course|       Full time|\n",
            "+--------------------+------------+---------+--------------------+----------------------+----------------------+----------------+\n",
            "only showing top 80 rows\n",
            "\n"
          ]
        }
      ],
      "source": [
        "cities = dict()\n",
        "\n",
        "cities[\"First-tier cities\"] = [\"Beijing\", \"Shanghai\", \"Guangzhou\", \"Shenzhen\"]\n",
        "\n",
        "cities[\"New first-tier cities\"] = [\"Chengdu\", \"Hefei\", \"Hangzhou\", \"Nanjing\", \n",
        "                                    \"Shenyang\", \"Tianjin\", \"Wuxi\", \"Wuhan\", \n",
        "                                    \"Xi'an\", \"Changsha\", \"Zhengzhou\", \"Chongqing\"]\n",
        "\n",
        "cities[\"Others\"] = [\"Dalian\", \"Fuzhou\", \"Harbin\", \"Guiyang\", \"Jinan\", \"Ningbo\", \n",
        "                    \"Xiamen\", \"Shijiazhuang\", \"Changchun\"]\n",
        "\n",
        "# Define the normalize_location function\n",
        "def normalize_location(location):\n",
        "    for tier, city_list in cities.items():\n",
        "        for city in city_list:\n",
        "            if city in location:\n",
        "                return (city, tier)\n",
        "            \n",
        "    return (None, None)\n",
        "\n",
        "data = advert_df \n",
        "\n",
        "\n",
        "data = data.withColumn(\"Location\", initcap(data[\"Location\"]))\n",
        "data = data.withColumn(\"Location\", regexp_replace(\"Location\", \"Xi ' An\", \"Xi'an\"))\n",
        "data = data.withColumn(\"Location\", regexp_replace(\"Location\", \"Xi ' an\", \"Xi'an\"))\n",
        "data = data.withColumn(\"Location\", regexp_replace(\"Location\", \"Xi 'an\", \"Xi'an\"))\n",
        "\n",
        "  \n",
        "\n",
        "normalize_location_udf = udf(normalize_location, StructType([\n",
        "    StructField(\"Location\", StringType(), True),\n",
        "    StructField(\"Tier\", StringType(), True)\n",
        "]))\n",
        "\n",
        "\n",
        "normalized_data = data.withColumn(\"normalized\", normalize_location_udf(data[\"Location\"]))\n",
        "\n",
        "\n",
        "filtered_data = normalized_data.filter(normalized_data[\"normalized\"][\"Location\"].isNotNull())\n",
        "\n",
        "\n",
        "result = filtered_data.withColumn(\"Location\", filtered_data[\"normalized\"][\"Location\"]) \\\n",
        "                      .withColumn(\"Tier\", filtered_data[\"normalized\"][\"Tier\"]) \\\n",
        "                      .drop(\"normalized\")\n",
        "\n",
        "advert_df = result.select(\"Job title\",\"Salary range\", \"Location\", \"Tier\",\"Experience requirement\",\"Education requirements\", \"Job requirements\")\n",
        "advert_df.show(80)\n"
      ]
    },
    {
      "cell_type": "markdown",
      "metadata": {
        "id": "4NRp_c7Ja1Ks"
      },
      "source": [
        "### Check the shape of the dataset after normalisation, i.e., the numbers of rows and columns"
      ]
    },
    {
      "cell_type": "code",
      "execution_count": 25,
      "metadata": {
        "colab": {
          "base_uri": "https://localhost:8080/"
        },
        "id": "qMPhyfy7bbpG",
        "outputId": "ddfa5534-5aae-4e8c-f6bd-0c715e1d7257"
      },
      "outputs": [
        {
          "output_type": "stream",
          "name": "stdout",
          "text": [
            "The shape of the dataset is 14377 rows by 7 columns\n"
          ]
        }
      ],
      "source": [
        "print(\"The shape of the dataset is {:d} rows by {:d} columns\".format(advert_df.count(), len(advert_df.columns)))"
      ]
    },
    {
      "cell_type": "markdown",
      "metadata": {
        "id": "GjeNEtIB5sqb"
      },
      "source": [
        "### Normalise the data in `Experience requirement`  [5 Marks]\n",
        "\n",
        "Normalise the records in `Experience` column according the following definition. For an experience requirement in the range of $[A,B]$, compute the average $C = \\frac{A+B}{2}$ and use the following mapping for the new value of the record:\n",
        "\n",
        "* If $C <= 3$, then `record_value = '(A)1-3 years'`\n",
        "* If $C > 3$, then `record_value = '(B)More than 3 years'`\n",
        "* Otherwise, `record_value = '(C)Experience unlimited'`\n",
        "\n",
        "You must use Pyspark UDF from `from pyspark.sql.functions import udf` to implement this task.\n"
      ]
    },
    {
      "cell_type": "code",
      "execution_count": 26,
      "metadata": {
        "id": "mbKXHvJIfs-Y"
      },
      "outputs": [],
      "source": [
        "def experience_requirement(A, B):\n",
        "    if A is None or B is None:\n",
        "        return \"(C)Experience unlimited\"\n",
        "    else:\n",
        "        C = (A + B) / 2\n",
        "        if C < 0:\n",
        "            return \"(C)Experience unlimited\"\n",
        "        elif C <= 3:\n",
        "            return \"(A)1-3 years\"\n",
        "        elif C > 3:\n",
        "            return \"(B)More than 3 years\"\n",
        "        else:\n",
        "            return \"(C)Experience unlimited\"\n",
        "\n",
        "experience_requirement_udf = udf(experience_requirement, StringType())\n"
      ]
    },
    {
      "cell_type": "code",
      "execution_count": 27,
      "metadata": {
        "colab": {
          "base_uri": "https://localhost:8080/"
        },
        "id": "mKwziD2xjA14",
        "outputId": "105867fb-0a60-4ba9-ee2a-8db28fbacac4"
      },
      "outputs": [
        {
          "output_type": "stream",
          "name": "stdout",
          "text": [
            "+--------------------+------------+---------+--------------------+----------------------+----------------------+----------------+\n",
            "|           Job title|Salary range| Location|                Tier|Experience requirement|Education requirements|Job requirements|\n",
            "+--------------------+------------+---------+--------------------+----------------------+----------------------+----------------+\n",
            "|Data warehouse de...|(G)Interview|  Beijing|   First-tier cities|  (B)More than 3 years|  Undergraduate course|       Full time|\n",
            "|Data visualizatio...|  (B)[4K,8K)|  Beijing|   First-tier cities|  (C)Experience unl...|        Junior college|       Full time|\n",
            "|Data Management C...|(D)[12K,16K)|  Beijing|   First-tier cities|  (B)More than 3 years|        Junior college|       Full time|\n",
            "|Data return visit...|  (B)[4K,8K)|  Chengdu|New first-tier ci...|          (A)1-3 years|        Junior college|       Full time|\n",
            "|      Data assistant|  (B)[4K,8K)|  Chengdu|New first-tier ci...|          (A)1-3 years|  Undergraduate course|       Full time|\n",
            "|Data product manager|     (F)>20K|  Chengdu|New first-tier ci...|  (B)More than 3 years|        Junior college|       Full time|\n",
            "|Big Data (College...|  (B)[4K,8K)|  Chengdu|New first-tier ci...|          (A)1-3 years|  Undergraduate course|       Full time|\n",
            "|Financial data an...| (C)[8K,12K)|  Chengdu|New first-tier ci...|          (A)1-3 years|  Undergraduate course|       Full time|\n",
            "|Internet data ana...|  (B)[4K,8K)|  Chengdu|New first-tier ci...|  (C)Experience unl...|        Junior college|       Full time|\n",
            "|Python+java devel...|     (F)>20K|  Chengdu|New first-tier ci...|          (A)1-3 years|                master|       Full time|\n",
            "|Bank credit card ...| (C)[8K,12K)|  Chengdu|New first-tier ci...|  (C)Experience unl...|        Junior college|       Full time|\n",
            "|Data Clerk (Civil...|(G)Interview|   Dalian|              Others|          (A)1-3 years|        Junior college|       Full time|\n",
            "|A clerk (data ana...|     (A) <4K|   Dalian|              Others|          (A)1-3 years|  Undergraduate course|       Full time|\n",
            "|Big Data R&D Engi...|  (B)[4K,8K)|   Fuzhou|              Others|          (A)1-3 years|  Undergraduate course|       Full time|\n",
            "|Data Operations A...|  (B)[4K,8K)|Guangzhou|   First-tier cities|  (C)Experience unl...|        Junior college|       Full time|\n",
            "|Data center infra...|  (B)[4K,8K)|Guangzhou|   First-tier cities|  (C)Experience unl...|  Education is not ...|       Full time|\n",
            "|Data analysis ass...|  (B)[4K,8K)|Guangzhou|   First-tier cities|  (C)Experience unl...|  Undergraduate course|          Campus|\n",
            "|Financial data an...|  (B)[4K,8K)|Guangzhou|   First-tier cities|  (C)Experience unl...|  Undergraduate course|       Full time|\n",
            "|Big data developm...|(E)[16K,20K)|Guangzhou|   First-tier cities|  (B)More than 3 years|  Undergraduate course|       Full time|\n",
            "|Senior Big Data E...|     (F)>20K|Guangzhou|   First-tier cities|  (B)More than 3 years|  Undergraduate course|       Full time|\n",
            "|Intermediate data...|(D)[12K,16K)|Guangzhou|   First-tier cities|  (B)More than 3 years|  Undergraduate course|       Full time|\n",
            "|Big data analysis...|  (B)[4K,8K)|  Guiyang|              Others|  (C)Experience unl...|  Technical seconda...|       Full time|\n",
            "|First-and second-...|(E)[16K,20K)|  Guiyang|              Others|  (C)Experience unl...|  Education is not ...|       Full time|\n",
            "|Java development ...|(D)[12K,16K)|  Guiyang|              Others|  (B)More than 3 years|  Undergraduate course|       Full time|\n",
            "|     Bi data analyst|(D)[12K,16K)| Hangzhou|New first-tier ci...|  (B)More than 3 years|        Junior college|       Full time|\n",
            "|     Data specialist|  (B)[4K,8K)| Hangzhou|New first-tier ci...|  (C)Experience unl...|        Junior college|       Full time|\n",
            "|Data analyst (J10...|(D)[12K,16K)| Hangzhou|New first-tier ci...|          (A)1-3 years|  Undergraduate course|       Full time|\n",
            "|Technology and fi...| (C)[8K,12K)| Hangzhou|New first-tier ci...|  (C)Experience unl...|  Undergraduate course|       Full time|\n",
            "|Administrative as...|  (B)[4K,8K)| Hangzhou|New first-tier ci...|  (C)Experience unl...|  Education is not ...|       Full time|\n",
            "|Data analysis eng...| (C)[8K,12K)|    Jinan|              Others|  (B)More than 3 years|  Undergraduate course|       Full time|\n",
            "|Data integration ...|  (B)[4K,8K)|    Jinan|              Others|          (A)1-3 years|        Junior college|       Full time|\n",
            "|ETL engineer of b...|  (B)[4K,8K)|    Jinan|              Others|  (C)Experience unl...|        Junior college|       Full time|\n",
            "|Market research s...|  (B)[4K,8K)|    Jinan|              Others|          (A)1-3 years|        Junior college|       Full time|\n",
            "|Big data warehous...|(D)[12K,16K)|  Nanjing|New first-tier ci...|  (B)More than 3 years|  Undergraduate course|       Full time|\n",
            "|Intermediate Big ...|(E)[16K,20K)|  Nanjing|New first-tier ci...|  (B)More than 3 years|  Undergraduate course|       Full time|\n",
            "|Senior java devel...|(D)[12K,16K)|  Nanjing|New first-tier ci...|  (B)More than 3 years|  Undergraduate course|       Full time|\n",
            "|Spark development...|(E)[16K,20K)|  Nanjing|New first-tier ci...|  (B)More than 3 years|  Undergraduate course|       Full time|\n",
            "|Senior regional s...| (C)[8K,12K)|  Nanjing|New first-tier ci...|          (A)1-3 years|        Junior college|       Full time|\n",
            "|Data center produ...|     (F)>20K|   Ningbo|              Others|  (B)More than 3 years|  Undergraduate course|       Full time|\n",
            "|ETL development e...| (C)[8K,12K)|   Xiamen|              Others|  (B)More than 3 years|  Undergraduate course|       Full time|\n",
            "|Hr Specialist-Par...|(D)[12K,16K)| Shanghai|   First-tier cities|  (B)More than 3 years|  Undergraduate course|       Full time|\n",
            "|After-sales data ...| (C)[8K,12K)| Shanghai|   First-tier cities|          (A)1-3 years|  Undergraduate course|       Full time|\n",
            "|Data Model Design...|     (F)>20K|  Beijing|   First-tier cities|  (B)More than 3 years|  Undergraduate course|       Full time|\n",
            "|Senior data analy...|(G)Interview|  Beijing|   First-tier cities|          (A)1-3 years|  Undergraduate course|       Full time|\n",
            "|Data research spe...| (C)[8K,12K)|  Beijing|   First-tier cities|  (C)Experience unl...|  Undergraduate course|       Full time|\n",
            "|Big Data Speciali...|  (B)[4K,8K)|  Beijing|   First-tier cities|  (C)Experience unl...|        Junior college|       Full time|\n",
            "|        data analyst|(D)[12K,16K)|  Beijing|   First-tier cities|  (C)Experience unl...|  Education is not ...|       Full time|\n",
            "|      Data operation| (C)[8K,12K)|  Chengdu|New first-tier ci...|  (C)Experience unl...|        Junior college|       Full time|\n",
            "|Data processing s...|  (B)[4K,8K)|  Chengdu|New first-tier ci...|  (C)Experience unl...|        Junior college|       Full time|\n",
            "|     Data annotation|(G)Interview|  Chengdu|New first-tier ci...|  (C)Experience unl...|  Education is not ...|       Full time|\n",
            "|Data Analyst (Inf...| (C)[8K,12K)|  Chengdu|New first-tier ci...|          (A)1-3 years|  Undergraduate course|       Full time|\n",
            "|Data annotator (c...|  (B)[4K,8K)|  Chengdu|New first-tier ci...|  (C)Experience unl...|        Junior college|       Full time|\n",
            "|Data analysis on ...|  (B)[4K,8K)|  Chengdu|New first-tier ci...|  (C)Experience unl...|  Undergraduate course|       Full time|\n",
            "|Big Data Product ...|(G)Interview|  Chengdu|New first-tier ci...|  (B)More than 3 years|  Undergraduate course|       Full time|\n",
            "|Procurement data ...|  (B)[4K,8K)|   Dalian|              Others|          (A)1-3 years|  Undergraduate course|       Full time|\n",
            "|  5G signal debugger|  (B)[4K,8K)|   Dalian|              Others|  (C)Experience unl...|  Technical seconda...|       Full time|\n",
            "|     project manager| (C)[8K,12K)|   Dalian|              Others|  (B)More than 3 years|  Undergraduate course|       Full time|\n",
            "|bigdata analyst/d...|(D)[12K,16K)|   Fuzhou|              Others|  (B)More than 3 years|  Undergraduate course|       Full time|\n",
            "|   Data optimization|  (B)[4K,8K)|Guangzhou|   First-tier cities|          (A)1-3 years|        Junior college|       Full time|\n",
            "|Data Maintenance ...| (C)[8K,12K)|Guangzhou|   First-tier cities|          (A)1-3 years|  Undergraduate course|       Full time|\n",
            "|      Data operation|  (B)[4K,8K)|Guangzhou|   First-tier cities|  (C)Experience unl...|        Junior college|       Full time|\n",
            "|Data analysis spe...|  (B)[4K,8K)|Guangzhou|   First-tier cities|  (C)Experience unl...|        Junior college|       Full time|\n",
            "|Department Manage...|(D)[12K,16K)|Guangzhou|   First-tier cities|  (B)More than 3 years|        Junior college|       Full time|\n",
            "|Big data development| (C)[8K,12K)|  Guiyang|              Others|  (B)More than 3 years|  Undergraduate course|       Full time|\n",
            "|Big data connecti...|  (B)[4K,8K)|  Guiyang|              Others|  (C)Experience unl...|  Education is not ...|       Full time|\n",
            "|Asset Data Specia...|  (B)[4K,8K)| Hangzhou|New first-tier ci...|  (C)Experience unl...|        Junior college|       Full time|\n",
            "|Data implementati...|  (B)[4K,8K)| Hangzhou|New first-tier ci...|  (C)Experience unl...|  Education is not ...|       Full time|\n",
            "|Big data developm...| (C)[8K,12K)| Hangzhou|New first-tier ci...|  (C)Experience unl...|                master|          Campus|\n",
            "|Logistics custome...|  (B)[4K,8K)| Hangzhou|New first-tier ci...|  (C)Experience unl...|        Junior college|       Full time|\n",
            "|E-commerce data a...| (C)[8K,12K)|    Hefei|New first-tier ci...|          (A)1-3 years|  Undergraduate course|       Full time|\n",
            "|  Data analyst+Hefei| (C)[8K,12K)|    Hefei|New first-tier ci...|  (B)More than 3 years|  Undergraduate course|       Full time|\n",
            "|Today's headline ...|  (B)[4K,8K)|    Jinan|              Others|  (C)Experience unl...|  Undergraduate course|       Full time|\n",
            "|Data analysis spe...|  (B)[4K,8K)|    Jinan|              Others|          (A)1-3 years|  Undergraduate course|       Full time|\n",
            "|Regional Sales Ma...|  (B)[4K,8K)|    Jinan|              Others|          (A)1-3 years|        Junior college|       Full time|\n",
            "|After sales engineer|  (B)[4K,8K)|  Nanjing|New first-tier ci...|          (A)1-3 years|        Junior college|       Full time|\n",
            "|JAVA full stack e...|(E)[16K,20K)|  Nanjing|New first-tier ci...|  (B)More than 3 years|  Undergraduate course|       Full time|\n",
            "|        data analyst|(E)[16K,20K)|  Beijing|   First-tier cities|  (B)More than 3 years|  Undergraduate course|       Full time|\n",
            "|Logistics data st...|  (B)[4K,8K)|  Chengdu|New first-tier ci...|  (C)Experience unl...|        Junior college|       Full time|\n",
            "|     Data specialist|  (B)[4K,8K)|  Chengdu|New first-tier ci...|          (A)1-3 years|        Junior college|       Full time|\n",
            "|      Data operation|(E)[16K,20K)|  Chengdu|New first-tier ci...|  (B)More than 3 years|  Undergraduate course|       Full time|\n",
            "+--------------------+------------+---------+--------------------+----------------------+----------------------+----------------+\n",
            "only showing top 80 rows\n",
            "\n"
          ]
        }
      ],
      "source": [
        "data = advert_df\n",
        "data = data.withColumn(\"Experience requirement\", regexp_replace(\"Experience requirement\", \"years\", \"\"))\n",
        "data = data.withColumn(\"Experience requirement\", regexp_replace(\"Experience requirement\", \"Under 1 year\", \"1-0\"))\n",
        "\n",
        "data = data.withColumn('A', split(data['Experience requirement'], '-')[0].cast(IntegerType())) \\\n",
        "           .withColumn('B', split(data['Experience requirement'], '-')[1].cast(IntegerType()))\n",
        "\n",
        "\n",
        "data = data.withColumn('Experience requirement', experience_requirement_udf(data[\"A\"], data[\"B\"]))\n",
        "data = data.drop(\"A\")\n",
        "data = data.drop(\"B\")\n",
        "advert_df = data\n",
        "advert_df.show(80)\n",
        "\n"
      ]
    },
    {
      "cell_type": "markdown",
      "metadata": {
        "id": "kwQGlyXo23n0"
      },
      "source": [
        "### Normalise the data in `Education requirements`  [5 Marks]\n",
        "\n",
        "Normalise the records in `Education requirements` column according the following dictionary.\n",
        "\n",
        "```\n",
        "education = dict()\n",
        "education[\"(A)Primary Education\"] = [\"Junior high school and below\"]\n",
        "education[\"(B)Secondary Education\"] = [\"Technical secondary school/technical secondary school\", \n",
        "                                    \"High school\",\"Junior college\"]\n",
        "education[\"(C)Undergraduate\"] = [\"Undergraduate course\"]\n",
        "education[\"(D)Graduate\"] = [\"master\", \"Doctor\"]\n",
        "education[\"(E)Education Unlimited\"] = [\"Education is not limited\"]\n",
        "```\n",
        "\n",
        "You must use Pyspark UDF from `from pyspark.sql.functions import udf` to implement this task."
      ]
    },
    {
      "cell_type": "code",
      "execution_count": 28,
      "metadata": {
        "colab": {
          "base_uri": "https://localhost:8080/"
        },
        "id": "5Do9D5qJ20Jg",
        "outputId": "69924365-d9c3-4668-8d75-9da7a482dda7"
      },
      "outputs": [
        {
          "output_type": "stream",
          "name": "stdout",
          "text": [
            "+--------------------+------------+---------+--------------------+----------------------+----------------------+----------------+\n",
            "|           Job title|Salary range| Location|                Tier|Experience requirement|Education requirements|Job requirements|\n",
            "+--------------------+------------+---------+--------------------+----------------------+----------------------+----------------+\n",
            "|Data warehouse de...|(G)Interview|  Beijing|   First-tier cities|  (B)More than 3 years|      (C)Undergraduate|       Full time|\n",
            "|Data visualizatio...|  (B)[4K,8K)|  Beijing|   First-tier cities|  (C)Experience unl...|  (B)Secondary Educ...|       Full time|\n",
            "|Data Management C...|(D)[12K,16K)|  Beijing|   First-tier cities|  (B)More than 3 years|  (B)Secondary Educ...|       Full time|\n",
            "|Data return visit...|  (B)[4K,8K)|  Chengdu|New first-tier ci...|          (A)1-3 years|  (B)Secondary Educ...|       Full time|\n",
            "|      Data assistant|  (B)[4K,8K)|  Chengdu|New first-tier ci...|          (A)1-3 years|      (C)Undergraduate|       Full time|\n",
            "|Data product manager|     (F)>20K|  Chengdu|New first-tier ci...|  (B)More than 3 years|  (B)Secondary Educ...|       Full time|\n",
            "|Big Data (College...|  (B)[4K,8K)|  Chengdu|New first-tier ci...|          (A)1-3 years|      (C)Undergraduate|       Full time|\n",
            "|Financial data an...| (C)[8K,12K)|  Chengdu|New first-tier ci...|          (A)1-3 years|      (C)Undergraduate|       Full time|\n",
            "|Internet data ana...|  (B)[4K,8K)|  Chengdu|New first-tier ci...|  (C)Experience unl...|  (B)Secondary Educ...|       Full time|\n",
            "|Python+java devel...|     (F)>20K|  Chengdu|New first-tier ci...|          (A)1-3 years|           (D)Graduate|       Full time|\n",
            "|Bank credit card ...| (C)[8K,12K)|  Chengdu|New first-tier ci...|  (C)Experience unl...|  (B)Secondary Educ...|       Full time|\n",
            "|Data Clerk (Civil...|(G)Interview|   Dalian|              Others|          (A)1-3 years|  (B)Secondary Educ...|       Full time|\n",
            "|A clerk (data ana...|     (A) <4K|   Dalian|              Others|          (A)1-3 years|      (C)Undergraduate|       Full time|\n",
            "|Big Data R&D Engi...|  (B)[4K,8K)|   Fuzhou|              Others|          (A)1-3 years|      (C)Undergraduate|       Full time|\n",
            "|Data Operations A...|  (B)[4K,8K)|Guangzhou|   First-tier cities|  (C)Experience unl...|  (B)Secondary Educ...|       Full time|\n",
            "|Data center infra...|  (B)[4K,8K)|Guangzhou|   First-tier cities|  (C)Experience unl...|  (E)Education Unli...|       Full time|\n",
            "|Data analysis ass...|  (B)[4K,8K)|Guangzhou|   First-tier cities|  (C)Experience unl...|      (C)Undergraduate|          Campus|\n",
            "|Financial data an...|  (B)[4K,8K)|Guangzhou|   First-tier cities|  (C)Experience unl...|      (C)Undergraduate|       Full time|\n",
            "|Big data developm...|(E)[16K,20K)|Guangzhou|   First-tier cities|  (B)More than 3 years|      (C)Undergraduate|       Full time|\n",
            "|Senior Big Data E...|     (F)>20K|Guangzhou|   First-tier cities|  (B)More than 3 years|      (C)Undergraduate|       Full time|\n",
            "|Intermediate data...|(D)[12K,16K)|Guangzhou|   First-tier cities|  (B)More than 3 years|      (C)Undergraduate|       Full time|\n",
            "|Big data analysis...|  (B)[4K,8K)|  Guiyang|              Others|  (C)Experience unl...|  (B)Secondary Educ...|       Full time|\n",
            "|First-and second-...|(E)[16K,20K)|  Guiyang|              Others|  (C)Experience unl...|  (E)Education Unli...|       Full time|\n",
            "|Java development ...|(D)[12K,16K)|  Guiyang|              Others|  (B)More than 3 years|      (C)Undergraduate|       Full time|\n",
            "|     Bi data analyst|(D)[12K,16K)| Hangzhou|New first-tier ci...|  (B)More than 3 years|  (B)Secondary Educ...|       Full time|\n",
            "|     Data specialist|  (B)[4K,8K)| Hangzhou|New first-tier ci...|  (C)Experience unl...|  (B)Secondary Educ...|       Full time|\n",
            "|Data analyst (J10...|(D)[12K,16K)| Hangzhou|New first-tier ci...|          (A)1-3 years|      (C)Undergraduate|       Full time|\n",
            "|Technology and fi...| (C)[8K,12K)| Hangzhou|New first-tier ci...|  (C)Experience unl...|      (C)Undergraduate|       Full time|\n",
            "|Administrative as...|  (B)[4K,8K)| Hangzhou|New first-tier ci...|  (C)Experience unl...|  (E)Education Unli...|       Full time|\n",
            "|Data analysis eng...| (C)[8K,12K)|    Jinan|              Others|  (B)More than 3 years|      (C)Undergraduate|       Full time|\n",
            "|Data integration ...|  (B)[4K,8K)|    Jinan|              Others|          (A)1-3 years|  (B)Secondary Educ...|       Full time|\n",
            "|ETL engineer of b...|  (B)[4K,8K)|    Jinan|              Others|  (C)Experience unl...|  (B)Secondary Educ...|       Full time|\n",
            "|Market research s...|  (B)[4K,8K)|    Jinan|              Others|          (A)1-3 years|  (B)Secondary Educ...|       Full time|\n",
            "|Big data warehous...|(D)[12K,16K)|  Nanjing|New first-tier ci...|  (B)More than 3 years|      (C)Undergraduate|       Full time|\n",
            "|Intermediate Big ...|(E)[16K,20K)|  Nanjing|New first-tier ci...|  (B)More than 3 years|      (C)Undergraduate|       Full time|\n",
            "|Senior java devel...|(D)[12K,16K)|  Nanjing|New first-tier ci...|  (B)More than 3 years|      (C)Undergraduate|       Full time|\n",
            "|Spark development...|(E)[16K,20K)|  Nanjing|New first-tier ci...|  (B)More than 3 years|      (C)Undergraduate|       Full time|\n",
            "|Senior regional s...| (C)[8K,12K)|  Nanjing|New first-tier ci...|          (A)1-3 years|  (B)Secondary Educ...|       Full time|\n",
            "|Data center produ...|     (F)>20K|   Ningbo|              Others|  (B)More than 3 years|      (C)Undergraduate|       Full time|\n",
            "|ETL development e...| (C)[8K,12K)|   Xiamen|              Others|  (B)More than 3 years|      (C)Undergraduate|       Full time|\n",
            "|Hr Specialist-Par...|(D)[12K,16K)| Shanghai|   First-tier cities|  (B)More than 3 years|      (C)Undergraduate|       Full time|\n",
            "|After-sales data ...| (C)[8K,12K)| Shanghai|   First-tier cities|          (A)1-3 years|      (C)Undergraduate|       Full time|\n",
            "|Data Model Design...|     (F)>20K|  Beijing|   First-tier cities|  (B)More than 3 years|      (C)Undergraduate|       Full time|\n",
            "|Senior data analy...|(G)Interview|  Beijing|   First-tier cities|          (A)1-3 years|      (C)Undergraduate|       Full time|\n",
            "|Data research spe...| (C)[8K,12K)|  Beijing|   First-tier cities|  (C)Experience unl...|      (C)Undergraduate|       Full time|\n",
            "|Big Data Speciali...|  (B)[4K,8K)|  Beijing|   First-tier cities|  (C)Experience unl...|  (B)Secondary Educ...|       Full time|\n",
            "|        data analyst|(D)[12K,16K)|  Beijing|   First-tier cities|  (C)Experience unl...|  (E)Education Unli...|       Full time|\n",
            "|      Data operation| (C)[8K,12K)|  Chengdu|New first-tier ci...|  (C)Experience unl...|  (B)Secondary Educ...|       Full time|\n",
            "|Data processing s...|  (B)[4K,8K)|  Chengdu|New first-tier ci...|  (C)Experience unl...|  (B)Secondary Educ...|       Full time|\n",
            "|     Data annotation|(G)Interview|  Chengdu|New first-tier ci...|  (C)Experience unl...|  (E)Education Unli...|       Full time|\n",
            "|Data Analyst (Inf...| (C)[8K,12K)|  Chengdu|New first-tier ci...|          (A)1-3 years|      (C)Undergraduate|       Full time|\n",
            "|Data annotator (c...|  (B)[4K,8K)|  Chengdu|New first-tier ci...|  (C)Experience unl...|  (B)Secondary Educ...|       Full time|\n",
            "|Data analysis on ...|  (B)[4K,8K)|  Chengdu|New first-tier ci...|  (C)Experience unl...|      (C)Undergraduate|       Full time|\n",
            "|Big Data Product ...|(G)Interview|  Chengdu|New first-tier ci...|  (B)More than 3 years|      (C)Undergraduate|       Full time|\n",
            "|Procurement data ...|  (B)[4K,8K)|   Dalian|              Others|          (A)1-3 years|      (C)Undergraduate|       Full time|\n",
            "|  5G signal debugger|  (B)[4K,8K)|   Dalian|              Others|  (C)Experience unl...|  (B)Secondary Educ...|       Full time|\n",
            "|     project manager| (C)[8K,12K)|   Dalian|              Others|  (B)More than 3 years|      (C)Undergraduate|       Full time|\n",
            "|bigdata analyst/d...|(D)[12K,16K)|   Fuzhou|              Others|  (B)More than 3 years|      (C)Undergraduate|       Full time|\n",
            "|   Data optimization|  (B)[4K,8K)|Guangzhou|   First-tier cities|          (A)1-3 years|  (B)Secondary Educ...|       Full time|\n",
            "|Data Maintenance ...| (C)[8K,12K)|Guangzhou|   First-tier cities|          (A)1-3 years|      (C)Undergraduate|       Full time|\n",
            "|      Data operation|  (B)[4K,8K)|Guangzhou|   First-tier cities|  (C)Experience unl...|  (B)Secondary Educ...|       Full time|\n",
            "|Data analysis spe...|  (B)[4K,8K)|Guangzhou|   First-tier cities|  (C)Experience unl...|  (B)Secondary Educ...|       Full time|\n",
            "|Department Manage...|(D)[12K,16K)|Guangzhou|   First-tier cities|  (B)More than 3 years|  (B)Secondary Educ...|       Full time|\n",
            "|Big data development| (C)[8K,12K)|  Guiyang|              Others|  (B)More than 3 years|      (C)Undergraduate|       Full time|\n",
            "|Big data connecti...|  (B)[4K,8K)|  Guiyang|              Others|  (C)Experience unl...|  (E)Education Unli...|       Full time|\n",
            "|Asset Data Specia...|  (B)[4K,8K)| Hangzhou|New first-tier ci...|  (C)Experience unl...|  (B)Secondary Educ...|       Full time|\n",
            "|Data implementati...|  (B)[4K,8K)| Hangzhou|New first-tier ci...|  (C)Experience unl...|  (E)Education Unli...|       Full time|\n",
            "|Big data developm...| (C)[8K,12K)| Hangzhou|New first-tier ci...|  (C)Experience unl...|           (D)Graduate|          Campus|\n",
            "|Logistics custome...|  (B)[4K,8K)| Hangzhou|New first-tier ci...|  (C)Experience unl...|  (B)Secondary Educ...|       Full time|\n",
            "|E-commerce data a...| (C)[8K,12K)|    Hefei|New first-tier ci...|          (A)1-3 years|      (C)Undergraduate|       Full time|\n",
            "|  Data analyst+Hefei| (C)[8K,12K)|    Hefei|New first-tier ci...|  (B)More than 3 years|      (C)Undergraduate|       Full time|\n",
            "|Today's headline ...|  (B)[4K,8K)|    Jinan|              Others|  (C)Experience unl...|      (C)Undergraduate|       Full time|\n",
            "|Data analysis spe...|  (B)[4K,8K)|    Jinan|              Others|          (A)1-3 years|      (C)Undergraduate|       Full time|\n",
            "|Regional Sales Ma...|  (B)[4K,8K)|    Jinan|              Others|          (A)1-3 years|  (B)Secondary Educ...|       Full time|\n",
            "|After sales engineer|  (B)[4K,8K)|  Nanjing|New first-tier ci...|          (A)1-3 years|  (B)Secondary Educ...|       Full time|\n",
            "|JAVA full stack e...|(E)[16K,20K)|  Nanjing|New first-tier ci...|  (B)More than 3 years|      (C)Undergraduate|       Full time|\n",
            "|        data analyst|(E)[16K,20K)|  Beijing|   First-tier cities|  (B)More than 3 years|      (C)Undergraduate|       Full time|\n",
            "|Logistics data st...|  (B)[4K,8K)|  Chengdu|New first-tier ci...|  (C)Experience unl...|  (B)Secondary Educ...|       Full time|\n",
            "|     Data specialist|  (B)[4K,8K)|  Chengdu|New first-tier ci...|          (A)1-3 years|  (B)Secondary Educ...|       Full time|\n",
            "|      Data operation|(E)[16K,20K)|  Chengdu|New first-tier ci...|  (B)More than 3 years|      (C)Undergraduate|       Full time|\n",
            "+--------------------+------------+---------+--------------------+----------------------+----------------------+----------------+\n",
            "only showing top 80 rows\n",
            "\n"
          ]
        }
      ],
      "source": [
        "education = dict()\n",
        "education[\"(A)Primary Education\"] = [\"Junior high school and below\"]\n",
        "education[\"(B)Secondary Education\"] = [\"Technical secondary school/technical secondary school\", \n",
        "                                    \"High school\",\"Junior college\"]\n",
        "education[\"(C)Undergraduate\"] = [\"Undergraduate course\"]\n",
        "education[\"(D)Graduate\"] = [\"master\", \"Doctor\"]\n",
        "education[\"(E)Education Unlimited\"] = [\"Education is not limited\"]\n",
        "\n",
        "def normalize_education(edu_level):\n",
        "    for key, value in education.items():\n",
        "        if edu_level in value:\n",
        "            return key\n",
        "    return \"Unknown\"\n",
        "\n",
        "\n",
        "normalize_education_udf = udf(normalize_education, StringType())\n",
        "\n",
        "\n",
        "data_normalized = data.withColumn(\"Education requirements\", normalize_education_udf(data[\"Education requirements\"]))\n",
        "\n",
        "\n",
        "\n",
        "advert_df = data_normalized\n",
        "advert_df.show(80)"
      ]
    },
    {
      "cell_type": "markdown",
      "metadata": {
        "id": "hgi4bg-UDwcV"
      },
      "source": [
        "# **Data Preprocessing**"
      ]
    },
    {
      "cell_type": "markdown",
      "metadata": {
        "id": "105uYwivDzgo"
      },
      "source": [
        "In this assignment, we are working with text data in the `Job title` column and our ultimate goal is to cluster job adverts into groups of coherent \"topics\" using one of the clustering algorithms we know (e.g., K-means). This is a specific task of a more general area, which is referred to as _natural language processing_ (NLP).\n",
        "\n",
        "As **preliminary** steps of any NLP task, at least the following pipeline must be executed first:\n",
        "\n",
        "- Text cleaning:\n",
        " - Case normalization (<code>lower</code>) -> convert all text to lower case;\n",
        " - Filter out _leading_ and _trailing_ whitespaces (<code>trim</code>);\n",
        " - Filter out punctuation symbols (<code>regexp_replace</code>);\n",
        " - Filter out any internal extra whitespace resulting from the step above (<code>regexp_replace</code> + <code>trim</code>).\n",
        "- Tokenization (<code>Tokenizer</code>): splitting raw text into a list of individual _tokens_ (i.e., words), typically using whitespace as delimiter \n",
        "- Stopwords removal (<code>StopWordsRemover</code>): removing so-called _stopwords_, namely words that do not contribute to the deeper meaning of the document like \"the\", \"a\", \"me\", etc.\n",
        "- Stemming (<code>SnowballStemmer</code>): reducing each word to its root or base. For example \"fishing\", \"fished\", \"fisher\" all reduce to the stem \"fish\""
      ]
    },
    {
      "cell_type": "code",
      "execution_count": 29,
      "metadata": {
        "id": "VgWMPMyEEFsB"
      },
      "outputs": [],
      "source": [
        "def clean_text(df, column_name=\"Job title\"):\n",
        "    \"\"\" \n",
        "    This function takes the raw text data and apply a standard NLP preprocessing pipeline consisting of the following steps:\n",
        "      - Text cleaning\n",
        "      - Tokenization\n",
        "      - Stopwords removal\n",
        "      - Stemming (Snowball stemmer)\n",
        "\n",
        "    parameter: dataframe\n",
        "    returns: the input dataframe along with the `Job title (cleaned)` column as the results of the NLP preprocessing pipeline\n",
        "\n",
        "    \"\"\"\n",
        "    from pyspark.sql.functions import udf, col, lower, trim, regexp_replace\n",
        "    from pyspark.ml.feature import Tokenizer, StopWordsRemover\n",
        "    from nltk.stem.snowball import SnowballStemmer\n",
        "\n",
        "    # Text preprocessing pipeline\n",
        "    print(\"***** Text Preprocessing Pipeline *****\\n\")\n",
        "\n",
        "    # 1. Text cleaning\n",
        "    print(\"# 1. Text Cleaning\\n\")\n",
        "    # 1.a Case normalization\n",
        "    print(\"1.a Case normalization:\")\n",
        "    lower_case_news_df = df.select(\"Salary range\", \"Location\", \"Tier\", \"Experience requirement\", \"Education requirements\", lower(col(column_name)).alias(column_name))\n",
        "    lower_case_news_df.show(10)\n",
        "    # 1.b Trimming\n",
        "    print(\"1.b Trimming:\")\n",
        "    trimmed_news_df = lower_case_news_df.select(\"Salary range\", \"Location\", \"Tier\", \"Experience requirement\", \"Education requirements\", trim(col(column_name)).alias(column_name))\n",
        "    trimmed_news_df.show(10)\n",
        "    # 1.c Filter out punctuation symbols\n",
        "    print(\"1.c Filter out punctuation:\")\n",
        "    no_punct_news_df = trimmed_news_df.select(\"Salary range\", \"Location\", \"Tier\", \"Experience requirement\", \"Education requirements\", (regexp_replace(col(column_name), \"[^a-zA-Z\\\\s]\", \"\")).alias(column_name))\n",
        "    no_punct_news_df.show(10)\n",
        "    # 1.d Filter out any internal extra whitespace\n",
        "    print(\"1.d Filter out extra whitespaces:\")\n",
        "    cleaned_news_df = no_punct_news_df.select(\"Salary range\", \"Location\", \"Tier\", \"Experience requirement\", \"Education requirements\", trim(regexp_replace(col(column_name), \" +\", \" \")).alias(column_name))\n",
        "    cleaned_news_df.show(10)\n",
        "\n",
        "    # 2. Tokenization (split text into tokens)\n",
        "    print(\"# 2. Tokenization:\")\n",
        "    tokenizer = Tokenizer(inputCol=column_name, outputCol=\"tokens\")\n",
        "    tokens_df = tokenizer.transform(cleaned_news_df)\n",
        "    tokens_df.show(10)\n",
        "\n",
        "    # 3. Stopwords removal\n",
        "    print(\"# 3. Stopwords removal:\")\n",
        "    stopwords_remover = StopWordsRemover(inputCol=\"tokens\", outputCol=\"terms\")\n",
        "    terms_df = stopwords_remover.transform(tokens_df)\n",
        "    terms_df.show(10)\n",
        "\n",
        "    # 4. Stemming (Snowball stemmer)\n",
        "    print(\"# 4. Stemming:\")\n",
        "    stemmer = SnowballStemmer(language=\"english\")\n",
        "    stemmer_udf = udf(lambda tokens: [stemmer.stem(token) for token in tokens], ArrayType(StringType()))\n",
        "    terms_stemmed_df = terms_df.withColumn(\"terms_stemmed\", stemmer_udf(\"terms\"))\n",
        "    terms_stemmed_df.show(10)\n",
        "    \n",
        "    return terms_stemmed_df"
      ]
    },
    {
      "cell_type": "code",
      "execution_count": 30,
      "metadata": {
        "colab": {
          "base_uri": "https://localhost:8080/"
        },
        "id": "QCF45XluEdEg",
        "outputId": "03c89d2f-092e-4937-adb2-9dda22e76ec9"
      },
      "outputs": [
        {
          "output_type": "stream",
          "name": "stdout",
          "text": [
            "***** Text Preprocessing Pipeline *****\n",
            "\n",
            "# 1. Text Cleaning\n",
            "\n",
            "1.a Case normalization:\n",
            "+------------+--------+--------------------+----------------------+----------------------+--------------------+\n",
            "|Salary range|Location|                Tier|Experience requirement|Education requirements|           Job title|\n",
            "+------------+--------+--------------------+----------------------+----------------------+--------------------+\n",
            "|(G)Interview| Beijing|   First-tier cities|  (B)More than 3 years|      (C)Undergraduate|data warehouse de...|\n",
            "|  (B)[4K,8K)| Beijing|   First-tier cities|  (C)Experience unl...|  (B)Secondary Educ...|data visualizatio...|\n",
            "|(D)[12K,16K)| Beijing|   First-tier cities|  (B)More than 3 years|  (B)Secondary Educ...|data management c...|\n",
            "|  (B)[4K,8K)| Chengdu|New first-tier ci...|          (A)1-3 years|  (B)Secondary Educ...|data return visit...|\n",
            "|  (B)[4K,8K)| Chengdu|New first-tier ci...|          (A)1-3 years|      (C)Undergraduate|      data assistant|\n",
            "|     (F)>20K| Chengdu|New first-tier ci...|  (B)More than 3 years|  (B)Secondary Educ...|data product manager|\n",
            "|  (B)[4K,8K)| Chengdu|New first-tier ci...|          (A)1-3 years|      (C)Undergraduate|big data (college...|\n",
            "| (C)[8K,12K)| Chengdu|New first-tier ci...|          (A)1-3 years|      (C)Undergraduate|financial data an...|\n",
            "|  (B)[4K,8K)| Chengdu|New first-tier ci...|  (C)Experience unl...|  (B)Secondary Educ...|internet data ana...|\n",
            "|     (F)>20K| Chengdu|New first-tier ci...|          (A)1-3 years|           (D)Graduate|python+java devel...|\n",
            "+------------+--------+--------------------+----------------------+----------------------+--------------------+\n",
            "only showing top 10 rows\n",
            "\n",
            "1.b Trimming:\n",
            "+------------+--------+--------------------+----------------------+----------------------+--------------------+\n",
            "|Salary range|Location|                Tier|Experience requirement|Education requirements|           Job title|\n",
            "+------------+--------+--------------------+----------------------+----------------------+--------------------+\n",
            "|(G)Interview| Beijing|   First-tier cities|  (B)More than 3 years|      (C)Undergraduate|data warehouse de...|\n",
            "|  (B)[4K,8K)| Beijing|   First-tier cities|  (C)Experience unl...|  (B)Secondary Educ...|data visualizatio...|\n",
            "|(D)[12K,16K)| Beijing|   First-tier cities|  (B)More than 3 years|  (B)Secondary Educ...|data management c...|\n",
            "|  (B)[4K,8K)| Chengdu|New first-tier ci...|          (A)1-3 years|  (B)Secondary Educ...|data return visit...|\n",
            "|  (B)[4K,8K)| Chengdu|New first-tier ci...|          (A)1-3 years|      (C)Undergraduate|      data assistant|\n",
            "|     (F)>20K| Chengdu|New first-tier ci...|  (B)More than 3 years|  (B)Secondary Educ...|data product manager|\n",
            "|  (B)[4K,8K)| Chengdu|New first-tier ci...|          (A)1-3 years|      (C)Undergraduate|big data (college...|\n",
            "| (C)[8K,12K)| Chengdu|New first-tier ci...|          (A)1-3 years|      (C)Undergraduate|financial data an...|\n",
            "|  (B)[4K,8K)| Chengdu|New first-tier ci...|  (C)Experience unl...|  (B)Secondary Educ...|internet data ana...|\n",
            "|     (F)>20K| Chengdu|New first-tier ci...|          (A)1-3 years|           (D)Graduate|python+java devel...|\n",
            "+------------+--------+--------------------+----------------------+----------------------+--------------------+\n",
            "only showing top 10 rows\n",
            "\n",
            "1.c Filter out punctuation:\n",
            "+------------+--------+--------------------+----------------------+----------------------+--------------------+\n",
            "|Salary range|Location|                Tier|Experience requirement|Education requirements|           Job title|\n",
            "+------------+--------+--------------------+----------------------+----------------------+--------------------+\n",
            "|(G)Interview| Beijing|   First-tier cities|  (B)More than 3 years|      (C)Undergraduate|data warehouse de...|\n",
            "|  (B)[4K,8K)| Beijing|   First-tier cities|  (C)Experience unl...|  (B)Secondary Educ...|data visualizatio...|\n",
            "|(D)[12K,16K)| Beijing|   First-tier cities|  (B)More than 3 years|  (B)Secondary Educ...|data management c...|\n",
            "|  (B)[4K,8K)| Chengdu|New first-tier ci...|          (A)1-3 years|  (B)Secondary Educ...|data return visit...|\n",
            "|  (B)[4K,8K)| Chengdu|New first-tier ci...|          (A)1-3 years|      (C)Undergraduate|      data assistant|\n",
            "|     (F)>20K| Chengdu|New first-tier ci...|  (B)More than 3 years|  (B)Secondary Educ...|data product manager|\n",
            "|  (B)[4K,8K)| Chengdu|New first-tier ci...|          (A)1-3 years|      (C)Undergraduate|big data college ...|\n",
            "| (C)[8K,12K)| Chengdu|New first-tier ci...|          (A)1-3 years|      (C)Undergraduate|financial data an...|\n",
            "|  (B)[4K,8K)| Chengdu|New first-tier ci...|  (C)Experience unl...|  (B)Secondary Educ...|internet data ana...|\n",
            "|     (F)>20K| Chengdu|New first-tier ci...|          (A)1-3 years|           (D)Graduate|pythonjava develo...|\n",
            "+------------+--------+--------------------+----------------------+----------------------+--------------------+\n",
            "only showing top 10 rows\n",
            "\n",
            "1.d Filter out extra whitespaces:\n",
            "+------------+--------+--------------------+----------------------+----------------------+--------------------+\n",
            "|Salary range|Location|                Tier|Experience requirement|Education requirements|           Job title|\n",
            "+------------+--------+--------------------+----------------------+----------------------+--------------------+\n",
            "|(G)Interview| Beijing|   First-tier cities|  (B)More than 3 years|      (C)Undergraduate|data warehouse de...|\n",
            "|  (B)[4K,8K)| Beijing|   First-tier cities|  (C)Experience unl...|  (B)Secondary Educ...|data visualizatio...|\n",
            "|(D)[12K,16K)| Beijing|   First-tier cities|  (B)More than 3 years|  (B)Secondary Educ...|data management c...|\n",
            "|  (B)[4K,8K)| Chengdu|New first-tier ci...|          (A)1-3 years|  (B)Secondary Educ...|data return visit...|\n",
            "|  (B)[4K,8K)| Chengdu|New first-tier ci...|          (A)1-3 years|      (C)Undergraduate|      data assistant|\n",
            "|     (F)>20K| Chengdu|New first-tier ci...|  (B)More than 3 years|  (B)Secondary Educ...|data product manager|\n",
            "|  (B)[4K,8K)| Chengdu|New first-tier ci...|          (A)1-3 years|      (C)Undergraduate|big data college ...|\n",
            "| (C)[8K,12K)| Chengdu|New first-tier ci...|          (A)1-3 years|      (C)Undergraduate|financial data an...|\n",
            "|  (B)[4K,8K)| Chengdu|New first-tier ci...|  (C)Experience unl...|  (B)Secondary Educ...|internet data ana...|\n",
            "|     (F)>20K| Chengdu|New first-tier ci...|          (A)1-3 years|           (D)Graduate|pythonjava develo...|\n",
            "+------------+--------+--------------------+----------------------+----------------------+--------------------+\n",
            "only showing top 10 rows\n",
            "\n",
            "# 2. Tokenization:\n",
            "+------------+--------+--------------------+----------------------+----------------------+--------------------+--------------------+\n",
            "|Salary range|Location|                Tier|Experience requirement|Education requirements|           Job title|              tokens|\n",
            "+------------+--------+--------------------+----------------------+----------------------+--------------------+--------------------+\n",
            "|(G)Interview| Beijing|   First-tier cities|  (B)More than 3 years|      (C)Undergraduate|data warehouse de...|[data, warehouse,...|\n",
            "|  (B)[4K,8K)| Beijing|   First-tier cities|  (C)Experience unl...|  (B)Secondary Educ...|data visualizatio...|[data, visualizat...|\n",
            "|(D)[12K,16K)| Beijing|   First-tier cities|  (B)More than 3 years|  (B)Secondary Educ...|data management c...|[data, management...|\n",
            "|  (B)[4K,8K)| Chengdu|New first-tier ci...|          (A)1-3 years|  (B)Secondary Educ...|data return visit...|[data, return, vi...|\n",
            "|  (B)[4K,8K)| Chengdu|New first-tier ci...|          (A)1-3 years|      (C)Undergraduate|      data assistant|   [data, assistant]|\n",
            "|     (F)>20K| Chengdu|New first-tier ci...|  (B)More than 3 years|  (B)Secondary Educ...|data product manager|[data, product, m...|\n",
            "|  (B)[4K,8K)| Chengdu|New first-tier ci...|          (A)1-3 years|      (C)Undergraduate|big data college ...|[big, data, colle...|\n",
            "| (C)[8K,12K)| Chengdu|New first-tier ci...|          (A)1-3 years|      (C)Undergraduate|financial data an...|[financial, data,...|\n",
            "|  (B)[4K,8K)| Chengdu|New first-tier ci...|  (C)Experience unl...|  (B)Secondary Educ...|internet data ana...|[internet, data, ...|\n",
            "|     (F)>20K| Chengdu|New first-tier ci...|          (A)1-3 years|           (D)Graduate|pythonjava develo...|[pythonjava, deve...|\n",
            "+------------+--------+--------------------+----------------------+----------------------+--------------------+--------------------+\n",
            "only showing top 10 rows\n",
            "\n",
            "# 3. Stopwords removal:\n",
            "+------------+--------+--------------------+----------------------+----------------------+--------------------+--------------------+--------------------+\n",
            "|Salary range|Location|                Tier|Experience requirement|Education requirements|           Job title|              tokens|               terms|\n",
            "+------------+--------+--------------------+----------------------+----------------------+--------------------+--------------------+--------------------+\n",
            "|(G)Interview| Beijing|   First-tier cities|  (B)More than 3 years|      (C)Undergraduate|data warehouse de...|[data, warehouse,...|[data, warehouse,...|\n",
            "|  (B)[4K,8K)| Beijing|   First-tier cities|  (C)Experience unl...|  (B)Secondary Educ...|data visualizatio...|[data, visualizat...|[data, visualizat...|\n",
            "|(D)[12K,16K)| Beijing|   First-tier cities|  (B)More than 3 years|  (B)Secondary Educ...|data management c...|[data, management...|[data, management...|\n",
            "|  (B)[4K,8K)| Chengdu|New first-tier ci...|          (A)1-3 years|  (B)Secondary Educ...|data return visit...|[data, return, vi...|[data, return, vi...|\n",
            "|  (B)[4K,8K)| Chengdu|New first-tier ci...|          (A)1-3 years|      (C)Undergraduate|      data assistant|   [data, assistant]|   [data, assistant]|\n",
            "|     (F)>20K| Chengdu|New first-tier ci...|  (B)More than 3 years|  (B)Secondary Educ...|data product manager|[data, product, m...|[data, product, m...|\n",
            "|  (B)[4K,8K)| Chengdu|New first-tier ci...|          (A)1-3 years|      (C)Undergraduate|big data college ...|[big, data, colle...|[big, data, colle...|\n",
            "| (C)[8K,12K)| Chengdu|New first-tier ci...|          (A)1-3 years|      (C)Undergraduate|financial data an...|[financial, data,...|[financial, data,...|\n",
            "|  (B)[4K,8K)| Chengdu|New first-tier ci...|  (C)Experience unl...|  (B)Secondary Educ...|internet data ana...|[internet, data, ...|[internet, data, ...|\n",
            "|     (F)>20K| Chengdu|New first-tier ci...|          (A)1-3 years|           (D)Graduate|pythonjava develo...|[pythonjava, deve...|[pythonjava, deve...|\n",
            "+------------+--------+--------------------+----------------------+----------------------+--------------------+--------------------+--------------------+\n",
            "only showing top 10 rows\n",
            "\n",
            "# 4. Stemming:\n",
            "+------------+--------+--------------------+----------------------+----------------------+--------------------+--------------------+--------------------+--------------------+\n",
            "|Salary range|Location|                Tier|Experience requirement|Education requirements|           Job title|              tokens|               terms|       terms_stemmed|\n",
            "+------------+--------+--------------------+----------------------+----------------------+--------------------+--------------------+--------------------+--------------------+\n",
            "|(G)Interview| Beijing|   First-tier cities|  (B)More than 3 years|      (C)Undergraduate|data warehouse de...|[data, warehouse,...|[data, warehouse,...|[data, warehous, ...|\n",
            "|  (B)[4K,8K)| Beijing|   First-tier cities|  (C)Experience unl...|  (B)Secondary Educ...|data visualizatio...|[data, visualizat...|[data, visualizat...|[data, visual, en...|\n",
            "|(D)[12K,16K)| Beijing|   First-tier cities|  (B)More than 3 years|  (B)Secondary Educ...|data management c...|[data, management...|[data, management...|[data, manag, con...|\n",
            "|  (B)[4K,8K)| Chengdu|New first-tier ci...|          (A)1-3 years|  (B)Secondary Educ...|data return visit...|[data, return, vi...|[data, return, vi...|[data, return, vi...|\n",
            "|  (B)[4K,8K)| Chengdu|New first-tier ci...|          (A)1-3 years|      (C)Undergraduate|      data assistant|   [data, assistant]|   [data, assistant]|      [data, assist]|\n",
            "|     (F)>20K| Chengdu|New first-tier ci...|  (B)More than 3 years|  (B)Secondary Educ...|data product manager|[data, product, m...|[data, product, m...|[data, product, m...|\n",
            "|  (B)[4K,8K)| Chengdu|New first-tier ci...|          (A)1-3 years|      (C)Undergraduate|big data college ...|[big, data, colle...|[big, data, colle...|[big, data, colle...|\n",
            "| (C)[8K,12K)| Chengdu|New first-tier ci...|          (A)1-3 years|      (C)Undergraduate|financial data an...|[financial, data,...|[financial, data,...|[financi, data, a...|\n",
            "|  (B)[4K,8K)| Chengdu|New first-tier ci...|  (C)Experience unl...|  (B)Secondary Educ...|internet data ana...|[internet, data, ...|[internet, data, ...|[internet, data, ...|\n",
            "|     (F)>20K| Chengdu|New first-tier ci...|          (A)1-3 years|           (D)Graduate|pythonjava develo...|[pythonjava, deve...|[pythonjava, deve...|[pythonjava, deve...|\n",
            "+------------+--------+--------------------+----------------------+----------------------+--------------------+--------------------+--------------------+--------------------+\n",
            "only showing top 10 rows\n",
            "\n"
          ]
        },
        {
          "output_type": "execute_result",
          "data": {
            "text/plain": [
              "DataFrame[Salary range: string, Location: string, Tier: string, Experience requirement: string, Education requirements: string, Job title: string, tokens: array<string>, terms: array<string>, terms_stemmed: array<string>]"
            ]
          },
          "metadata": {},
          "execution_count": 30
        }
      ],
      "source": [
        "clean_advert_df = clean_text(advert_df)\n",
        "clean_advert_df.cache()"
      ]
    },
    {
      "cell_type": "markdown",
      "metadata": {
        "id": "lEK_SaHlEik2"
      },
      "source": [
        "# **Feature Engineering**\n",
        "\n",
        "Machine learning techniques cannot work directly on text data; in fact, words must be first converted into some numerical representation which machine learning algorithms can make use of. This process is often known as _embedding_ or _vectorization_.\n",
        "\n",
        "In terms of vectorization, it is important to remember that it isn't merely turning a single word into a single number. While words can be transformed into numbers, an entire document can be translated into a vector. Moreover, vectors derived from text data are usually high-dimensional. This is because each dimension of the feature space will correspond to a word, and the language in the documents may have thousands of words."
      ]
    },
    {
      "cell_type": "markdown",
      "metadata": {
        "id": "VpOuxFjPEnuQ"
      },
      "source": [
        "## TF-IDF\n",
        "In information retrieval, **tf-idf** - short for term frequency-inverse document frequency - is a numerical statistic that is intended to reflect how important a word is to a document in a collection or corpus.\n",
        "\n",
        "The tf-idf value increases proportionally to the number of times a word appears in the document and is offset by the frequency of the word in the corpus, which helps to adjust for the fact that some words appear more frequently in general."
      ]
    },
    {
      "cell_type": "code",
      "execution_count": 31,
      "metadata": {
        "id": "13RW7AdQBeD_"
      },
      "outputs": [],
      "source": [
        "def extract_tfidf_features(df, column_name=\"terms_stemmed\", vocabSize=1000, minDF=100, numFeatures=200):\n",
        "    \"\"\" \n",
        "    This function takes the text data and converts it into a term frequency-inverse document frequency vector\n",
        "\n",
        "    parameter: dataframe\n",
        "    returns: dataframe with tf-idf vectors\n",
        "\n",
        "    \"\"\"\n",
        "\n",
        "    # Importing the feature transformation classes for doing TF-IDF \n",
        "    from pyspark.ml.feature import HashingTF, CountVectorizer, IDF\n",
        "    from pyspark.ml import Pipeline\n",
        "\n",
        "    ## Creating Term Frequency Vector for each word\n",
        "    #cv = CountVectorizer(inputCol=column_name, outputCol=\"tf_features\", vocabSize=vocabSize, minDF=minDF)\n",
        "    #cvModel = cv.fit(df)\n",
        "    #tf_features_df = cvModel.transform(df)\n",
        "\n",
        "    ## Alternatively to CountVectorizer, use HashingTF\n",
        "    #hashingTF = HashingTF(inputCol=column_name, outputCol=\"tf_features\", numFeatures=numFeatures)\n",
        "    #tf_features_df = hashingTF.transform(df)\n",
        "\n",
        "    ## Carrying out Inverse Document Frequency on the TF data\n",
        "    #idf = IDF(inputCol=\"tf_features\", outputCol=\"features\")\n",
        "    #idfModel = idf.fit(tf_features_df)\n",
        "    #tf_idf_features_df = idfModel.transform(tf_features_df)\n",
        "\n",
        "    # USING PIPELINE\n",
        "    cv = CountVectorizer(inputCol=column_name, outputCol=\"tf_features\", vocabSize=vocabSize, minDF=minDF)\n",
        "    # hashingTF = HashingTF(inputCol=column_name, outputCol=\"tf_features\", numFeatures=numFeatures)\n",
        "    idf = IDF(inputCol=\"tf_features\", outputCol=\"features\")\n",
        "\n",
        "    pipeline = Pipeline(stages=[cv, idf]) # replace `cv` with `hashingTF` if needed\n",
        "    features = pipeline.fit(df)\n",
        "    tf_idf_features_df = features.transform(df)\n",
        "\n",
        "    return tf_idf_features_df"
      ]
    },
    {
      "cell_type": "code",
      "execution_count": 32,
      "metadata": {
        "colab": {
          "base_uri": "https://localhost:8080/"
        },
        "id": "vWVQKoiqE_Rw",
        "outputId": "3cb0dc30-fd03-4c82-db20-54ce8818069a"
      },
      "outputs": [
        {
          "output_type": "execute_result",
          "data": {
            "text/plain": [
              "DataFrame[Salary range: string, Location: string, Tier: string, Experience requirement: string, Education requirements: string, Job title: string, tokens: array<string>, terms: array<string>, terms_stemmed: array<string>, tf_features: vector, features: vector]"
            ]
          },
          "metadata": {},
          "execution_count": 32
        }
      ],
      "source": [
        "tf_idf_df = extract_tfidf_features(clean_advert_df)\n",
        "tf_idf_df.cache()"
      ]
    },
    {
      "cell_type": "markdown",
      "metadata": {
        "id": "ubTPujhJFDo7"
      },
      "source": [
        "### Clean-up unused variables"
      ]
    },
    {
      "cell_type": "code",
      "execution_count": 33,
      "metadata": {
        "colab": {
          "base_uri": "https://localhost:8080/"
        },
        "id": "rFjOxUy9FHRZ",
        "outputId": "a117599b-5ea6-46b5-d1d0-ccb6026f7c82"
      },
      "outputs": [
        {
          "output_type": "stream",
          "name": "stdout",
          "text": [
            "Garbage collector: collected 435 objects\n"
          ]
        }
      ],
      "source": [
        "# Let's try to free-up some RAM\n",
        "import gc\n",
        "\n",
        "del advert_df\n",
        "del clean_advert_df\n",
        "# ...\n",
        "\n",
        "print(\"Garbage collector: collected %d objects\" % (gc.collect()))"
      ]
    },
    {
      "cell_type": "code",
      "execution_count": 34,
      "metadata": {
        "colab": {
          "base_uri": "https://localhost:8080/"
        },
        "id": "oNhBSXmAFLIP",
        "outputId": "db7c6c2d-9266-4c2c-e93f-ea976175d071"
      },
      "outputs": [
        {
          "output_type": "stream",
          "name": "stdout",
          "text": [
            "+----------------------------------------------------------------------------------------------------------------+\n",
            "|features                                                                                                        |\n",
            "+----------------------------------------------------------------------------------------------------------------+\n",
            "|(74,[0,1,3,33],[0.3156582264113388,1.3800543075917189,2.037624076745449,4.1011838658723425])                    |\n",
            "|(74,[0,1,12,21],[0.3156582264113388,1.3800543075917189,3.308153326806107,3.7896293572140793])                   |\n",
            "|(74,[0,5,14],[0.3156582264113388,2.267594506859808,3.569567472437278])                                          |\n",
            "|(74,[0,7],[0.3156582264113388,2.5311683676040735])                                                              |\n",
            "|(74,[0,12],[0.3156582264113388,3.308153326806107])                                                              |\n",
            "|(74,[0,5,10],[0.3156582264113388,2.267594506859808,3.233095235816065])                                          |\n",
            "|(74,[0,2],[0.3156582264113388,1.8946655413446634])                                                              |\n",
            "|(74,[0,6,30],[0.3156582264113388,2.3010561469737705,3.9937247135575946])                                        |\n",
            "|(74,[0,4,7],[0.3156582264113388,2.1504832884943963,2.5311683676040735])                                         |\n",
            "|(74,[0,1,3,37,44],[0.3156582264113388,1.3800543075917189,2.037624076745449,4.245578370754235,4.347707865830616])|\n",
            "+----------------------------------------------------------------------------------------------------------------+\n",
            "only showing top 10 rows\n",
            "\n"
          ]
        }
      ],
      "source": [
        "tf_idf_df.select(col(\"features\")).show(10, truncate=False)"
      ]
    },
    {
      "cell_type": "markdown",
      "metadata": {
        "id": "qBpTPRhbFPas"
      },
      "source": [
        "### Check and remove any possible zero-length vector"
      ]
    },
    {
      "cell_type": "code",
      "execution_count": 35,
      "metadata": {
        "id": "vxhHEKLZFWaz"
      },
      "outputs": [],
      "source": [
        "@udf(\"long\")\n",
        "def num_nonzeros(v):\n",
        "    return v.numNonzeros()"
      ]
    },
    {
      "cell_type": "markdown",
      "metadata": {
        "id": "25dkmZKqFc9O"
      },
      "source": [
        "### Check if there is any zero-length vector\n"
      ]
    },
    {
      "cell_type": "code",
      "execution_count": 36,
      "metadata": {
        "colab": {
          "base_uri": "https://localhost:8080/"
        },
        "id": "m2ipOfUjFkYs",
        "outputId": "c68685f2-50e3-498f-aa09-a3ba376863d9"
      },
      "outputs": [
        {
          "output_type": "stream",
          "name": "stdout",
          "text": [
            "Total n. of zero-length vectors: 330\n"
          ]
        }
      ],
      "source": [
        "print(\"Total n. of zero-length vectors: {:d}\".\n",
        "      format(tf_idf_df.where(num_nonzeros(\"features\") == 0).count()))"
      ]
    },
    {
      "cell_type": "markdown",
      "metadata": {
        "id": "iNtG3bVZFqwM"
      },
      "source": [
        "### Remove zero-length vector(s)"
      ]
    },
    {
      "cell_type": "code",
      "execution_count": 37,
      "metadata": {
        "id": "T13AqWOnF0pR"
      },
      "outputs": [],
      "source": [
        "tf_idf_df = tf_idf_df.where(num_nonzeros(\"features\") > 0)"
      ]
    },
    {
      "cell_type": "markdown",
      "metadata": {
        "id": "FCvImbFjF-y5"
      },
      "source": [
        "### Double-check there is no more zero-length vector"
      ]
    },
    {
      "cell_type": "code",
      "execution_count": 38,
      "metadata": {
        "colab": {
          "base_uri": "https://localhost:8080/"
        },
        "id": "a-XMcvInGQH0",
        "outputId": "cfd03ec5-c39d-4da5-fed5-533a10b6d837"
      },
      "outputs": [
        {
          "output_type": "stream",
          "name": "stdout",
          "text": [
            "Total n. of zero-length vectors (after removal): 0\n"
          ]
        }
      ],
      "source": [
        "print(\"Total n. of zero-length vectors (after removal): {:d}\".\n",
        "      format(tf_idf_df.where(num_nonzeros(\"features\") == 0).count()))"
      ]
    },
    {
      "cell_type": "code",
      "execution_count": 39,
      "metadata": {
        "colab": {
          "base_uri": "https://localhost:8080/"
        },
        "id": "VnWcpex9GU0i",
        "outputId": "429f3de9-ee7c-421b-e825-4474de8a783f"
      },
      "outputs": [
        {
          "output_type": "stream",
          "name": "stdout",
          "text": [
            "Garbage collector: collected 97 objects\n"
          ]
        }
      ],
      "source": [
        "print(\"Garbage collector: collected %d objects\" % (gc.collect()))"
      ]
    },
    {
      "cell_type": "markdown",
      "metadata": {
        "id": "5FaJm3lvGZRa"
      },
      "source": [
        "# **K-means Clustering**"
      ]
    },
    {
      "cell_type": "markdown",
      "metadata": {
        "id": "pmAYMY38Gd__"
      },
      "source": [
        "### Function used for running K-means"
      ]
    },
    {
      "cell_type": "code",
      "execution_count": 40,
      "metadata": {
        "id": "JP1deqVUurtB"
      },
      "outputs": [],
      "source": [
        "def k_means(dataset, \n",
        "            n_clusters, \n",
        "            distance_measure=\"euclidean\", \n",
        "            max_iter=20, \n",
        "            features_col=\"features\", \n",
        "            prediction_col=\"cluster\", \n",
        "            random_seed=RANDOM_SEED):\n",
        "  \n",
        "  from pyspark.ml.clustering import KMeans\n",
        "  from pyspark.ml.feature import Normalizer\n",
        "\n",
        "  print(\"\"\"Training K-means clustering using the following parameters: \n",
        "  - K (n. of clusters) = {:d}\n",
        "  - max_iter (max n. of iterations) = {:d}\n",
        "  - distance measure = {:s}\n",
        "  - random seed = {:d}\n",
        "  \"\"\".format(n_clusters, max_iter, distance_measure, random_seed))\n",
        "\n",
        "  if distance_measure == \"cosine\":\n",
        "      # Normalize inputs to unit-length vectors\n",
        "      dataset = Normalizer(inputCol=features_col, outputCol=features_col+\"_norm\", p=1).transform(dataset)\n",
        "      features_col = features_col+\"_norm\"\n",
        "  # Train a K-means model\n",
        "  kmeans = KMeans(featuresCol=features_col, \n",
        "                   predictionCol=prediction_col, \n",
        "                   k=n_clusters, \n",
        "                   initMode=\"k-means||\", \n",
        "                   initSteps=5, \n",
        "                   tol=0.000001, \n",
        "                   maxIter=max_iter, \n",
        "                   seed=random_seed, \n",
        "                   distanceMeasure=distance_measure)\n",
        "  model = kmeans.fit(dataset)\n",
        "\n",
        "  # Make clusters\n",
        "  clusters_df = model.transform(dataset)\n",
        "\n",
        "  return model, clusters_df"
      ]
    },
    {
      "cell_type": "markdown",
      "metadata": {
        "id": "kCVGEEf6GoGi"
      },
      "source": [
        "### Function used to evaluate obtained clusters"
      ]
    },
    {
      "cell_type": "code",
      "execution_count": 41,
      "metadata": {
        "id": "nZTOi7TWvcXJ"
      },
      "outputs": [],
      "source": [
        "def evaluate_k_means(clusters, \n",
        "                     metric_name=\"silhouette\", \n",
        "                     distance_measure=\"squaredEuclidean\", # cosine\n",
        "                     prediction_col=\"cluster\"\n",
        "                     ):\n",
        "  \n",
        "  from pyspark.ml.evaluation import ClusteringEvaluator\n",
        "  \n",
        "  # Evaluate clustering by computing Silhouette score\n",
        "  evaluator = ClusteringEvaluator(metricName=metric_name,\n",
        "                                  distanceMeasure=distance_measure, \n",
        "                                  predictionCol=prediction_col\n",
        "                                  )\n",
        "\n",
        "  return evaluator.evaluate(clusters)"
      ]
    },
    {
      "cell_type": "markdown",
      "metadata": {
        "id": "6JJVUizVGxYZ"
      },
      "source": [
        "### Select the Best Value of K with the Elbow Method"
      ]
    },
    {
      "cell_type": "code",
      "execution_count": 42,
      "metadata": {
        "id": "pWtUbOOvNhiE"
      },
      "outputs": [],
      "source": [
        "def do_clustering():\n",
        "    clustering_results = {}\n",
        "    for k in range(5, MAX_K_CLUSTERS + 1, 5):\n",
        "        print(\"Running K-means using K = {:d}\".format(k))\n",
        "        model, clusters_df = k_means(tf_idf_df, k, max_iter=50, distance_measure=\"cosine\") # Alternatively, distance_measure=\"euclidean\"\n",
        "        silhouette_k = evaluate_k_means(clusters_df, distance_measure=\"cosine\") # Alternatively, distance_measure=\"squaredEuclidean\"\n",
        "        wssd_k = model.summary.trainingCost\n",
        "        print(\"Silhouette coefficient computed with cosine distance: {:.3f}\".format(silhouette_k))\n",
        "        print(\"Within-cluster Sum of Squared Distances (using cosine distance): {:.3f}\".format(wssd_k))\n",
        "        print(\"--------------------------------------------------------------------------------------\")\n",
        "        clustering_results[k] = (silhouette_k, wssd_k)\n",
        "        # Free up memory space at the end of each iteration\n",
        "        del model\n",
        "        del clusters_df\n",
        "        gc.collect()\n",
        "    return clustering_results"
      ]
    },
    {
      "cell_type": "code",
      "execution_count": 43,
      "metadata": {
        "colab": {
          "base_uri": "https://localhost:8080/"
        },
        "id": "9Jy5M2qUG788",
        "outputId": "d6f1d784-65d6-4069-a908-bd7d4b792449"
      },
      "outputs": [
        {
          "output_type": "stream",
          "name": "stdout",
          "text": [
            "Running K-means using K = 5\n",
            "Training K-means clustering using the following parameters: \n",
            "  - K (n. of clusters) = 5\n",
            "  - max_iter (max n. of iterations) = 50\n",
            "  - distance measure = cosine\n",
            "  - random seed = 42\n",
            "  \n",
            "Silhouette coefficient computed with cosine distance: 0.175\n",
            "Within-cluster Sum of Squared Distances (using cosine distance): 7724.345\n",
            "--------------------------------------------------------------------------------------\n",
            "Running K-means using K = 10\n",
            "Training K-means clustering using the following parameters: \n",
            "  - K (n. of clusters) = 10\n",
            "  - max_iter (max n. of iterations) = 50\n",
            "  - distance measure = cosine\n",
            "  - random seed = 42\n",
            "  \n",
            "Silhouette coefficient computed with cosine distance: 0.238\n",
            "Within-cluster Sum of Squared Distances (using cosine distance): 6469.251\n",
            "--------------------------------------------------------------------------------------\n"
          ]
        }
      ],
      "source": [
        "clustering_results = do_clustering()"
      ]
    },
    {
      "cell_type": "code",
      "execution_count": 44,
      "metadata": {
        "id": "JGNn4X6tz5mQ"
      },
      "outputs": [],
      "source": [
        "def plot_clustering_results(clustering_results):\n",
        "    # load the dictionary into pandas\n",
        "    df = pd.DataFrame.from_dict(clustering_results, orient='index').reset_index()\n",
        "    df.columns = ['K','Silhouette', 'WSSD']\n",
        "    # Create a 1x1 figure\n",
        "    fig, ax = plt.subplots(1,1, figsize=(8,6))\n",
        "\n",
        "    _ = sns.pointplot(data=df, x=\"K\", y=\"WSSD\", ax=ax, color=\"orangered\")\n",
        "    _ = ax.set_xlabel(\"K\")\n",
        "    _ = ax.set_ylabel(\"WSSD\")"
      ]
    },
    {
      "cell_type": "code",
      "execution_count": 45,
      "metadata": {
        "colab": {
          "base_uri": "https://localhost:8080/",
          "height": 530
        },
        "id": "fPAg8Y6fHEg_",
        "outputId": "7a1876fd-9f81-4e2e-b06d-a2c6ccc7dc6a"
      },
      "outputs": [
        {
          "output_type": "display_data",
          "data": {
            "text/plain": [
              "<Figure size 800x600 with 1 Axes>"
            ],
            "image/png": "[encoded data removed]"
          },
          "metadata": {}
        }
      ],
      "source": [
        "plot_clustering_results(clustering_results)"
      ]
    },
    {
      "cell_type": "code",
      "execution_count": 46,
      "metadata": {
        "colab": {
          "base_uri": "https://localhost:8080/"
        },
        "id": "-WN2obonHNJm",
        "outputId": "d1fa5e47-87b0-459d-c057-243e1b847dc0"
      },
      "outputs": [
        {
          "output_type": "stream",
          "name": "stdout",
          "text": [
            "Running K-means using K = 10\n",
            "Training K-means clustering using the following parameters: \n",
            "  - K (n. of clusters) = 10\n",
            "  - max_iter (max n. of iterations) = 50\n",
            "  - distance measure = cosine\n",
            "  - random seed = 42\n",
            "  \n"
          ]
        },
        {
          "output_type": "execute_result",
          "data": {
            "text/plain": [
              "DataFrame[Salary range: string, Location: string, Tier: string, Experience requirement: string, Education requirements: string, Job title: string, tokens: array<string>, terms: array<string>, terms_stemmed: array<string>, tf_features: vector, features: vector, features_norm: vector, cluster: int]"
            ]
          },
          "metadata": {},
          "execution_count": 46
        }
      ],
      "source": [
        "K=10 # Best value of K (whatever this is!)\n",
        "print(\"Running K-means using K = {:d}\".format(K))\n",
        "model, clusters_df = k_means(tf_idf_df, K, max_iter=50, distance_measure=\"cosine\")\n",
        "clusters_df.cache()"
      ]
    },
    {
      "cell_type": "markdown",
      "metadata": {
        "id": "3tLJykY8HSu6"
      },
      "source": [
        "### Inspect some clusters"
      ]
    },
    {
      "cell_type": "code",
      "execution_count": 47,
      "metadata": {
        "colab": {
          "base_uri": "https://localhost:8080/"
        },
        "id": "nEMbpm_uHWco",
        "outputId": "f7cf152f-9da2-41c5-f214-efa1daf32d69"
      },
      "outputs": [
        {
          "output_type": "stream",
          "name": "stdout",
          "text": [
            "+-------+-----+\n",
            "|cluster|count|\n",
            "+-------+-----+\n",
            "|      0| 1156|\n",
            "|      1| 4183|\n",
            "|      2|  321|\n",
            "|      3| 1567|\n",
            "|      4|  614|\n",
            "|      5| 1096|\n",
            "|      6| 1379|\n",
            "|      7|  669|\n",
            "|      8| 1370|\n",
            "|      9| 1692|\n",
            "+-------+-----+\n",
            "\n"
          ]
        }
      ],
      "source": [
        "clusters_df.groupBy(\"cluster\").count().sort(\"cluster\").show()"
      ]
    },
    {
      "cell_type": "code",
      "execution_count": 48,
      "metadata": {
        "colab": {
          "base_uri": "https://localhost:8080/"
        },
        "id": "Qqft7DRcHUoG",
        "outputId": "95fbb360-4f13-429a-a3e5-3dc8c238cf60"
      },
      "outputs": [
        {
          "output_type": "stream",
          "name": "stdout",
          "text": [
            "Cluster IDs: [0, 1, 2, 3, 4, 5, 6, 7, 8, 9]\n",
            "Showing the first 20 records of cluster ID #0\n",
            "+-------+---------------------------------------------------------------------------------------+------------+---------+---------------------+-----------------------+----------------------+\n",
            "|cluster|Job title                                                                              |Salary range|Location |Tier                 |Experience requirement |Education requirements|\n",
            "+-------+---------------------------------------------------------------------------------------+------------+---------+---------------------+-----------------------+----------------------+\n",
            "|0      |big data statistics assistant wrapdouble break                                         |(B)[4K,8K)  |Shenzhen |First-tier cities    |(C)Experience unlimited|(B)Secondary Education|\n",
            "|0      |data entry clerk                                                                       |(B)[4K,8K)  |Tianjin  |New first-tier cities|(C)Experience unlimited|(B)Secondary Education|\n",
            "|0      |financial accounting                                                                   |(B)[4K,8K)  |Tianjin  |New first-tier cities|(A)1-3 years           |(B)Secondary Education|\n",
            "|0      |financial sharing centeraccounts receivable accounting wuhan                           |(B)[4K,8K)  |Wuhan    |New first-tier cities|(C)Experience unlimited|(C)Undergraduate      |\n",
            "|0      |statistics clerk weekend closed to                                                     |(B)[4K,8K)  |Xi'an    |New first-tier cities|(C)Experience unlimited|(B)Secondary Education|\n",
            "|0      |statistics clerk easy k paid annual leave                                              |(B)[4K,8K)  |Xi'an    |New first-tier cities|(C)Experience unlimited|(B)Secondary Education|\n",
            "|0      |data specialist weekend break five insurances one gold annual leave and winter vacation|(B)[4K,8K)  |Shenyang |New first-tier cities|(A)1-3 years           |(B)Secondary Education|\n",
            "|0      |recruiter                                                                              |(B)[4K,8K)  |Wuhan    |New first-tier cities|(A)1-3 years           |(B)Secondary Education|\n",
            "|0      |logistics data statistician double breakfive insurance and one goldeasy and stable     |(B)[4K,8K)  |Chengdu  |New first-tier cities|(C)Experience unlimited|(B)Secondary Education|\n",
            "|0      |data statistics analystdouble leave                                                    |(B)[4K,8K)  |Guangzhou|First-tier cities    |(C)Experience unlimited|(B)Secondary Education|\n",
            "|0      |front desk clerk                                                                       |(B)[4K,8K)  |Hangzhou |New first-tier cities|(C)Experience unlimited|(B)Secondary Education|\n",
            "|0      |product data operationpaying five insurances and one gold for employmentweekend break  |(B)[4K,8K)  |Jinan    |Others               |(C)Experience unlimited|(C)Undergraduate      |\n",
            "|0      |database engineer five insurance and one gold listed company                           |(B)[4K,8K)  |Nanjing  |New first-tier cities|(A)1-3 years           |(C)Undergraduate      |\n",
            "|0      |statistics clerk civilian postaverage salary k paid internship                         |(B)[4K,8K)  |Xi'an    |New first-tier cities|(C)Experience unlimited|(B)Secondary Education|\n",
            "|0      |k financial data analystfive insurance and one goldweekend breakpaid annual leave      |(B)[4K,8K)  |Xi'an    |New first-tier cities|(A)1-3 years           |(C)Undergraduate      |\n",
            "|0      |statistical commissioner                                                               |(B)[4K,8K)  |Xi'an    |New first-tier cities|(A)1-3 years           |(C)Undergraduate      |\n",
            "|0      |general ledger accounting                                                              |(B)[4K,8K)  |Zhengzhou|New first-tier cities|(B)More than 3 years   |(B)Secondary Education|\n",
            "|0      |data statistics assistant five insurance and one gold                                  |(B)[4K,8K)  |Shenyang |New first-tier cities|(C)Experience unlimited|(B)Secondary Education|\n",
            "|0      |cataloging data clerk                                                                  |(B)[4K,8K)  |Guangzhou|First-tier cities    |(C)Experience unlimited|(C)Undergraduate      |\n",
            "|0      |data entry team leader                                                                 |(B)[4K,8K)  |Guangzhou|First-tier cities    |(B)More than 3 years   |(B)Secondary Education|\n",
            "+-------+---------------------------------------------------------------------------------------+------------+---------+---------------------+-----------------------+----------------------+\n",
            "only showing top 20 rows\n",
            "\n",
            "Showing the first 20 records of cluster ID #1\n",
            "+-------+---------------------------------------------------------------------+------------+---------+---------------------+-----------------------+----------------------+\n",
            "|cluster|Job title                                                            |Salary range|Location |Tier                 |Experience requirement |Education requirements|\n",
            "+-------+---------------------------------------------------------------------+------------+---------+---------------------+-----------------------+----------------------+\n",
            "|1      |data warehouse development engineer                                  |(G)Interview|Beijing  |First-tier cities    |(B)More than 3 years   |(C)Undergraduate      |\n",
            "|1      |big data college teachers                                            |(B)[4K,8K)  |Chengdu  |New first-tier cities|(A)1-3 years           |(C)Undergraduate      |\n",
            "|1      |pythonjava development engineer data mining and database construction|(F)>20K     |Chengdu  |New first-tier cities|(A)1-3 years           |(D)Graduate           |\n",
            "|1      |big data rd engineer                                                 |(B)[4K,8K)  |Fuzhou   |Others               |(A)1-3 years           |(C)Undergraduate      |\n",
            "|1      |data operations assistantdouble salary at the end of the year        |(B)[4K,8K)  |Guangzhou|First-tier cities    |(C)Experience unlimited|(B)Secondary Education|\n",
            "|1      |big data development engineer                                        |(E)[16K,20K)|Guangzhou|First-tier cities    |(B)More than 3 years   |(C)Undergraduate      |\n",
            "|1      |senior big data engineer                                             |(F)>20K     |Guangzhou|First-tier cities    |(B)More than 3 years   |(C)Undergraduate      |\n",
            "|1      |intermediate database engineering                                    |(D)[12K,16K)|Guangzhou|First-tier cities    |(B)More than 3 years   |(C)Undergraduate      |\n",
            "|1      |java development engineer                                            |(D)[12K,16K)|Guiyang  |Others               |(B)More than 3 years   |(C)Undergraduate      |\n",
            "|1      |technology and finance gang big data development direction           |(C)[8K,12K) |Hangzhou |New first-tier cities|(C)Experience unlimited|(C)Undergraduate      |\n",
            "|1      |data integration engineer                                            |(B)[4K,8K)  |Jinan    |Others               |(A)1-3 years           |(B)Secondary Education|\n",
            "|1      |etl engineer of big data                                             |(B)[4K,8K)  |Jinan    |Others               |(C)Experience unlimited|(B)Secondary Education|\n",
            "|1      |big data warehouse engineer                                          |(D)[12K,16K)|Nanjing  |New first-tier cities|(B)More than 3 years   |(C)Undergraduate      |\n",
            "|1      |intermediate big data development engineer                           |(E)[16K,20K)|Nanjing  |New first-tier cities|(B)More than 3 years   |(C)Undergraduate      |\n",
            "|1      |senior java development engineer                                     |(D)[12K,16K)|Nanjing  |New first-tier cities|(B)More than 3 years   |(C)Undergraduate      |\n",
            "|1      |spark development engineer                                           |(E)[16K,20K)|Nanjing  |New first-tier cities|(B)More than 3 years   |(C)Undergraduate      |\n",
            "|1      |etl development engineer                                             |(C)[8K,12K) |Xiamen   |Others               |(B)More than 3 years   |(C)Undergraduate      |\n",
            "|1      |data operation                                                       |(C)[8K,12K) |Shenzhen |First-tier cities    |(A)1-3 years           |(C)Undergraduate      |\n",
            "|1      |data processing engineer changsha                                    |(C)[8K,12K) |Wuxi     |New first-tier cities|(B)More than 3 years   |(C)Undergraduate      |\n",
            "|1      |oracledba senior engineer                                            |(C)[8K,12K) |Wuhan    |New first-tier cities|(B)More than 3 years   |(C)Undergraduate      |\n",
            "+-------+---------------------------------------------------------------------+------------+---------+---------------------+-----------------------+----------------------+\n",
            "only showing top 20 rows\n",
            "\n",
            "Showing the first 20 records of cluster ID #2\n",
            "+-------+------------------------------------------------------------------------------------+------------+---------+---------------------+-----------------------+----------------------+\n",
            "|cluster|Job title                                                                           |Salary range|Location |Tier                 |Experience requirement |Education requirements|\n",
            "+-------+------------------------------------------------------------------------------------+------------+---------+---------------------+-----------------------+----------------------+\n",
            "|2      |visual software engineer                                                            |(D)[12K,16K)|Tianjin  |New first-tier cities|(A)1-3 years           |(C)Undergraduate      |\n",
            "|2      |test intern engineer                                                                |(B)[4K,8K)  |Zhengzhou|New first-tier cities|(C)Experience unlimited|(B)Secondary Education|\n",
            "|2      |test engineer                                                                       |(B)[4K,8K)  |Hangzhou |New first-tier cities|(C)Experience unlimited|(C)Undergraduate      |\n",
            "|2      |software technical director project manager and java big data architect             |(F)>20K     |Nanjing  |New first-tier cities|(B)More than 3 years   |(C)Undergraduate      |\n",
            "|2      |simulation software development engineer                                            |(D)[12K,16K)|Tianjin  |New first-tier cities|(B)More than 3 years   |(C)Undergraduate      |\n",
            "|2      |test engineer big data                                                              |(D)[12K,16K)|Guangzhou|First-tier cities    |(C)Experience unlimited|(C)Undergraduate      |\n",
            "|2      |senior software engineer hybris                                                     |(C)[8K,12K) |Tianjin  |New first-tier cities|(B)More than 3 years   |(C)Undergraduate      |\n",
            "|2      |junior software engineer                                                            |(B)[4K,8K)  |Wuhan    |New first-tier cities|(A)1-3 years           |(C)Undergraduate      |\n",
            "|2      |project manager bank software development direction java or data direction          |(F)>20K     |Nanjing  |New first-tier cities|(B)More than 3 years   |(C)Undergraduate      |\n",
            "|2      |software technical support engineer                                                 |(D)[12K,16K)|Tianjin  |New first-tier cities|(B)More than 3 years   |(C)Undergraduate      |\n",
            "|2      |test data compilation clerk                                                         |(B)[4K,8K)  |Hefei    |New first-tier cities|(C)Experience unlimited|(E)Education Unlimited|\n",
            "|2      |data and test engineer                                                              |(C)[8K,12K) |Changsha |New first-tier cities|(B)More than 3 years   |(C)Undergraduate      |\n",
            "|2      |big data test engineer                                                              |(D)[12K,16K)|Shenzhen |First-tier cities    |(B)More than 3 years   |(B)Secondary Education|\n",
            "|2      |government projectautomation test managerperformance test manager big data direction|(F)>20K     |Shenyang |New first-tier cities|(B)More than 3 years   |(B)Secondary Education|\n",
            "|2      |sales director industrial internet software project industry                        |(D)[12K,16K)|Tianjin  |New first-tier cities|(B)More than 3 years   |(C)Undergraduate      |\n",
            "|2      |data software account manager                                                       |(D)[12K,16K)|Beijing  |First-tier cities    |(A)1-3 years           |(C)Undergraduate      |\n",
            "|2      |software development centerdata security management consultant                      |(F)>20K     |Beijing  |First-tier cities    |(B)More than 3 years   |(C)Undergraduate      |\n",
            "|2      |senior java hadoop big data software engineer                                       |(D)[12K,16K)|Shanghai |First-tier cities    |(B)More than 3 years   |(C)Undergraduate      |\n",
            "|2      |java software trainer web frontend trainerbig data development trainer              |(C)[8K,12K) |Dalian   |Others               |(B)More than 3 years   |(C)Undergraduate      |\n",
            "|2      |securities data software specialistproviding accommodation j                        |(B)[4K,8K)  |Guangzhou|First-tier cities    |(C)Experience unlimited|(C)Undergraduate      |\n",
            "+-------+------------------------------------------------------------------------------------+------------+---------+---------------------+-----------------------+----------------------+\n",
            "only showing top 20 rows\n",
            "\n",
            "Showing the first 20 records of cluster ID #3\n",
            "+-------+--------------------------------------------------------+------------+---------+---------------------+-----------------------+----------------------+\n",
            "|cluster|Job title                                               |Salary range|Location |Tier                 |Experience requirement |Education requirements|\n",
            "+-------+--------------------------------------------------------+------------+---------+---------------------+-----------------------+----------------------+\n",
            "|3      |data visualization engineer assistant can practice for k|(B)[4K,8K)  |Beijing  |First-tier cities    |(C)Experience unlimited|(B)Secondary Education|\n",
            "|3      |data assistant                                          |(B)[4K,8K)  |Chengdu  |New first-tier cities|(A)1-3 years           |(C)Undergraduate      |\n",
            "|3      |a clerk data analysis assistant is urgently hired       |(A) <4K     |Dalian   |Others               |(A)1-3 years           |(C)Undergraduate      |\n",
            "|3      |data analysis assistant                                 |(B)[4K,8K)  |Guangzhou|First-tier cities    |(C)Experience unlimited|(C)Undergraduate      |\n",
            "|3      |big data analysis assistant                             |(B)[4K,8K)  |Guiyang  |Others               |(C)Experience unlimited|(B)Secondary Education|\n",
            "|3      |data analysis engineer                                  |(C)[8K,12K) |Jinan    |Others               |(B)More than 3 years   |(C)Undergraduate      |\n",
            "|3      |data analysis                                           |(C)[8K,12K) |Shanghai |First-tier cities    |(A)1-3 years           |(C)Undergraduate      |\n",
            "|3      |intern project assistant government coordination        |(B)[4K,8K)  |Tianjin  |New first-tier cities|(C)Experience unlimited|(B)Secondary Education|\n",
            "|3      |mt strategy analysis                                    |(B)[4K,8K)  |Tianjin  |New first-tier cities|(C)Experience unlimited|(E)Education Unlimited|\n",
            "|3      |data analysis assistant                                 |(B)[4K,8K)  |Xi'an    |New first-tier cities|(C)Experience unlimited|(B)Secondary Education|\n",
            "|3      |data analysis engineerchongqing                         |(C)[8K,12K) |Chongqing|New first-tier cities|(A)1-3 years           |(C)Undergraduate      |\n",
            "|3      |data analysis on weekends                               |(B)[4K,8K)  |Chengdu  |New first-tier cities|(C)Experience unlimited|(C)Undergraduate      |\n",
            "|3      |ecommerce data analysis                                 |(C)[8K,12K) |Hefei    |New first-tier cities|(A)1-3 years           |(C)Undergraduate      |\n",
            "|3      |financial data analysis                                 |(B)[4K,8K)  |Shenyang |New first-tier cities|(C)Experience unlimited|(C)Undergraduate      |\n",
            "|3      |head of data analysis                                   |(B)[4K,8K)  |Changsha |New first-tier cities|(B)More than 3 years   |(B)Secondary Education|\n",
            "|3      |planning data analysis chengduchongqingxi an            |(E)[16K,20K)|Chongqing|New first-tier cities|(A)1-3 years           |(C)Undergraduate      |\n",
            "|3      |big data analysis                                       |(F)>20K     |Chengdu  |New first-tier cities|(B)More than 3 years   |(C)Undergraduate      |\n",
            "|3      |manager of promotion and data analysis                  |(F)>20K     |Guangzhou|First-tier cities    |(B)More than 3 years   |(C)Undergraduate      |\n",
            "|3      |new media data analysis assistantwrapdouble break       |(B)[4K,8K)  |Shenzhen |First-tier cities    |(C)Experience unlimited|(B)Secondary Education|\n",
            "|3      |police coordination statistical analysis of data        |(B)[4K,8K)  |Shenzhen |First-tier cities    |(C)Experience unlimited|(C)Undergraduate      |\n",
            "+-------+--------------------------------------------------------+------------+---------+---------------------+-----------------------+----------------------+\n",
            "only showing top 20 rows\n",
            "\n",
            "Showing the first 20 records of cluster ID #4\n",
            "+-------+---------------------------------------------------------------------+------------+---------+---------------------+-----------------------+----------------------+\n",
            "|cluster|Job title                                                            |Salary range|Location |Tier                 |Experience requirement |Education requirements|\n",
            "+-------+---------------------------------------------------------------------+------------+---------+---------------------+-----------------------+----------------------+\n",
            "|4      |data clerk civilian post                                             |(G)Interview|Dalian   |Others               |(A)1-3 years           |(B)Secondary Education|\n",
            "|4      |data center infrastructure shift supervisor                          |(B)[4K,8K)  |Guangzhou|First-tier cities    |(C)Experience unlimited|(E)Education Unlimited|\n",
            "|4      |aftersales data analysis post                                        |(C)[8K,12K) |Shanghai |First-tier cities    |(A)1-3 years           |(C)Undergraduate      |\n",
            "|4      |data maintenance engineerdata maintenance supervisor                 |(C)[8K,12K) |Guangzhou|First-tier cities    |(A)1-3 years           |(C)Undergraduate      |\n",
            "|4      |todays headline data marks the post                                  |(B)[4K,8K)  |Jinan    |Others               |(C)Experience unlimited|(C)Undergraduate      |\n",
            "|4      |presales technical support                                           |(C)[8K,12K) |Zhengzhou|New first-tier cities|(A)1-3 years           |(B)Secondary Education|\n",
            "|4      |maintenance of subway parts                                          |(B)[4K,8K)  |Chongqing|New first-tier cities|(A)1-3 years           |(E)Education Unlimited|\n",
            "|4      |sasrpython data analysis and mining modeling post of bank            |(D)[12K,16K)|Shenzhen |First-tier cities    |(C)Experience unlimited|(C)Undergraduate      |\n",
            "|4      |computer technical engineer                                          |(B)[4K,8K)  |Wuhan    |New first-tier cities|(A)1-3 years           |(E)Education Unlimited|\n",
            "|4      |claims actuarialdata analysis post                                   |(B)[4K,8K)  |Jinan    |Others               |(A)1-3 years           |(C)Undergraduate      |\n",
            "|4      |data management departmentdata architecture and model management post|(G)Interview|Beijing  |First-tier cities    |(B)More than 3 years   |(C)Undergraduate      |\n",
            "|4      |data support                                                         |(C)[8K,12K) |Beijing  |First-tier cities    |(C)Experience unlimited|(B)Secondary Education|\n",
            "|4      |data director                                                        |(F)>20K     |Guangzhou|First-tier cities    |(C)Experience unlimited|(C)Undergraduate      |\n",
            "|4      |consulting supervisor data post                                      |(B)[4K,8K)  |Hangzhou |New first-tier cities|(C)Experience unlimited|(C)Undergraduate      |\n",
            "|4      |overall designer of data center jinan                                |(D)[12K,16K)|Jinan    |Others               |(C)Experience unlimited|(C)Undergraduate      |\n",
            "|4      |information collector                                                |(B)[4K,8K)  |Xi'an    |New first-tier cities|(C)Experience unlimited|(C)Undergraduate      |\n",
            "|4      |data management post                                                 |(C)[8K,12K) |Beijing  |First-tier cities    |(A)1-3 years           |(C)Undergraduate      |\n",
            "|4      |data analysis modeling post                                          |(C)[8K,12K) |Jinan    |Others               |(A)1-3 years           |(C)Undergraduate      |\n",
            "|4      |data director                                                        |(F)>20K     |Shenzhen |First-tier cities    |(C)Experience unlimited|(C)Undergraduate      |\n",
            "|4      |data analysis post                                                   |(C)[8K,12K) |Wuhan    |New first-tier cities|(B)More than 3 years   |(B)Secondary Education|\n",
            "+-------+---------------------------------------------------------------------+------------+---------+---------------------+-----------------------+----------------------+\n",
            "only showing top 20 rows\n",
            "\n",
            "Showing the first 20 records of cluster ID #5\n",
            "+-------+---------------------------------------------------------------------------------+------------+------------+---------------------+-----------------------+----------------------+\n",
            "|cluster|Job title                                                                        |Salary range|Location    |Tier                 |Experience requirement |Education requirements|\n",
            "+-------+---------------------------------------------------------------------------------+------------+------------+---------------------+-----------------------+----------------------+\n",
            "|5      |data return visit specialist                                                     |(B)[4K,8K)  |Chengdu     |New first-tier cities|(A)1-3 years           |(B)Secondary Education|\n",
            "|5      |internet data analysis specialist                                                |(B)[4K,8K)  |Chengdu     |New first-tier cities|(C)Experience unlimited|(B)Secondary Education|\n",
            "|5      |data specialist                                                                  |(B)[4K,8K)  |Hangzhou    |New first-tier cities|(C)Experience unlimited|(B)Secondary Education|\n",
            "|5      |data operations specialist                                                       |(B)[4K,8K)  |Shenzhen    |First-tier cities    |(C)Experience unlimited|(B)Secondary Education|\n",
            "|5      |data specialist                                                                  |(B)[4K,8K)  |Shenyang    |New first-tier cities|(A)1-3 years           |(B)Secondary Education|\n",
            "|5      |data analysis specialist                                                         |(G)Interview|Shijiazhuang|Others               |(A)1-3 years           |(C)Undergraduate      |\n",
            "|5      |data analysis specialist                                                         |(B)[4K,8K)  |Wuhan       |New first-tier cities|(A)1-3 years           |(C)Undergraduate      |\n",
            "|5      |operational statistics specialist                                                |(A) <4K     |Xi'an       |New first-tier cities|(A)1-3 years           |(B)Secondary Education|\n",
            "|5      |data analysis specialist                                                         |(B)[4K,8K)  |Zhengzhou   |New first-tier cities|(C)Experience unlimited|(B)Secondary Education|\n",
            "|5      |big data specialist salaries                                                     |(B)[4K,8K)  |Beijing     |First-tier cities    |(C)Experience unlimited|(B)Secondary Education|\n",
            "|5      |procurement data analysis specialist                                             |(B)[4K,8K)  |Dalian      |Others               |(A)1-3 years           |(C)Undergraduate      |\n",
            "|5      |data analysis specialist kk six insurance and one golddomestic and foreign travel|(B)[4K,8K)  |Guangzhou   |First-tier cities    |(C)Experience unlimited|(B)Secondary Education|\n",
            "|5      |asset data specialist hangzhou                                                   |(B)[4K,8K)  |Hangzhou    |New first-tier cities|(C)Experience unlimited|(B)Secondary Education|\n",
            "|5      |data analysis specialist                                                         |(B)[4K,8K)  |Jinan       |Others               |(A)1-3 years           |(C)Undergraduate      |\n",
            "|5      |data specialist                                                                  |(B)[4K,8K)  |Changsha    |New first-tier cities|(C)Experience unlimited|(B)Secondary Education|\n",
            "|5      |data analysis specialist                                                         |(B)[4K,8K)  |Chongqing   |New first-tier cities|(C)Experience unlimited|(B)Secondary Education|\n",
            "|5      |data specialist                                                                  |(B)[4K,8K)  |Chengdu     |New first-tier cities|(A)1-3 years           |(B)Secondary Education|\n",
            "|5      |the data marketing specialist has a double break                                 |(B)[4K,8K)  |Hefei       |New first-tier cities|(C)Experience unlimited|(B)Secondary Education|\n",
            "|5      |personnel data specialist takes k off                                            |(B)[4K,8K)  |Hefei       |New first-tier cities|(A)1-3 years           |(B)Secondary Education|\n",
            "|5      |senior data operations specialist                                                |(C)[8K,12K) |Shenzhen    |First-tier cities    |(A)1-3 years           |(C)Undergraduate      |\n",
            "+-------+---------------------------------------------------------------------------------+------------+------------+---------------------+-----------------------+----------------------+\n",
            "only showing top 20 rows\n",
            "\n",
            "Showing the first 20 records of cluster ID #6\n",
            "+-------+--------------------------------------------------------+------------+---------+---------------------+-----------------------+----------------------+\n",
            "|cluster|Job title                                               |Salary range|Location |Tier                 |Experience requirement |Education requirements|\n",
            "+-------+--------------------------------------------------------+------------+---------+---------------------+-----------------------+----------------------+\n",
            "|6      |financial data analyst                                  |(C)[8K,12K) |Chengdu  |New first-tier cities|(A)1-3 years           |(C)Undergraduate      |\n",
            "|6      |financial data analyst transparent promotiondouble break|(B)[4K,8K)  |Guangzhou|First-tier cities    |(C)Experience unlimited|(C)Undergraduate      |\n",
            "|6      |bi data analyst                                         |(D)[12K,16K)|Hangzhou |New first-tier cities|(B)More than 3 years   |(B)Secondary Education|\n",
            "|6      |data analyst j                                          |(D)[12K,16K)|Hangzhou |New first-tier cities|(A)1-3 years           |(C)Undergraduate      |\n",
            "|6      |patent search analyst                                   |(D)[12K,16K)|Xi'an    |New first-tier cities|(C)Experience unlimited|(C)Undergraduate      |\n",
            "|6      |senior data analyst business operations                 |(G)Interview|Beijing  |First-tier cities    |(A)1-3 years           |(C)Undergraduate      |\n",
            "|6      |data analyst                                            |(D)[12K,16K)|Beijing  |First-tier cities    |(C)Experience unlimited|(E)Education Unlimited|\n",
            "|6      |data analyst information security direction             |(C)[8K,12K) |Chengdu  |New first-tier cities|(A)1-3 years           |(C)Undergraduate      |\n",
            "|6      |data analyst advertising sales side                     |(G)Interview|Shenzhen |First-tier cities    |(A)1-3 years           |(C)Undergraduate      |\n",
            "|6      |data analyst                                            |(D)[12K,16K)|Tianjin  |New first-tier cities|(B)More than 3 years   |(B)Secondary Education|\n",
            "|6      |data analyst intelligent manufacturing                  |(D)[12K,16K)|Xi'an    |New first-tier cities|(A)1-3 years           |(D)Graduate           |\n",
            "|6      |data analyst                                            |(B)[4K,8K)  |Zhengzhou|New first-tier cities|(B)More than 3 years   |(E)Education Unlimited|\n",
            "|6      |data analyst                                            |(E)[16K,20K)|Beijing  |First-tier cities    |(B)More than 3 years   |(C)Undergraduate      |\n",
            "|6      |assistant financial data analyst                        |(B)[4K,8K)  |Tianjin  |New first-tier cities|(A)1-3 years           |(B)Secondary Education|\n",
            "|6      |senior analyst of strategic intelligence big data       |(E)[16K,20K)|Wuhan    |New first-tier cities|(B)More than 3 years   |(D)Graduate           |\n",
            "|6      |information project demand analyst                      |(D)[12K,16K)|Wuhan    |New first-tier cities|(A)1-3 years           |(C)Undergraduate      |\n",
            "|6      |financial data analyst                                  |(B)[4K,8K)  |Xi'an    |New first-tier cities|(A)1-3 years           |(C)Undergraduate      |\n",
            "|6      |data analyst                                            |(E)[16K,20K)|Xi'an    |New first-tier cities|(B)More than 3 years   |(C)Undergraduate      |\n",
            "|6      |data analyst                                            |(C)[8K,12K) |Changsha |New first-tier cities|(B)More than 3 years   |(C)Undergraduate      |\n",
            "|6      |intern data analyst                                     |(A) <4K     |Beijing  |First-tier cities    |(C)Experience unlimited|(C)Undergraduate      |\n",
            "+-------+--------------------------------------------------------+------------+---------+---------------------+-----------------------+----------------------+\n",
            "only showing top 20 rows\n",
            "\n",
            "Showing the first 20 records of cluster ID #7\n",
            "+-------+---------------------------------------------------------------------+------------+---------+---------------------+-----------------------+----------------------+\n",
            "|cluster|Job title                                                            |Salary range|Location |Tier                 |Experience requirement |Education requirements|\n",
            "+-------+---------------------------------------------------------------------+------------+---------+---------------------+-----------------------+----------------------+\n",
            "|7      |administrative assistant and front desk                              |(B)[4K,8K)  |Hangzhou |New first-tier cities|(C)Experience unlimited|(E)Education Unlimited|\n",
            "|7      |market research specialist                                           |(B)[4K,8K)  |Jinan    |Others               |(A)1-3 years           |(B)Secondary Education|\n",
            "|7      |consumer research                                                    |(D)[12K,16K)|Wuhan    |New first-tier cities|(B)More than 3 years   |(C)Undergraduate      |\n",
            "|7      |data research specialist                                             |(C)[8K,12K) |Beijing  |First-tier cities    |(C)Experience unlimited|(C)Undergraduate      |\n",
            "|7      |logistics customer service free accommodationbonus                   |(B)[4K,8K)  |Hangzhou |New first-tier cities|(C)Experience unlimited|(B)Secondary Education|\n",
            "|7      |senior data administrator                                            |(C)[8K,12K) |Guangzhou|First-tier cities    |(B)More than 3 years   |(C)Undergraduate      |\n",
            "|7      |head of guest research g                                             |(D)[12K,16K)|Guiyang  |Others               |(B)More than 3 years   |(C)Undergraduate      |\n",
            "|7      |research director of energy saving and new energy automobile industry|(D)[12K,16K)|Tianjin  |New first-tier cities|(B)More than 3 years   |(D)Graduate           |\n",
            "|7      |innovation research and customer research specialist                 |(C)[8K,12K) |Tianjin  |New first-tier cities|(A)1-3 years           |(C)Undergraduate      |\n",
            "|7      |market research specialist                                           |(B)[4K,8K)  |Chongqing|New first-tier cities|(C)Experience unlimited|(C)Undergraduate      |\n",
            "|7      |administrative commissioner                                          |(B)[4K,8K)  |Hangzhou |New first-tier cities|(C)Experience unlimited|(B)Secondary Education|\n",
            "|7      |professional manager of market research                              |(E)[16K,20K)|Jinan    |Others               |(B)More than 3 years   |(C)Undergraduate      |\n",
            "|7      |sr cdc senior clinical data administrator                            |(D)[12K,16K)|Nanjing  |New first-tier cities|(C)Experience unlimited|(C)Undergraduate      |\n",
            "|7      |k market data assistantdouble restwrap                               |(B)[4K,8K)  |Shenzhen |First-tier cities    |(C)Experience unlimited|(B)Secondary Education|\n",
            "|7      |market researchmarketingtelemarketing                                |(B)[4K,8K)  |Wuhan    |New first-tier cities|(A)1-3 years           |(B)Secondary Education|\n",
            "|7      |integrated marketing industry big data                               |(D)[12K,16K)|Nanjing  |New first-tier cities|(B)More than 3 years   |(C)Undergraduate      |\n",
            "|7      |manpower sharing centeronsite customer service consultant            |(B)[4K,8K)  |Wuhan    |New first-tier cities|(C)Experience unlimited|(C)Undergraduate      |\n",
            "|7      |clinical data administrator                                          |(B)[4K,8K)  |Wuhan    |New first-tier cities|(A)1-3 years           |(C)Undergraduate      |\n",
            "|7      |researcher                                                           |(B)[4K,8K)  |Wuhan    |New first-tier cities|(A)1-3 years           |(C)Undergraduate      |\n",
            "|7      |market research                                                      |(D)[12K,16K)|Wuhan    |New first-tier cities|(C)Experience unlimited|(E)Education Unlimited|\n",
            "+-------+---------------------------------------------------------------------+------------+---------+---------------------+-----------------------+----------------------+\n",
            "only showing top 20 rows\n",
            "\n",
            "Showing the first 20 records of cluster ID #8\n",
            "+-------+------------------------------------------------------------------------------+------------+------------+---------------------+-----------------------+----------------------+\n",
            "|cluster|Job title                                                                     |Salary range|Location    |Tier                 |Experience requirement |Education requirements|\n",
            "+-------+------------------------------------------------------------------------------+------------+------------+---------------------+-----------------------+----------------------+\n",
            "|8      |hr specialistpartial data                                                     |(D)[12K,16K)|Shanghai    |First-tier cities    |(B)More than 3 years   |(C)Undergraduate      |\n",
            "|8      |data processing                                                               |(B)[4K,8K)  |Shenyang    |New first-tier cities|(A)1-3 years           |(C)Undergraduate      |\n",
            "|8      |data statistician                                                             |(B)[4K,8K)  |Wuhan       |New first-tier cities|(C)Experience unlimited|(B)Secondary Education|\n",
            "|8      |data processing specialistcivil basic salary yuanmonthperformance bonussubsidy|(B)[4K,8K)  |Chengdu     |New first-tier cities|(C)Experience unlimited|(B)Secondary Education|\n",
            "|8      |data annotation                                                               |(G)Interview|Chengdu     |New first-tier cities|(C)Experience unlimited|(E)Education Unlimited|\n",
            "|8      |data annotator can practice                                                   |(B)[4K,8K)  |Chengdu     |New first-tier cities|(C)Experience unlimited|(B)Secondary Education|\n",
            "|8      |data optimization                                                             |(B)[4K,8K)  |Guangzhou   |First-tier cities    |(A)1-3 years           |(B)Secondary Education|\n",
            "|8      |data analysthefei                                                             |(C)[8K,12K) |Hefei       |New first-tier cities|(B)More than 3 years   |(C)Undergraduate      |\n",
            "|8      |data engineershenzhen                                                         |(D)[12K,16K)|Shenzhen    |First-tier cities    |(A)1-3 years           |(C)Undergraduate      |\n",
            "|8      |data processing specialistcivilian                                            |(B)[4K,8K)  |Xi'an       |New first-tier cities|(C)Experience unlimited|(B)Secondary Education|\n",
            "|8      |data annotation intern                                                        |(A) <4K     |Nanjing     |New first-tier cities|(C)Experience unlimited|(C)Undergraduate      |\n",
            "|8      |head office guan peisheng it data direction                                   |(C)[8K,12K) |Shenzhen    |First-tier cities    |(C)Experience unlimited|(C)Undergraduate      |\n",
            "|8      |office data librarian                                                         |(B)[4K,8K)  |Shijiazhuang|Others               |(C)Experience unlimited|(B)Secondary Education|\n",
            "|8      |data reduction                                                                |(B)[4K,8K)  |Xi'an       |New first-tier cities|(B)More than 3 years   |(B)Secondary Education|\n",
            "|8      |hightech design of distributed virtualized storage system                     |(C)[8K,12K) |Zhengzhou   |New first-tier cities|(A)1-3 years           |(D)Graduate           |\n",
            "|8      |advanced data operationschengdu j                                             |(C)[8K,12K) |Chengdu     |New first-tier cities|(B)More than 3 years   |(C)Undergraduate      |\n",
            "|8      |data coordinator intern hangzhou school recruitment                           |(B)[4K,8K)  |Hangzhou    |New first-tier cities|(C)Experience unlimited|(C)Undergraduate      |\n",
            "|8      |data analystdouble leave                                                      |(B)[4K,8K)  |Xi'an       |New first-tier cities|(C)Experience unlimited|(C)Undergraduate      |\n",
            "|8      |shuangxiuart design                                                           |(B)[4K,8K)  |Chongqing   |New first-tier cities|(C)Experience unlimited|(E)Education Unlimited|\n",
            "|8      |statistician                                                                  |(A) <4K     |Chongqing   |New first-tier cities|(A)1-3 years           |(B)Secondary Education|\n",
            "+-------+------------------------------------------------------------------------------+------------+------------+---------------------+-----------------------+----------------------+\n",
            "only showing top 20 rows\n",
            "\n",
            "Showing the first 20 records of cluster ID #9\n",
            "+-------+---------------------------------------------------------+------------+------------+---------------------+-----------------------+----------------------+\n",
            "|cluster|Job title                                                |Salary range|Location    |Tier                 |Experience requirement |Education requirements|\n",
            "+-------+---------------------------------------------------------+------------+------------+---------------------+-----------------------+----------------------+\n",
            "|9      |data management consultantdata quality direction         |(D)[12K,16K)|Beijing     |First-tier cities    |(B)More than 3 years   |(B)Secondary Education|\n",
            "|9      |data product manager                                     |(F)>20K     |Chengdu     |New first-tier cities|(B)More than 3 years   |(B)Secondary Education|\n",
            "|9      |senior regional sales manager                            |(C)[8K,12K) |Nanjing     |New first-tier cities|(A)1-3 years           |(B)Secondary Education|\n",
            "|9      |data center product manager                              |(F)>20K     |Ningbo      |Others               |(B)More than 3 years   |(C)Undergraduate      |\n",
            "|9      |senior data programming managerdata programming manager j|(F)>20K     |Shanghai    |First-tier cities    |(B)More than 3 years   |(D)Graduate           |\n",
            "|9      |idc data center computer room project manager            |(C)[8K,12K) |Shijiazhuang|Others               |(A)1-3 years           |(B)Secondary Education|\n",
            "|9      |project assistantpublic management direction             |(B)[4K,8K)  |Changchun   |Others               |(A)1-3 years           |(C)Undergraduate      |\n",
            "|9      |jinba mens wear commodity manager                        |(D)[12K,16K)|Zhengzhou   |New first-tier cities|(B)More than 3 years   |(B)Secondary Education|\n",
            "|9      |data model design manager                                |(F)>20K     |Beijing     |First-tier cities    |(B)More than 3 years   |(C)Undergraduate      |\n",
            "|9      |big data product manager                                 |(G)Interview|Chengdu     |New first-tier cities|(B)More than 3 years   |(C)Undergraduate      |\n",
            "|9      |project manager                                          |(C)[8K,12K) |Dalian      |Others               |(B)More than 3 years   |(C)Undergraduate      |\n",
            "|9      |department manager real estate data integration          |(D)[12K,16K)|Guangzhou   |First-tier cities    |(B)More than 3 years   |(B)Secondary Education|\n",
            "|9      |regional sales manager jinan                             |(B)[4K,8K)  |Jinan       |Others               |(A)1-3 years           |(B)Secondary Education|\n",
            "|9      |after sales engineer                                     |(B)[4K,8K)  |Nanjing     |New first-tier cities|(A)1-3 years           |(B)Secondary Education|\n",
            "|9      |regional sales manager of network products liaoning      |(B)[4K,8K)  |Shenyang    |New first-tier cities|(A)1-3 years           |(B)Secondary Education|\n",
            "|9      |project manager smart city big data direction            |(D)[12K,16K)|Wuhan       |New first-tier cities|(B)More than 3 years   |(C)Undergraduate      |\n",
            "|9      |collection manager                                       |(D)[12K,16K)|Changsha    |New first-tier cities|(B)More than 3 years   |(B)Secondary Education|\n",
            "|9      |sales specialistmanagerbig data public opinion           |(B)[4K,8K)  |Hangzhou    |New first-tier cities|(C)Experience unlimited|(E)Education Unlimited|\n",
            "|9      |city manager accept national assignment                  |(D)[12K,16K)|Tianjin     |New first-tier cities|(B)More than 3 years   |(C)Undergraduate      |\n",
            "|9      |project manager big data                                 |(E)[16K,20K)|Xi'an       |New first-tier cities|(B)More than 3 years   |(C)Undergraduate      |\n",
            "+-------+---------------------------------------------------------+------------+------------+---------------------+-----------------------+----------------------+\n",
            "only showing top 20 rows\n",
            "\n"
          ]
        }
      ],
      "source": [
        "# Get unique values in the grouping column\n",
        "clusters = sorted([x[0] for x in clusters_df.select(\"cluster\").distinct().collect()])\n",
        "print(\"Cluster IDs: [{:s}]\".format(\", \".join([str(c) for c in clusters])))\n",
        "\n",
        "# Create a filtered DataFrame for each group in a list comprehension\n",
        "cluster_list = [clusters_df.where(clusters_df.cluster == x) for x in clusters]\n",
        "\n",
        "# Show the results\n",
        "for x_id, x in enumerate(cluster_list):\n",
        "  print(\"Showing the first 20 records of cluster ID #{:d}\".format(x_id))\n",
        "  x.select([\"cluster\", \"Job title\", \"Salary range\", \"Location\", \"Tier\", \"Experience requirement\", \"Education requirements\"]).show(20, truncate=False)"
      ]
    },
    {
      "cell_type": "markdown",
      "metadata": {
        "id": "-wOxjzy8HiMx"
      },
      "source": [
        "# **Cluster Data Analysis**"
      ]
    },
    {
      "cell_type": "markdown",
      "metadata": {
        "id": "Ow4me2zdHmCF"
      },
      "source": [
        "### Show the first 10 most frequently occuring terms in each cluster [5 Marks]"
      ]
    },
    {
      "cell_type": "code",
      "execution_count": 49,
      "metadata": {
        "colab": {
          "base_uri": "https://localhost:8080/"
        },
        "id": "ApUjd4Qp9q7Z",
        "outputId": "edb2765e-07a5-4645-a719-afdb79d02ba0"
      },
      "outputs": [
        {
          "output_type": "stream",
          "name": "stdout",
          "text": [
            "The shape of the dataset is 1156 rows by 1 columns\n",
            "Showing the highest 10 frequency terms for Cluster 0\n",
            "+----------+-----+\n",
            "|      word|count|\n",
            "+----------+-----+\n",
            "|      data|  787|\n",
            "|     clerk|  423|\n",
            "|       one|  258|\n",
            "|     entry|  219|\n",
            "|     break|  205|\n",
            "| insurance|  184|\n",
            "|    double|  182|\n",
            "|      gold|  181|\n",
            "|         k|  180|\n",
            "|statistics|  159|\n",
            "+----------+-----+\n",
            "only showing top 10 rows\n",
            "\n",
            "The shape of the dataset is 4183 rows by 1 columns\n",
            "Showing the highest 10 frequency terms for Cluster 1\n",
            "+-----------+-----+\n",
            "|       word|count|\n",
            "+-----------+-----+\n",
            "|       data| 3335|\n",
            "|   engineer| 2979|\n",
            "|development| 1618|\n",
            "|        big| 1608|\n",
            "|  operation|  367|\n",
            "|     senior|  274|\n",
            "|  architect|  202|\n",
            "|   database|  187|\n",
            "|  warehouse|  178|\n",
            "| operations|  140|\n",
            "+-----------+-----+\n",
            "only showing top 10 rows\n",
            "\n",
            "The shape of the dataset is 321 rows by 1 columns\n",
            "Showing the highest 10 frequency terms for Cluster 2\n",
            "+-----------+-----+\n",
            "|       word|count|\n",
            "+-----------+-----+\n",
            "|   software|  205|\n",
            "|   engineer|  185|\n",
            "|       data|  157|\n",
            "|       test|  127|\n",
            "|development|   72|\n",
            "|        big|   63|\n",
            "|       java|   29|\n",
            "|    manager|   29|\n",
            "|      sales|   28|\n",
            "|     senior|   22|\n",
            "+-----------+-----+\n",
            "only showing top 10 rows\n",
            "\n",
            "The shape of the dataset is 1567 rows by 1 columns\n",
            "Showing the highest 10 frequency terms for Cluster 3\n",
            "+----------+-----+\n",
            "|      word|count|\n",
            "+----------+-----+\n",
            "|      data| 1332|\n",
            "|  analysis| 1215|\n",
            "| assistant|  285|\n",
            "|  engineer|  236|\n",
            "|  business|  130|\n",
            "|consultant|  101|\n",
            "|       big|   95|\n",
            "|      head|   90|\n",
            "|operations|   73|\n",
            "|     sales|   72|\n",
            "+----------+-----+\n",
            "only showing top 10 rows\n",
            "\n",
            "The shape of the dataset is 614 rows by 1 columns\n",
            "Showing the highest 10 frequency terms for Cluster 4\n",
            "+----------+-----+\n",
            "|      word|count|\n",
            "+----------+-----+\n",
            "|      data|  457|\n",
            "|      post|  330|\n",
            "|    center|  115|\n",
            "| technical|  109|\n",
            "|  analysis|  103|\n",
            "|   support|  102|\n",
            "|  engineer|   70|\n",
            "| operation|   53|\n",
            "|  director|   51|\n",
            "|management|   50|\n",
            "+----------+-----+\n",
            "only showing top 10 rows\n",
            "\n",
            "The shape of the dataset is 1096 rows by 1 columns\n",
            "Showing the highest 10 frequency terms for Cluster 5\n",
            "+----------+-----+\n",
            "|      word|count|\n",
            "+----------+-----+\n",
            "|specialist| 1050|\n",
            "|      data|  835|\n",
            "|  analysis|  217|\n",
            "|operations|  123|\n",
            "| commodity|  123|\n",
            "|processing|   43|\n",
            "|management|   38|\n",
            "|         k|   24|\n",
            "|     sales|   22|\n",
            "|  labeling|   22|\n",
            "+----------+-----+\n",
            "only showing top 10 rows\n",
            "\n",
            "The shape of the dataset is 1379 rows by 1 columns\n",
            "Showing the highest 10 frequency terms for Cluster 6\n",
            "+---------+-----+\n",
            "|     word|count|\n",
            "+---------+-----+\n",
            "|  analyst| 1374|\n",
            "|     data| 1327|\n",
            "|financial|   76|\n",
            "|   senior|   69|\n",
            "|      big|   57|\n",
            "|assistant|   53|\n",
            "|        k|   41|\n",
            "| business|   32|\n",
            "|    break|   29|\n",
            "|        j|   24|\n",
            "+---------+-----+\n",
            "only showing top 10 rows\n",
            "\n",
            "The shape of the dataset is 669 rows by 1 columns\n",
            "Showing the highest 10 frequency terms for Cluster 7\n",
            "+-------------+-----+\n",
            "|         word|count|\n",
            "+-------------+-----+\n",
            "|         data|  278|\n",
            "|     research|  186|\n",
            "|      service|  158|\n",
            "|       market|  145|\n",
            "|     customer|  145|\n",
            "|   researcher|   81|\n",
            "|    marketing|   70|\n",
            "|          big|   69|\n",
            "|administrator|   59|\n",
            "|      manager|   47|\n",
            "+-------------+-----+\n",
            "only showing top 10 rows\n",
            "\n",
            "The shape of the dataset is 1370 rows by 1 columns\n",
            "Showing the highest 10 frequency terms for Cluster 8\n",
            "+------------+-----+\n",
            "|        word|count|\n",
            "+------------+-----+\n",
            "|        data| 1181|\n",
            "|statistician|  241|\n",
            "|  processing|  181|\n",
            "|      intern|  133|\n",
            "|  annotation|  103|\n",
            "|   processor|   84|\n",
            "|   annotator|   54|\n",
            "|  supervisor|   43|\n",
            "|    designer|   41|\n",
            "|     mapping|   39|\n",
            "+------------+-----+\n",
            "only showing top 10 rows\n",
            "\n",
            "The shape of the dataset is 1692 rows by 1 columns\n",
            "Showing the highest 10 frequency terms for Cluster 9\n",
            "+----------+-----+\n",
            "|      word|count|\n",
            "+----------+-----+\n",
            "|   manager| 1058|\n",
            "|      data|  976|\n",
            "|     sales|  448|\n",
            "|   product|  428|\n",
            "|   project|  252|\n",
            "|management|  205|\n",
            "|       big|  184|\n",
            "|    senior|  109|\n",
            "|    center|  108|\n",
            "| direction|   95|\n",
            "+----------+-----+\n",
            "only showing top 10 rows\n",
            "\n"
          ]
        }
      ],
      "source": [
        "from pyspark.ml.feature import StopWordsRemover\n",
        "from pyspark.sql.functions import split, explode, col, count, desc\n",
        "\n",
        "# Define a list of stop words\n",
        "stop_words = ['and', 'of', 'in']\n",
        "\n",
        "for x_id, x in enumerate(cluster_list):\n",
        "    Job_title = x.select(\"Job title\")\n",
        "    print(\"The shape of the dataset is {:d} rows by {:d} columns\".format(Job_title.count(), len(Job_title.columns)))\n",
        "    Job_title_split = Job_title.select(split(col(\"Job title\"), '\\s+').alias('split'))\n",
        "    remover = StopWordsRemover(inputCol=\"split\", outputCol=\"filtered\", stopWords=stop_words)\n",
        "    Job_title_filtered = remover.transform(Job_title_split)\n",
        "    Job_title_exploded = Job_title_filtered.select(explode(col(\"filtered\")).alias('word'))\n",
        "    Job_title_clean = Job_title_exploded.where(col(\"word\") != '')\n",
        "    print(\"Showing the highest 10 frequency terms for Cluster {:d}\".format(x_id))\n",
        "    Job_title_clean.groupBy(\"word\").count().orderBy(desc(\"count\")).show(10)\n",
        "\n"
      ]
    },
    {
      "cell_type": "markdown",
      "metadata": {
        "id": "gi9-i8CjHssT"
      },
      "source": [
        "### Salary range analysis of jobs according to city tier system [5 Marks]"
      ]
    },
    {
      "cell_type": "code",
      "execution_count": 50,
      "metadata": {
        "colab": {
          "base_uri": "https://localhost:8080/",
          "height": 550
        },
        "id": "g0AxNLM0z9iU",
        "outputId": "eca33e4a-dd3a-4104-da77-fa36245adaed"
      },
      "outputs": [
        {
          "output_type": "display_data",
          "data": {
            "text/plain": [
              "<Figure size 640x480 with 1 Axes>"
            ],
            "image/png": "[encoded data removed]"
          },
          "metadata": {}
        }
      ],
      "source": [
        "import pandas as pd\n",
        "import matplotlib.pyplot as plt\n",
        "\n",
        "\n",
        "dfs = []\n",
        "\n",
        "for x_id, x in enumerate(cluster_list):\n",
        "    tier_salary_counts = x.groupBy(\"Tier\", \"Salary Range\").count()\n",
        "    tier_salary_counts_pd = tier_salary_counts.toPandas()\n",
        "    tier_salary_counts_pd['Cluster'] = x_id\n",
        "    dfs.append(tier_salary_counts_pd)\n",
        "\n",
        "df = pd.concat(dfs)\n",
        "df_pivot = df.pivot_table(index='Tier', columns='Salary Range', values='count', aggfunc='sum')\n",
        "df_pivot = df_pivot.fillna(0) \n",
        "\n",
        "\n",
        "df_pivot = df_pivot / df_pivot.sum().sum()\n",
        "df_pivot = df_pivot * 100\n",
        "df_pivot = df_pivot[df_pivot.columns[::-1]]\n",
        "\n",
        "ax = df_pivot.plot(kind='bar', stacked=True, edgecolor='black', width=0.9)\n",
        "handles, labels = ax.get_legend_handles_labels()\n",
        "plt.legend(handles[::-1], labels[::-1], loc='center left', bbox_to_anchor=(1, 0.5), title='Salary range')\n",
        "plt.ylabel('Percentage')\n",
        "plt.xlabel('Tier')\n",
        "plt.show()"
      ]
    },
    {
      "cell_type": "markdown",
      "metadata": {
        "id": "2KK8I3rXtFbS"
      },
      "source": [
        "### Proportions of jobs available in each cluster [5 Marks]"
      ]
    },
    {
      "cell_type": "code",
      "execution_count": 51,
      "metadata": {
        "id": "e8-za2_l2GMa",
        "colab": {
          "base_uri": "https://localhost:8080/",
          "height": 423
        },
        "outputId": "8e1a9518-1d87-479b-8e04-169013625e48"
      },
      "outputs": [
        {
          "output_type": "execute_result",
          "data": {
            "text/plain": [
              "Text(0, 0.5, '')"
            ]
          },
          "metadata": {},
          "execution_count": 51
        },
        {
          "output_type": "display_data",
          "data": {
            "text/plain": [
              "<Figure size 640x480 with 1 Axes>"
            ],
            "image/png": "[encoded data removed]"
          },
          "metadata": {}
        }
      ],
      "source": [
        "\n",
        "cluster_sizes = [] \n",
        "\n",
        "for x_id, x in enumerate(cluster_list):\n",
        "    Job_title = x.select(\"Job title\")\n",
        "    cluster_size = x.count()\n",
        "    cluster_sizes.append(cluster_size) \n",
        "\n",
        "cluster_labels = [f'Cluster {i}' for i in range(len(cluster_sizes))]\n",
        "df = pd.DataFrame({'Cluster Size': cluster_sizes}, index=cluster_labels)\n",
        "\n",
        "ax = df.plot.pie(y='Cluster Size', autopct='%.1f%%', legend=False)\n",
        "ax.set_ylabel('')"
      ]
    },
    {
      "cell_type": "markdown",
      "metadata": {
        "id": "kwi6W-nuGyC6"
      },
      "source": [
        "### Education requirements analysis of jobs in each cluster [5 Marks]\n"
      ]
    },
    {
      "cell_type": "code",
      "execution_count": 52,
      "metadata": {
        "colab": {
          "base_uri": "https://localhost:8080/",
          "height": 438
        },
        "id": "u2sFwMa5CnRl",
        "outputId": "adfc0ad9-a6c1-42f2-c50f-cfc343aaf2b4"
      },
      "outputs": [
        {
          "output_type": "display_data",
          "data": {
            "text/plain": [
              "<Figure size 640x480 with 1 Axes>"
            ],
            "image/png": "[encoded data removed]"
          },
          "metadata": {}
        }
      ],
      "source": [
        "dfs = []\n",
        "\n",
        "for x_id, x in enumerate(cluster_list):\n",
        "    education_requirements = x.groupBy(\"Education requirements\").count()\n",
        "    education_requirements_pd = education_requirements.toPandas()\n",
        "    education_requirements_pd['Cluster'] = x_id\n",
        "    dfs.append(education_requirements_pd)\n",
        "\n",
        "\n",
        "df = pd.concat(dfs)\n",
        "df_pivot = df.pivot(index='Cluster', columns='Education requirements', values='count')\n",
        "df_pivot = df_pivot.fillna(0)\n",
        "\n",
        "\n",
        "df_pivot = df_pivot / df_pivot.sum().sum()\n",
        "df_pivot = df_pivot * 100\n",
        "df_pivot = df_pivot[df_pivot.columns[::-1]]\n",
        "df_pivot.index = ['Cluster ' + str(i) for i in df_pivot.index]\n",
        "\n",
        "\n",
        "ax = df_pivot.plot(kind='bar', stacked=True, edgecolor='black', width=0.8)\n",
        "handles, labels = ax.get_legend_handles_labels()\n",
        "plt.legend(handles[::-1], labels[::-1], loc='center left', bbox_to_anchor=(1, 0.5), title='Education requirements')\n",
        "plt.ylabel('Percentage')\n",
        "plt.xlabel('cluster')\n",
        "plt.show()"
      ]
    },
    {
      "cell_type": "markdown",
      "metadata": {
        "id": "SOdMkIwdXBTr"
      },
      "source": [
        "### Experience requirements analysis of jobs in each cluster [5 Marks]"
      ]
    },
    {
      "cell_type": "code",
      "execution_count": 53,
      "metadata": {
        "colab": {
          "base_uri": "https://localhost:8080/",
          "height": 356
        },
        "id": "Ukyh8exgXFBQ",
        "outputId": "f8510fb4-d8db-4c50-da63-89f8cb071095"
      },
      "outputs": [
        {
          "output_type": "display_data",
          "data": {
            "text/plain": [
              "<Figure size 1000x600 with 1 Axes>"
            ],
            "image/png": "[encoded data removed]"
          },
          "metadata": {}
        }
      ],
      "source": [
        "dfs = []\n",
        "\n",
        "order = [\"(A)1-3 years\", \"(B)More than 3 years\", \"(C)Experience unlimited\"]\n",
        "\n",
        "for x_id, x in enumerate(cluster_list):\n",
        "    education_requirements = x.groupBy(\"Experience requirement\").count()\n",
        "    education_requirements_pd = education_requirements.toPandas()\n",
        "    education_requirements_pd['Cluster'] = f'Cluster {x_id}'\n",
        "    dfs.append(education_requirements_pd)\n",
        "\n",
        "\n",
        "df = pd.concat(dfs)\n",
        "total_count = df['count'].sum()\n",
        "df['Percentage'] = df['count'] / total_count * 100\n",
        "df['Experience requirement'] = pd.Categorical(df['Experience requirement'], order)\n",
        "\n",
        "plt.figure(figsize=(10,6))\n",
        "sns.barplot(data=df, x='Cluster', y='Percentage', hue='Experience requirement', edgecolor='black')\n",
        "plt.legend(loc='center left', bbox_to_anchor=(1, 0.5), title='Experience requirement')\n",
        "plt.ylabel('Percentage')\n",
        "plt.xlabel('Cluster')\n",
        "plt.show()"
      ]
    },
    {
      "cell_type": "markdown",
      "metadata": {
        "id": "G5kvZInZXGJe"
      },
      "source": [
        "###Why do you think the majority of job adverts falling in Cluster 1 and Cluster 9 require `More than 3 years` experience? Provide your answer here. [10 Marks]\n",
        "\n",
        "\n",
        "1. Looking at Cluster 9 and cluster one, the most frequent terms in these clusters are \"manager\", \"management\", \"senior\", \"engineer\". These are manageral positions which would require more experience. More complex or senior roles often require a certain level of expertise that can only be gained through experience. Industries and roles with steep learning curves may require applicants to have had time to learn, make mistakes, and develop their skills. Experience is a way of ensuring that an applicant has this expertise.\n",
        "\n",
        "2. The salary in cluster 1 and cluster 9 is the higher than the averages of other clusters. This would suggest that these jobs require more experience as the salary is high."
      ]
    },
    {
      "cell_type": "markdown",
      "metadata": {
        "id": "7KdQtW57YFeO"
      },
      "source": [
        "### Salary range analysis of jobs in each cluster [5 Marks]"
      ]
    },
    {
      "cell_type": "code",
      "execution_count": 54,
      "metadata": {
        "id": "e3J0k9C_YK5X",
        "colab": {
          "base_uri": "https://localhost:8080/",
          "height": 483
        },
        "outputId": "ad11dd76-f415-49ef-c226-3f408f95c1d1"
      },
      "outputs": [
        {
          "output_type": "display_data",
          "data": {
            "text/plain": [
              "<Figure size 640x480 with 1 Axes>"
            ],
            "image/png": "[encoded data removed]"
          },
          "metadata": {}
        }
      ],
      "source": [
        "dfs = []\n",
        "\n",
        "for x_id, x in enumerate(cluster_list):\n",
        "    education_requirements = x.groupBy(\"Salary range\").count()\n",
        "    education_requirements_pd = education_requirements.toPandas()\n",
        "    education_requirements_pd['Cluster'] = x_id\n",
        "    dfs.append(education_requirements_pd)\n",
        "\n",
        "df = pd.concat(dfs)\n",
        "\n",
        "\n",
        "df_pivot = df.pivot(index='Cluster', columns='Salary range', values='count')\n",
        "df_pivot = df_pivot.fillna(0) \n",
        "\n",
        "df_pivot = df_pivot / df_pivot.sum().sum()\n",
        "df_pivot = df_pivot * 100\n",
        "df_pivot = df_pivot[df_pivot.columns[::-1]]\n",
        "df_pivot.index = ['Cluster ' + str(i) for i in df_pivot.index]\n",
        "\n",
        "\n",
        "ax = df_pivot.plot(kind='bar', stacked=True, edgecolor='black', width=0.8)\n",
        "handles, labels = ax.get_legend_handles_labels()\n",
        "plt.legend(handles[::-1], labels[::-1], loc='center left', bbox_to_anchor=(1, 0.5), title='Salary range')\n",
        "plt.ylabel('Percentage')\n",
        "plt.xlabel('cluster')\n",
        "plt.show()\n",
        "    "
      ]
    },
    {
      "cell_type": "markdown",
      "metadata": {
        "id": "r1gtL2xkYMMp"
      },
      "source": [
        "### Why do you think that jobs in Cluster 1 and Cluster 9 have a higher salary range compared to other clusters? Please provide your answer here. [10 Marks]\n",
        "\n",
        "1. The \"Salary range analysis of jobs according to city tier system\" shows the higest earners stay in First Tier and First-New-Tier cities. This would mean Cluster 1 and Cluster 9 jobs reside in this city. It would also confirm why cluster 1 and cluster 9 have majority of the jobs as cities tend to offer more employement oppurtunies. \n",
        "\n",
        "2. Cluster 1 and Cluster 9 have more undergraduate and graduate education requirements compared to the rest of the clusters. Undergraduate and above level suggest high to advanced levels of technical work required which would have a higher salary. \n",
        "\n",
        "3. The percentage of jobs in cluster 1 and cluster 9 are high. The demand of jobs is very high. In this case there is a high demand of people in the field of data sciences which would make salaries competitive.\n",
        "\n",
        "4. Looking at experience cluster 1 and cluster 9 need more experience for the job which suggest a higher salary"
      ]
    },
    {
      "cell_type": "markdown",
      "metadata": {
        "id": "kNNojdNOYp3J"
      },
      "source": [
        "### Please critically evaluate the performance of the implementation of the K-means text clustering method in this notebook and provide suggestions for enhancing its performance. You are not required to implement your suggestions. Please provider your answer here. [10 Marks]\n",
        "\n"
      ]
    },
    {
      "cell_type": "markdown",
      "source": [
        "1. Confergence\n",
        "The tolerence of the clustering is tol=0.000001, which is has a high tolerence. 50 iterations will also ensure that the data has reached convergence, meaning it is as close to the cluster point as possible. \n",
        "\n",
        "2. The use of cosine distance\n",
        "The use of cosine distances would not have mattered if it or euclidean was used. There are six features, which is not consired a high number of dimension. Euclidean distance would have effetively worked in this instance\n",
        "\n",
        "3. Silhoutte Coefficent and WSSS\n",
        "Looking at which cluster was taken, 10, it was the lowest value in the WSSS vs cluster graph(Elbow graph). The max cluster size defined in the beginning was 10, however this had no reason for it other than bieng the max cluster size. The Silhoute Coefficent (measure of how similar an object is to its own cluster compaed to other clusters) which is a scale from -1 to 1 compared to the Silhoute distance in the K = 10 (0.238) indicated that clusters are not well separated from each other. A silhoutte coefficent near 0 suggests that the decision boundary between two neighboring clusters. I higher Silhoute Coefficient would ensure better clustered data. \n",
        "\n",
        "Drawing the elbow graph from 5-50 clusters would ensure a proper sized cluster as it would be taken at the elbow where more data would. Four cluster sizes were investigated using the \"do clustering\"\n",
        "\n",
        "Running K-means using K = 15\n",
        "- Silhouette coefficient computed with cosine distance: 0.295\n",
        "- Within-cluster Sum of Squared Distances (using cosine distance): 5600.671\n",
        "\n",
        "Running K-means using K = 25\n",
        "- Silhouette coefficient computed with cosine distance: 0.374\n",
        "- Within-cluster Sum of Squared Distances (using cosine distance): 4437.035\n",
        "\n",
        "Running K-means using K = 35\n",
        "- Silhouette coefficient computed with cosine distance: 0.413\n",
        "- Within-cluster Sum of Squared Distances (using cosine distance): 3714.783\n",
        "\n",
        "Running K-means using K = 45\n",
        "- Silhouette coefficient computed with cosine distance: 0.447\n",
        "- Within-cluster Sum of Squared Distances (using cosine distance): 288\n",
        "\n",
        "This shows that 10 clusters is not the opitmal cluster size. Drawing the elbow graph would ensure correct cluster size selection\n",
        "\n",
        "\n",
        "\n"
      ],
      "metadata": {
        "id": "I-TnyAvvzG9e"
      }
    }
  ],
  "metadata": {
    "colab": {
      "provenance": []
    },
    "kernelspec": {
      "display_name": "Python 3",
      "name": "python3"
    },
    "language_info": {
      "name": "python"
    }
  },
  "nbformat": 4,
  "nbformat_minor": 0
}